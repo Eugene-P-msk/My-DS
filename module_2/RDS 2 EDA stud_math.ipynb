{
 "cells": [
  {
   "cell_type": "markdown",
   "id": "cleared-tractor",
   "metadata": {},
   "source": [
    "\n",
    "# Разработка модели предсказания результатов госэкзамена по математике для каждого ученика школы.\n",
    "\n",
    "Суть проекта — отследить влияние условий жизни учащихся в возрасте от 15 до 22 лет на их успеваемость по математике, чтобы на ранней стадии выявлять студентов, находящихся в группе риска. \n",
    "\n",
    "\n",
    "## Описания данных.\n",
    "\n",
    "1 school — аббревиатура школы, в которой учится ученик\n",
    "\n",
    "2 sex — пол ученика ('F' - женский, 'M' - мужской)\n",
    "\n",
    "3 age — возраст ученика (от 15 до 22)\n",
    "\n",
    "4 address — тип адреса ученика ('U' - городской, 'R' - за городом)\n",
    "\n",
    "5 famsize — размер семьи('LE3' <= 3, 'GT3' >3)\n",
    "\n",
    "6 Pstatus — статус совместного жилья родителей ('T' - живут вместе 'A' - раздельно)\n",
    "\n",
    "7 Medu — образование матери (0 - нет, 1 - 4 класса, 2 - 5-9 классы, 3 - среднее специальное или 11 классов, 4 - высшее)\n",
    "\n",
    "8 Fedu — образование отца (0 - нет, 1 - 4 класса, 2 - 5-9 классы, 3 - среднее специальное или 11 классов, 4 - высшее)\n",
    "\n",
    "9 Mjob — работа матери ('teacher' - учитель, 'health' - сфера здравоохранения, 'services' - гос служба, 'at_home' - не работает, 'other' - другое)\n",
    "\n",
    "10 Fjob — работа отца ('teacher' - учитель, 'health' - сфера здравоохранения, 'services' - гос служба, 'at_home' - не работает, 'other' - другое)\n",
    "\n",
    "11 reason — причина выбора школы ('home' - близость к дому, 'reputation' - репутация школы, 'course' - образовательная программа, 'other' - другое)\n",
    "\n",
    "12 guardian — опекун ('mother' - мать, 'father' - отец, 'other' - другое)\n",
    "\n",
    "13 traveltime — время в пути до школы (1 - <15 мин., 2 - 15-30 мин., 3 - 30-60 мин., 4 - >60 мин.)\n",
    "\n",
    "14 studytime — время на учёбу помимо школы в неделю (1 - <2 часов, 2 - 2-5 часов, 3 - 5-10 часов, 4 - >10 часов)\n",
    "\n",
    "15 failures — количество внеучебных неудач (n, если 1<=n<=3, иначе 0)\n",
    "\n",
    "16 schoolsup — дополнительная образовательная поддержка (yes или no)\n",
    "\n",
    "17 famsup — семейная образовательная поддержка (yes или no)\n",
    "\n",
    "18 paid — дополнительные платные занятия по математике (yes или no)\n",
    "\n",
    "19 activities — дополнительные внеучебные занятия (yes или no)\n",
    "\n",
    "20 nursery — посещал детский сад (yes или no)\n",
    "\n",
    "21 higher — хочет получить высшее образование (yes или no)\n",
    "\n",
    "22 internet — наличие интернета дома (yes или no)\n",
    "\n",
    "23 romantic — в романтических отношениях (yes или no)\n",
    "\n",
    "24 famrel — семейные отношения (от 1 - очень плохо до 5 - очень хорошо)\n",
    "\n",
    "25 freetime — свободное время после школы (от 1 - очень мало до 5 - очень мого)\n",
    "\n",
    "26 goout — проведение времени с друзьями (от 1 - очень мало до 5 - очень много)\n",
    "\n",
    "27 health — текущее состояние здоровья (от 1 - очень плохо до 5 - очень хорошо)\n",
    "\n",
    "28 absences — количество пропущенных занятий\n",
    "\n",
    "29 score — баллы по госэкзамену по математике\n"
   ]
  },
  {
   "cell_type": "markdown",
   "id": "ultimate-request",
   "metadata": {},
   "source": [
    "## Раздел импорта и функций."
   ]
  },
  {
   "cell_type": "code",
   "execution_count": 1655,
   "id": "worse-happiness",
   "metadata": {},
   "outputs": [],
   "source": [
    "import pandas as pd\n",
    "import numpy as np\n",
    "import matplotlib.pyplot as plt\n",
    "import seaborn as sns\n",
    "from itertools import combinations\n",
    "from scipy.stats import ttest_ind\n",
    "import warnings\n",
    "\n",
    "#warnings.filterwarnings(\"ignore\")\n",
    "pd.set_option('display.max_rows', 50) # показывать больше строк\n",
    "pd.set_option('display.max_columns', 50) # показывать больше колонок"
   ]
  },
  {
   "cell_type": "code",
   "execution_count": 1656,
   "id": "baking-choice",
   "metadata": {},
   "outputs": [],
   "source": [
    "# функция поиска выбросов\n",
    "def outlier(х):\n",
    "    perc25=х.quantile(0.25)\n",
    "    perc75=х.quantile(0.75)\n",
    "    IQR= perc75 - perc25\n",
    "    return ('25-й перцентиль: {},'.format(perc25)[:-1], '75-й перцентиль: {},'.format(perc75), \"IQR: {}, \".format(IQR), \"Границы выбросов: [{f}, {l}].\".format(f=perc25 - 1.5*IQR, l=perc75 + 1.5*IQR))"
   ]
  },
  {
   "cell_type": "code",
   "execution_count": 1657,
   "id": "violent-quebec",
   "metadata": {},
   "outputs": [],
   "source": [
    "# функция замены пробелов в данных на медиану\n",
    "def fill_median(col):\n",
    "    mediana = stud_math[col].median()\n",
    "    stud_math.loc[(pd.isna(stud_math[col])), col] = mediana    "
   ]
  },
  {
   "cell_type": "code",
   "execution_count": 1658,
   "id": "tropical-steel",
   "metadata": {},
   "outputs": [],
   "source": [
    "# функция замены пробелов в данных на моду\n",
    "def fill_mode(col):\n",
    "    mode = stud_math[col].describe()['top']\n",
    "    stud_math.loc[(pd.isna(stud_math[col])), col] = mode"
   ]
  },
  {
   "cell_type": "code",
   "execution_count": 1659,
   "id": "dental-winter",
   "metadata": {},
   "outputs": [],
   "source": [
    "#функция боксплот\n",
    "def get_boxplot(column):\n",
    "    fig, ax = plt.subplots(figsize = (14, 4))\n",
    "    sns.boxplot(x=stud_math[column], y=stud_math['score'], ax=ax)\n",
    "    plt.xticks(rotation=45)\n",
    "    ax.set_title('Boxplot for ' + column)\n",
    "    plt.show()"
   ]
  },
  {
   "cell_type": "code",
   "execution_count": 1660,
   "id": "spatial-married",
   "metadata": {},
   "outputs": [],
   "source": [
    "# Обзорная функция краткого анализа данных в столбце\n",
    "def Check_data(x):\n",
    "    print('Обзор даных для:', x.name)\n",
    "    print(x.value_counts())\n",
    "    print(x.describe())\n",
    "    print('пропущено значений:',x.isnull().sum())\n",
    "    x.hist(bins=10)"
   ]
  },
  {
   "cell_type": "code",
   "execution_count": 1661,
   "id": "appreciated-knight",
   "metadata": {},
   "outputs": [],
   "source": [
    "# Тесть Стьюдента\n",
    "def get_stat_dif(column):\n",
    "    cols = stud_math.loc[:, column].value_counts().index[:10]\n",
    "    combinations_all = list(combinations(cols, 2))\n",
    "    for comb in combinations_all:\n",
    "        if ttest_ind(stud_math.loc[stud_math.loc[:, column] == comb[0], 'score'], \n",
    "                        stud_math.loc[stud_math.loc[:, column] == comb[1], 'score']).pvalue \\\n",
    "            <= 0.05/len(combinations_all): # Учли поправку Бонферони\n",
    "            print('Найдены статистически значимые различия для колонки', column)\n",
    "            break\n",
    "            "
   ]
  },
  {
   "cell_type": "markdown",
   "id": "opposed-hardwood",
   "metadata": {},
   "source": [
    "## Чтение исходных данных."
   ]
  },
  {
   "cell_type": "code",
   "execution_count": 1662,
   "id": "vietnamese-lodge",
   "metadata": {},
   "outputs": [
    {
     "data": {
      "text/html": [
       "<div>\n",
       "<style scoped>\n",
       "    .dataframe tbody tr th:only-of-type {\n",
       "        vertical-align: middle;\n",
       "    }\n",
       "\n",
       "    .dataframe tbody tr th {\n",
       "        vertical-align: top;\n",
       "    }\n",
       "\n",
       "    .dataframe thead th {\n",
       "        text-align: right;\n",
       "    }\n",
       "</style>\n",
       "<table border=\"1\" class=\"dataframe\">\n",
       "  <thead>\n",
       "    <tr style=\"text-align: right;\">\n",
       "      <th></th>\n",
       "      <th>school</th>\n",
       "      <th>sex</th>\n",
       "      <th>age</th>\n",
       "      <th>address</th>\n",
       "      <th>famsize</th>\n",
       "      <th>Pstatus</th>\n",
       "      <th>Medu</th>\n",
       "      <th>Fedu</th>\n",
       "      <th>Mjob</th>\n",
       "      <th>Fjob</th>\n",
       "      <th>reason</th>\n",
       "      <th>guardian</th>\n",
       "      <th>traveltime</th>\n",
       "      <th>studytime</th>\n",
       "      <th>failures</th>\n",
       "      <th>schoolsup</th>\n",
       "      <th>famsup</th>\n",
       "      <th>paid</th>\n",
       "      <th>activities</th>\n",
       "      <th>nursery</th>\n",
       "      <th>studytime, granular</th>\n",
       "      <th>higher</th>\n",
       "      <th>internet</th>\n",
       "      <th>romantic</th>\n",
       "      <th>famrel</th>\n",
       "      <th>freetime</th>\n",
       "      <th>goout</th>\n",
       "      <th>health</th>\n",
       "      <th>absences</th>\n",
       "      <th>score</th>\n",
       "    </tr>\n",
       "  </thead>\n",
       "  <tbody>\n",
       "    <tr>\n",
       "      <th>0</th>\n",
       "      <td>GP</td>\n",
       "      <td>F</td>\n",
       "      <td>18</td>\n",
       "      <td>U</td>\n",
       "      <td>NaN</td>\n",
       "      <td>A</td>\n",
       "      <td>4.0</td>\n",
       "      <td>4.0</td>\n",
       "      <td>at_home</td>\n",
       "      <td>teacher</td>\n",
       "      <td>course</td>\n",
       "      <td>mother</td>\n",
       "      <td>2.0</td>\n",
       "      <td>2.0</td>\n",
       "      <td>0.0</td>\n",
       "      <td>yes</td>\n",
       "      <td>no</td>\n",
       "      <td>no</td>\n",
       "      <td>no</td>\n",
       "      <td>yes</td>\n",
       "      <td>-6.0</td>\n",
       "      <td>yes</td>\n",
       "      <td>NaN</td>\n",
       "      <td>no</td>\n",
       "      <td>4.0</td>\n",
       "      <td>3.0</td>\n",
       "      <td>4.0</td>\n",
       "      <td>3.0</td>\n",
       "      <td>6.0</td>\n",
       "      <td>30.0</td>\n",
       "    </tr>\n",
       "    <tr>\n",
       "      <th>1</th>\n",
       "      <td>GP</td>\n",
       "      <td>F</td>\n",
       "      <td>17</td>\n",
       "      <td>U</td>\n",
       "      <td>GT3</td>\n",
       "      <td>NaN</td>\n",
       "      <td>1.0</td>\n",
       "      <td>1.0</td>\n",
       "      <td>at_home</td>\n",
       "      <td>other</td>\n",
       "      <td>course</td>\n",
       "      <td>father</td>\n",
       "      <td>1.0</td>\n",
       "      <td>2.0</td>\n",
       "      <td>0.0</td>\n",
       "      <td>no</td>\n",
       "      <td>yes</td>\n",
       "      <td>no</td>\n",
       "      <td>no</td>\n",
       "      <td>no</td>\n",
       "      <td>-6.0</td>\n",
       "      <td>yes</td>\n",
       "      <td>yes</td>\n",
       "      <td>no</td>\n",
       "      <td>5.0</td>\n",
       "      <td>3.0</td>\n",
       "      <td>3.0</td>\n",
       "      <td>3.0</td>\n",
       "      <td>4.0</td>\n",
       "      <td>30.0</td>\n",
       "    </tr>\n",
       "    <tr>\n",
       "      <th>2</th>\n",
       "      <td>GP</td>\n",
       "      <td>F</td>\n",
       "      <td>15</td>\n",
       "      <td>U</td>\n",
       "      <td>LE3</td>\n",
       "      <td>T</td>\n",
       "      <td>1.0</td>\n",
       "      <td>1.0</td>\n",
       "      <td>at_home</td>\n",
       "      <td>other</td>\n",
       "      <td>other</td>\n",
       "      <td>mother</td>\n",
       "      <td>1.0</td>\n",
       "      <td>2.0</td>\n",
       "      <td>3.0</td>\n",
       "      <td>yes</td>\n",
       "      <td>no</td>\n",
       "      <td>NaN</td>\n",
       "      <td>no</td>\n",
       "      <td>yes</td>\n",
       "      <td>-6.0</td>\n",
       "      <td>yes</td>\n",
       "      <td>yes</td>\n",
       "      <td>NaN</td>\n",
       "      <td>4.0</td>\n",
       "      <td>3.0</td>\n",
       "      <td>2.0</td>\n",
       "      <td>3.0</td>\n",
       "      <td>10.0</td>\n",
       "      <td>50.0</td>\n",
       "    </tr>\n",
       "    <tr>\n",
       "      <th>3</th>\n",
       "      <td>GP</td>\n",
       "      <td>F</td>\n",
       "      <td>15</td>\n",
       "      <td>U</td>\n",
       "      <td>GT3</td>\n",
       "      <td>T</td>\n",
       "      <td>4.0</td>\n",
       "      <td>2.0</td>\n",
       "      <td>health</td>\n",
       "      <td>NaN</td>\n",
       "      <td>home</td>\n",
       "      <td>mother</td>\n",
       "      <td>1.0</td>\n",
       "      <td>3.0</td>\n",
       "      <td>0.0</td>\n",
       "      <td>no</td>\n",
       "      <td>yes</td>\n",
       "      <td>yes</td>\n",
       "      <td>yes</td>\n",
       "      <td>yes</td>\n",
       "      <td>-9.0</td>\n",
       "      <td>yes</td>\n",
       "      <td>yes</td>\n",
       "      <td>yes</td>\n",
       "      <td>3.0</td>\n",
       "      <td>2.0</td>\n",
       "      <td>2.0</td>\n",
       "      <td>5.0</td>\n",
       "      <td>2.0</td>\n",
       "      <td>75.0</td>\n",
       "    </tr>\n",
       "    <tr>\n",
       "      <th>4</th>\n",
       "      <td>GP</td>\n",
       "      <td>F</td>\n",
       "      <td>16</td>\n",
       "      <td>U</td>\n",
       "      <td>GT3</td>\n",
       "      <td>T</td>\n",
       "      <td>3.0</td>\n",
       "      <td>3.0</td>\n",
       "      <td>other</td>\n",
       "      <td>other</td>\n",
       "      <td>home</td>\n",
       "      <td>father</td>\n",
       "      <td>1.0</td>\n",
       "      <td>2.0</td>\n",
       "      <td>0.0</td>\n",
       "      <td>no</td>\n",
       "      <td>yes</td>\n",
       "      <td>yes</td>\n",
       "      <td>no</td>\n",
       "      <td>yes</td>\n",
       "      <td>-6.0</td>\n",
       "      <td>yes</td>\n",
       "      <td>no</td>\n",
       "      <td>no</td>\n",
       "      <td>4.0</td>\n",
       "      <td>3.0</td>\n",
       "      <td>2.0</td>\n",
       "      <td>5.0</td>\n",
       "      <td>4.0</td>\n",
       "      <td>50.0</td>\n",
       "    </tr>\n",
       "    <tr>\n",
       "      <th>5</th>\n",
       "      <td>GP</td>\n",
       "      <td>M</td>\n",
       "      <td>16</td>\n",
       "      <td>U</td>\n",
       "      <td>LE3</td>\n",
       "      <td>T</td>\n",
       "      <td>4.0</td>\n",
       "      <td>3.0</td>\n",
       "      <td>services</td>\n",
       "      <td>other</td>\n",
       "      <td>reputation</td>\n",
       "      <td>mother</td>\n",
       "      <td>1.0</td>\n",
       "      <td>2.0</td>\n",
       "      <td>0.0</td>\n",
       "      <td>no</td>\n",
       "      <td>yes</td>\n",
       "      <td>yes</td>\n",
       "      <td>yes</td>\n",
       "      <td>yes</td>\n",
       "      <td>-6.0</td>\n",
       "      <td>yes</td>\n",
       "      <td>yes</td>\n",
       "      <td>no</td>\n",
       "      <td>5.0</td>\n",
       "      <td>4.0</td>\n",
       "      <td>2.0</td>\n",
       "      <td>5.0</td>\n",
       "      <td>10.0</td>\n",
       "      <td>75.0</td>\n",
       "    </tr>\n",
       "    <tr>\n",
       "      <th>6</th>\n",
       "      <td>GP</td>\n",
       "      <td>M</td>\n",
       "      <td>16</td>\n",
       "      <td>NaN</td>\n",
       "      <td>LE3</td>\n",
       "      <td>T</td>\n",
       "      <td>2.0</td>\n",
       "      <td>2.0</td>\n",
       "      <td>other</td>\n",
       "      <td>other</td>\n",
       "      <td>home</td>\n",
       "      <td>mother</td>\n",
       "      <td>1.0</td>\n",
       "      <td>2.0</td>\n",
       "      <td>0.0</td>\n",
       "      <td>no</td>\n",
       "      <td>no</td>\n",
       "      <td>no</td>\n",
       "      <td>no</td>\n",
       "      <td>yes</td>\n",
       "      <td>-6.0</td>\n",
       "      <td>yes</td>\n",
       "      <td>yes</td>\n",
       "      <td>no</td>\n",
       "      <td>4.0</td>\n",
       "      <td>4.0</td>\n",
       "      <td>4.0</td>\n",
       "      <td>3.0</td>\n",
       "      <td>0.0</td>\n",
       "      <td>55.0</td>\n",
       "    </tr>\n",
       "    <tr>\n",
       "      <th>7</th>\n",
       "      <td>GP</td>\n",
       "      <td>F</td>\n",
       "      <td>17</td>\n",
       "      <td>U</td>\n",
       "      <td>GT3</td>\n",
       "      <td>A</td>\n",
       "      <td>4.0</td>\n",
       "      <td>4.0</td>\n",
       "      <td>other</td>\n",
       "      <td>teacher</td>\n",
       "      <td>home</td>\n",
       "      <td>mother</td>\n",
       "      <td>2.0</td>\n",
       "      <td>2.0</td>\n",
       "      <td>0.0</td>\n",
       "      <td>yes</td>\n",
       "      <td>yes</td>\n",
       "      <td>no</td>\n",
       "      <td>no</td>\n",
       "      <td>yes</td>\n",
       "      <td>-6.0</td>\n",
       "      <td>yes</td>\n",
       "      <td>no</td>\n",
       "      <td>no</td>\n",
       "      <td>4.0</td>\n",
       "      <td>1.0</td>\n",
       "      <td>4.0</td>\n",
       "      <td>1.0</td>\n",
       "      <td>6.0</td>\n",
       "      <td>30.0</td>\n",
       "    </tr>\n",
       "    <tr>\n",
       "      <th>8</th>\n",
       "      <td>GP</td>\n",
       "      <td>M</td>\n",
       "      <td>15</td>\n",
       "      <td>U</td>\n",
       "      <td>LE3</td>\n",
       "      <td>A</td>\n",
       "      <td>3.0</td>\n",
       "      <td>2.0</td>\n",
       "      <td>services</td>\n",
       "      <td>other</td>\n",
       "      <td>home</td>\n",
       "      <td>mother</td>\n",
       "      <td>1.0</td>\n",
       "      <td>2.0</td>\n",
       "      <td>0.0</td>\n",
       "      <td>no</td>\n",
       "      <td>yes</td>\n",
       "      <td>yes</td>\n",
       "      <td>no</td>\n",
       "      <td>yes</td>\n",
       "      <td>-6.0</td>\n",
       "      <td>yes</td>\n",
       "      <td>yes</td>\n",
       "      <td>no</td>\n",
       "      <td>NaN</td>\n",
       "      <td>2.0</td>\n",
       "      <td>2.0</td>\n",
       "      <td>1.0</td>\n",
       "      <td>0.0</td>\n",
       "      <td>95.0</td>\n",
       "    </tr>\n",
       "    <tr>\n",
       "      <th>9</th>\n",
       "      <td>GP</td>\n",
       "      <td>M</td>\n",
       "      <td>15</td>\n",
       "      <td>U</td>\n",
       "      <td>NaN</td>\n",
       "      <td>NaN</td>\n",
       "      <td>3.0</td>\n",
       "      <td>4.0</td>\n",
       "      <td>other</td>\n",
       "      <td>other</td>\n",
       "      <td>home</td>\n",
       "      <td>mother</td>\n",
       "      <td>1.0</td>\n",
       "      <td>2.0</td>\n",
       "      <td>0.0</td>\n",
       "      <td>no</td>\n",
       "      <td>yes</td>\n",
       "      <td>yes</td>\n",
       "      <td>yes</td>\n",
       "      <td>yes</td>\n",
       "      <td>-6.0</td>\n",
       "      <td>yes</td>\n",
       "      <td>yes</td>\n",
       "      <td>no</td>\n",
       "      <td>5.0</td>\n",
       "      <td>5.0</td>\n",
       "      <td>1.0</td>\n",
       "      <td>5.0</td>\n",
       "      <td>0.0</td>\n",
       "      <td>75.0</td>\n",
       "    </tr>\n",
       "  </tbody>\n",
       "</table>\n",
       "</div>"
      ],
      "text/plain": [
       "  school sex  age address famsize Pstatus  Medu  Fedu      Mjob     Fjob  \\\n",
       "0     GP   F   18       U     NaN       A   4.0   4.0   at_home  teacher   \n",
       "1     GP   F   17       U     GT3     NaN   1.0   1.0   at_home    other   \n",
       "2     GP   F   15       U     LE3       T   1.0   1.0   at_home    other   \n",
       "3     GP   F   15       U     GT3       T   4.0   2.0    health      NaN   \n",
       "4     GP   F   16       U     GT3       T   3.0   3.0     other    other   \n",
       "5     GP   M   16       U     LE3       T   4.0   3.0  services    other   \n",
       "6     GP   M   16     NaN     LE3       T   2.0   2.0     other    other   \n",
       "7     GP   F   17       U     GT3       A   4.0   4.0     other  teacher   \n",
       "8     GP   M   15       U     LE3       A   3.0   2.0  services    other   \n",
       "9     GP   M   15       U     NaN     NaN   3.0   4.0     other    other   \n",
       "\n",
       "       reason guardian  traveltime  studytime  failures schoolsup famsup paid  \\\n",
       "0      course   mother         2.0        2.0       0.0       yes     no   no   \n",
       "1      course   father         1.0        2.0       0.0        no    yes   no   \n",
       "2       other   mother         1.0        2.0       3.0       yes     no  NaN   \n",
       "3        home   mother         1.0        3.0       0.0        no    yes  yes   \n",
       "4        home   father         1.0        2.0       0.0        no    yes  yes   \n",
       "5  reputation   mother         1.0        2.0       0.0        no    yes  yes   \n",
       "6        home   mother         1.0        2.0       0.0        no     no   no   \n",
       "7        home   mother         2.0        2.0       0.0       yes    yes   no   \n",
       "8        home   mother         1.0        2.0       0.0        no    yes  yes   \n",
       "9        home   mother         1.0        2.0       0.0        no    yes  yes   \n",
       "\n",
       "  activities nursery  studytime, granular higher internet romantic  famrel  \\\n",
       "0         no     yes                 -6.0    yes      NaN       no     4.0   \n",
       "1         no      no                 -6.0    yes      yes       no     5.0   \n",
       "2         no     yes                 -6.0    yes      yes      NaN     4.0   \n",
       "3        yes     yes                 -9.0    yes      yes      yes     3.0   \n",
       "4         no     yes                 -6.0    yes       no       no     4.0   \n",
       "5        yes     yes                 -6.0    yes      yes       no     5.0   \n",
       "6         no     yes                 -6.0    yes      yes       no     4.0   \n",
       "7         no     yes                 -6.0    yes       no       no     4.0   \n",
       "8         no     yes                 -6.0    yes      yes       no     NaN   \n",
       "9        yes     yes                 -6.0    yes      yes       no     5.0   \n",
       "\n",
       "   freetime  goout  health  absences  score  \n",
       "0       3.0    4.0     3.0       6.0   30.0  \n",
       "1       3.0    3.0     3.0       4.0   30.0  \n",
       "2       3.0    2.0     3.0      10.0   50.0  \n",
       "3       2.0    2.0     5.0       2.0   75.0  \n",
       "4       3.0    2.0     5.0       4.0   50.0  \n",
       "5       4.0    2.0     5.0      10.0   75.0  \n",
       "6       4.0    4.0     3.0       0.0   55.0  \n",
       "7       1.0    4.0     1.0       6.0   30.0  \n",
       "8       2.0    2.0     1.0       0.0   95.0  \n",
       "9       5.0    1.0     5.0       0.0   75.0  "
      ]
     },
     "metadata": {},
     "output_type": "display_data"
    },
    {
     "name": "stdout",
     "output_type": "stream",
     "text": [
      "<class 'pandas.core.frame.DataFrame'>\n",
      "RangeIndex: 395 entries, 0 to 394\n",
      "Data columns (total 30 columns):\n",
      " #   Column               Non-Null Count  Dtype  \n",
      "---  ------               --------------  -----  \n",
      " 0   school               395 non-null    object \n",
      " 1   sex                  395 non-null    object \n",
      " 2   age                  395 non-null    int64  \n",
      " 3   address              378 non-null    object \n",
      " 4   famsize              368 non-null    object \n",
      " 5   Pstatus              350 non-null    object \n",
      " 6   Medu                 392 non-null    float64\n",
      " 7   Fedu                 371 non-null    float64\n",
      " 8   Mjob                 376 non-null    object \n",
      " 9   Fjob                 359 non-null    object \n",
      " 10  reason               378 non-null    object \n",
      " 11  guardian             364 non-null    object \n",
      " 12  traveltime           367 non-null    float64\n",
      " 13  studytime            388 non-null    float64\n",
      " 14  failures             373 non-null    float64\n",
      " 15  schoolsup            386 non-null    object \n",
      " 16  famsup               356 non-null    object \n",
      " 17  paid                 355 non-null    object \n",
      " 18  activities           381 non-null    object \n",
      " 19  nursery              379 non-null    object \n",
      " 20  studytime, granular  388 non-null    float64\n",
      " 21  higher               375 non-null    object \n",
      " 22  internet             361 non-null    object \n",
      " 23  romantic             364 non-null    object \n",
      " 24  famrel               368 non-null    float64\n",
      " 25  freetime             384 non-null    float64\n",
      " 26  goout                387 non-null    float64\n",
      " 27  health               380 non-null    float64\n",
      " 28  absences             383 non-null    float64\n",
      " 29  score                389 non-null    float64\n",
      "dtypes: float64(12), int64(1), object(17)\n",
      "memory usage: 92.7+ KB\n"
     ]
    }
   ],
   "source": [
    "# Чтение исходных данных\n",
    "stud_math = pd.read_csv('stud_math.csv')\n",
    "display(stud_math.head(10))\n",
    "stud_math.info() "
   ]
  },
  {
   "cell_type": "markdown",
   "id": "guilty-flour",
   "metadata": {},
   "source": [
    "Проанализируем пробелы в данных:"
   ]
  },
  {
   "cell_type": "code",
   "execution_count": 1663,
   "id": "challenging-arrest",
   "metadata": {},
   "outputs": [
    {
     "data": {
      "text/plain": [
       "<AxesSubplot:>"
      ]
     },
     "execution_count": 1663,
     "metadata": {},
     "output_type": "execute_result"
    },
    {
     "data": {
      "image/png": "[encoded data removed]",
      "text/plain": [
       "<Figure size 1008x288 with 2 Axes>"
      ]
     },
     "metadata": {
      "needs_background": "light"
     },
     "output_type": "display_data"
    }
   ],
   "source": [
    "fig, ax = plt.subplots(figsize = (14, 4))\n",
    "sns.heatmap(stud_math.isnull())"
   ]
  },
  {
   "cell_type": "code",
   "execution_count": 1664,
   "id": "seasonal-constraint",
   "metadata": {},
   "outputs": [
    {
     "name": "stdout",
     "output_type": "stream",
     "text": [
      "отсутствует значений: 565 ( 5 %)\n"
     ]
    }
   ],
   "source": [
    "print('отсутствует значений:', stud_math.isnull().sum().sum(),'(', round(stud_math.isnull().sum().sum()*10/1185), '%)')"
   ]
  },
  {
   "cell_type": "code",
   "execution_count": 1665,
   "id": "underlying-address",
   "metadata": {},
   "outputs": [
    {
     "data": {
      "text/plain": [
       "school                  0\n",
       "sex                     0\n",
       "age                     0\n",
       "address                17\n",
       "famsize                27\n",
       "Pstatus                45\n",
       "Medu                    3\n",
       "Fedu                   24\n",
       "Mjob                   19\n",
       "Fjob                   36\n",
       "reason                 17\n",
       "guardian               31\n",
       "traveltime             28\n",
       "studytime               7\n",
       "failures               22\n",
       "schoolsup               9\n",
       "famsup                 39\n",
       "paid                   40\n",
       "activities             14\n",
       "nursery                16\n",
       "studytime, granular     7\n",
       "higher                 20\n",
       "internet               34\n",
       "romantic               31\n",
       "famrel                 27\n",
       "freetime               11\n",
       "goout                   8\n",
       "health                 15\n",
       "absences               12\n",
       "score                   6\n",
       "dtype: int64"
      ]
     },
     "execution_count": 1665,
     "metadata": {},
     "output_type": "execute_result"
    }
   ],
   "source": [
    "stud_math.isnull().sum()"
   ]
  },
  {
   "cell_type": "markdown",
   "id": "architectural-vancouver",
   "metadata": {},
   "source": [
    "Приблизительно 5% данных отсутствуют.\n",
    "Возможно, некоторые пробелы в данных стоит заместить медианными значениями - потребуется дополнительный анализ.\n",
    "\n",
    "#  Первичная обработка и подготовка данных.\n"
   ]
  },
  {
   "cell_type": "markdown",
   "id": "latest-christian",
   "metadata": {},
   "source": [
    "Произведем статистический тест Стьюдента на неочищенных исходных данных:"
   ]
  },
  {
   "cell_type": "code",
   "execution_count": 1666,
   "id": "confused-amendment",
   "metadata": {},
   "outputs": [
    {
     "name": "stdout",
     "output_type": "stream",
     "text": [
      "Найдены статистически значимые различия для колонки Mjob\n"
     ]
    }
   ],
   "source": [
    "for data in ['school', 'sex', 'age', 'address', 'famsize', 'Pstatus', 'Medu', 'Fedu', 'Mjob',\n",
    "             'Fjob', 'reason', 'guardian', 'traveltime', 'studytime', 'failures', 'schoolsup',\n",
    "             'famsup', 'paid', 'activities', 'nursery', 'studytime, granular', 'higher', 'internet', \n",
    "             'romantic', 'famrel', 'freetime', 'goout', 'health', 'absences']:\n",
    "             get_stat_dif(data)"
   ]
  },
  {
   "cell_type": "markdown",
   "id": "single-combat",
   "metadata": {},
   "source": [
    "Видим,что всего один параметр представляет интерес. Попробуем улучшить данные для построения модели."
   ]
  },
  {
   "cell_type": "markdown",
   "id": "quality-heater",
   "metadata": {},
   "source": [
    "## Проанализируем главный значимый признак для анализа - score."
   ]
  },
  {
   "cell_type": "code",
   "execution_count": 1667,
   "id": "possible-catalog",
   "metadata": {},
   "outputs": [
    {
     "name": "stdout",
     "output_type": "stream",
     "text": [
      "Обзор даных для: score\n",
      "50.0     54\n",
      "55.0     46\n",
      "0.0      37\n",
      "75.0     33\n",
      "65.0     31\n",
      "60.0     31\n",
      "40.0     31\n",
      "45.0     27\n",
      "70.0     27\n",
      "80.0     16\n",
      "30.0     15\n",
      "90.0     12\n",
      "35.0      9\n",
      "25.0      7\n",
      "85.0      6\n",
      "95.0      5\n",
      "20.0      1\n",
      "100.0     1\n",
      "Name: score, dtype: int64\n",
      "count    389.000000\n",
      "mean      52.262211\n",
      "std       22.919022\n",
      "min        0.000000\n",
      "25%       40.000000\n",
      "50%       55.000000\n",
      "75%       70.000000\n",
      "max      100.000000\n",
      "Name: score, dtype: float64\n",
      "пропущено значений: 6\n",
      "('25-й перцентиль: 40.0', '75-й перцентиль: 70.0,', 'IQR: 30.0, ', 'Границы выбросов: [-5.0, 115.0].')\n"
     ]
    },
    {
     "data": {
      "image/png": "[encoded data removed]",
      "text/plain": [
       "<Figure size 432x288 with 1 Axes>"
      ]
     },
     "metadata": {
      "needs_background": "light"
     },
     "output_type": "display_data"
    }
   ],
   "source": [
    "Check_data(stud_math.score)\n",
    "print(outlier(stud_math.score))"
   ]
  },
  {
   "cell_type": "markdown",
   "id": "unexpected-craps",
   "metadata": {},
   "source": [
    "Обнаружено:\n",
    "\n",
    "37 значений с оценкой 0. Анализ на выбросы показал, что даже оценки - 0 можно принять для анализа. Однако оценки 0 находятся за пределами нормальго распределения и в дальнейшем проанализируем эти данные отдельно.\n",
    "\n",
    "6 значений Nan. Можно удалить строк без оценки, но предварительно посмотрим на эти строки:"
   ]
  },
  {
   "cell_type": "code",
   "execution_count": 1668,
   "id": "amazing-lafayette",
   "metadata": {},
   "outputs": [
    {
     "data": {
      "text/html": [
       "<div>\n",
       "<style scoped>\n",
       "    .dataframe tbody tr th:only-of-type {\n",
       "        vertical-align: middle;\n",
       "    }\n",
       "\n",
       "    .dataframe tbody tr th {\n",
       "        vertical-align: top;\n",
       "    }\n",
       "\n",
       "    .dataframe thead th {\n",
       "        text-align: right;\n",
       "    }\n",
       "</style>\n",
       "<table border=\"1\" class=\"dataframe\">\n",
       "  <thead>\n",
       "    <tr style=\"text-align: right;\">\n",
       "      <th></th>\n",
       "      <th>school</th>\n",
       "      <th>sex</th>\n",
       "      <th>age</th>\n",
       "      <th>address</th>\n",
       "      <th>famsize</th>\n",
       "      <th>Pstatus</th>\n",
       "      <th>Medu</th>\n",
       "      <th>Fedu</th>\n",
       "      <th>Mjob</th>\n",
       "      <th>Fjob</th>\n",
       "      <th>reason</th>\n",
       "      <th>guardian</th>\n",
       "      <th>traveltime</th>\n",
       "      <th>studytime</th>\n",
       "      <th>failures</th>\n",
       "      <th>schoolsup</th>\n",
       "      <th>famsup</th>\n",
       "      <th>paid</th>\n",
       "      <th>activities</th>\n",
       "      <th>nursery</th>\n",
       "      <th>studytime, granular</th>\n",
       "      <th>higher</th>\n",
       "      <th>internet</th>\n",
       "      <th>romantic</th>\n",
       "      <th>famrel</th>\n",
       "      <th>freetime</th>\n",
       "      <th>goout</th>\n",
       "      <th>health</th>\n",
       "      <th>absences</th>\n",
       "      <th>score</th>\n",
       "    </tr>\n",
       "  </thead>\n",
       "  <tbody>\n",
       "    <tr>\n",
       "      <th>201</th>\n",
       "      <td>GP</td>\n",
       "      <td>F</td>\n",
       "      <td>16</td>\n",
       "      <td>U</td>\n",
       "      <td>GT3</td>\n",
       "      <td>T</td>\n",
       "      <td>2.0</td>\n",
       "      <td>3.0</td>\n",
       "      <td>other</td>\n",
       "      <td>other</td>\n",
       "      <td>reputation</td>\n",
       "      <td>mother</td>\n",
       "      <td>1.0</td>\n",
       "      <td>2.0</td>\n",
       "      <td>0.0</td>\n",
       "      <td>yes</td>\n",
       "      <td>yes</td>\n",
       "      <td>NaN</td>\n",
       "      <td>yes</td>\n",
       "      <td>yes</td>\n",
       "      <td>-6.0</td>\n",
       "      <td>yes</td>\n",
       "      <td>no</td>\n",
       "      <td>no</td>\n",
       "      <td>4.0</td>\n",
       "      <td>NaN</td>\n",
       "      <td>3.0</td>\n",
       "      <td>4.0</td>\n",
       "      <td>6.0</td>\n",
       "      <td>NaN</td>\n",
       "    </tr>\n",
       "    <tr>\n",
       "      <th>244</th>\n",
       "      <td>GP</td>\n",
       "      <td>F</td>\n",
       "      <td>18</td>\n",
       "      <td>U</td>\n",
       "      <td>GT3</td>\n",
       "      <td>T</td>\n",
       "      <td>2.0</td>\n",
       "      <td>1.0</td>\n",
       "      <td>other</td>\n",
       "      <td>other</td>\n",
       "      <td>course</td>\n",
       "      <td>other</td>\n",
       "      <td>2.0</td>\n",
       "      <td>3.0</td>\n",
       "      <td>0.0</td>\n",
       "      <td>no</td>\n",
       "      <td>yes</td>\n",
       "      <td>yes</td>\n",
       "      <td>no</td>\n",
       "      <td>no</td>\n",
       "      <td>-9.0</td>\n",
       "      <td>yes</td>\n",
       "      <td>yes</td>\n",
       "      <td>yes</td>\n",
       "      <td>4.0</td>\n",
       "      <td>4.0</td>\n",
       "      <td>4.0</td>\n",
       "      <td>3.0</td>\n",
       "      <td>0.0</td>\n",
       "      <td>NaN</td>\n",
       "    </tr>\n",
       "    <tr>\n",
       "      <th>270</th>\n",
       "      <td>GP</td>\n",
       "      <td>F</td>\n",
       "      <td>19</td>\n",
       "      <td>NaN</td>\n",
       "      <td>GT3</td>\n",
       "      <td>T</td>\n",
       "      <td>3.0</td>\n",
       "      <td>3.0</td>\n",
       "      <td>other</td>\n",
       "      <td>services</td>\n",
       "      <td>home</td>\n",
       "      <td>other</td>\n",
       "      <td>1.0</td>\n",
       "      <td>2.0</td>\n",
       "      <td>2.0</td>\n",
       "      <td>no</td>\n",
       "      <td>yes</td>\n",
       "      <td>yes</td>\n",
       "      <td>yes</td>\n",
       "      <td>yes</td>\n",
       "      <td>-6.0</td>\n",
       "      <td>yes</td>\n",
       "      <td>yes</td>\n",
       "      <td>no</td>\n",
       "      <td>4.0</td>\n",
       "      <td>3.0</td>\n",
       "      <td>5.0</td>\n",
       "      <td>5.0</td>\n",
       "      <td>NaN</td>\n",
       "      <td>NaN</td>\n",
       "    </tr>\n",
       "    <tr>\n",
       "      <th>283</th>\n",
       "      <td>GP</td>\n",
       "      <td>F</td>\n",
       "      <td>18</td>\n",
       "      <td>U</td>\n",
       "      <td>GT3</td>\n",
       "      <td>T</td>\n",
       "      <td>1.0</td>\n",
       "      <td>1.0</td>\n",
       "      <td>other</td>\n",
       "      <td>other</td>\n",
       "      <td>home</td>\n",
       "      <td>mother</td>\n",
       "      <td>2.0</td>\n",
       "      <td>2.0</td>\n",
       "      <td>0.0</td>\n",
       "      <td>yes</td>\n",
       "      <td>NaN</td>\n",
       "      <td>no</td>\n",
       "      <td>yes</td>\n",
       "      <td>yes</td>\n",
       "      <td>-6.0</td>\n",
       "      <td>yes</td>\n",
       "      <td>yes</td>\n",
       "      <td>no</td>\n",
       "      <td>5.0</td>\n",
       "      <td>NaN</td>\n",
       "      <td>4.0</td>\n",
       "      <td>4.0</td>\n",
       "      <td>4.0</td>\n",
       "      <td>NaN</td>\n",
       "    </tr>\n",
       "    <tr>\n",
       "      <th>312</th>\n",
       "      <td>GP</td>\n",
       "      <td>M</td>\n",
       "      <td>19</td>\n",
       "      <td>U</td>\n",
       "      <td>GT3</td>\n",
       "      <td>T</td>\n",
       "      <td>1.0</td>\n",
       "      <td>2.0</td>\n",
       "      <td>other</td>\n",
       "      <td>services</td>\n",
       "      <td>course</td>\n",
       "      <td>other</td>\n",
       "      <td>1.0</td>\n",
       "      <td>2.0</td>\n",
       "      <td>1.0</td>\n",
       "      <td>no</td>\n",
       "      <td>no</td>\n",
       "      <td>no</td>\n",
       "      <td>no</td>\n",
       "      <td>no</td>\n",
       "      <td>-6.0</td>\n",
       "      <td>yes</td>\n",
       "      <td>yes</td>\n",
       "      <td>no</td>\n",
       "      <td>4.0</td>\n",
       "      <td>5.0</td>\n",
       "      <td>NaN</td>\n",
       "      <td>4.0</td>\n",
       "      <td>3.0</td>\n",
       "      <td>NaN</td>\n",
       "    </tr>\n",
       "    <tr>\n",
       "      <th>350</th>\n",
       "      <td>MS</td>\n",
       "      <td>M</td>\n",
       "      <td>19</td>\n",
       "      <td>NaN</td>\n",
       "      <td>GT3</td>\n",
       "      <td>T</td>\n",
       "      <td>1.0</td>\n",
       "      <td>1.0</td>\n",
       "      <td>other</td>\n",
       "      <td>services</td>\n",
       "      <td>home</td>\n",
       "      <td>other</td>\n",
       "      <td>3.0</td>\n",
       "      <td>2.0</td>\n",
       "      <td>3.0</td>\n",
       "      <td>no</td>\n",
       "      <td>no</td>\n",
       "      <td>no</td>\n",
       "      <td>no</td>\n",
       "      <td>NaN</td>\n",
       "      <td>-6.0</td>\n",
       "      <td>yes</td>\n",
       "      <td>yes</td>\n",
       "      <td>no</td>\n",
       "      <td>5.0</td>\n",
       "      <td>4.0</td>\n",
       "      <td>4.0</td>\n",
       "      <td>2.0</td>\n",
       "      <td>8.0</td>\n",
       "      <td>NaN</td>\n",
       "    </tr>\n",
       "  </tbody>\n",
       "</table>\n",
       "</div>"
      ],
      "text/plain": [
       "    school sex  age address famsize Pstatus  Medu  Fedu   Mjob      Fjob  \\\n",
       "201     GP   F   16       U     GT3       T   2.0   3.0  other     other   \n",
       "244     GP   F   18       U     GT3       T   2.0   1.0  other     other   \n",
       "270     GP   F   19     NaN     GT3       T   3.0   3.0  other  services   \n",
       "283     GP   F   18       U     GT3       T   1.0   1.0  other     other   \n",
       "312     GP   M   19       U     GT3       T   1.0   2.0  other  services   \n",
       "350     MS   M   19     NaN     GT3       T   1.0   1.0  other  services   \n",
       "\n",
       "         reason guardian  traveltime  studytime  failures schoolsup famsup  \\\n",
       "201  reputation   mother         1.0        2.0       0.0       yes    yes   \n",
       "244      course    other         2.0        3.0       0.0        no    yes   \n",
       "270        home    other         1.0        2.0       2.0        no    yes   \n",
       "283        home   mother         2.0        2.0       0.0       yes    NaN   \n",
       "312      course    other         1.0        2.0       1.0        no     no   \n",
       "350        home    other         3.0        2.0       3.0        no     no   \n",
       "\n",
       "    paid activities nursery  studytime, granular higher internet romantic  \\\n",
       "201  NaN        yes     yes                 -6.0    yes       no       no   \n",
       "244  yes         no      no                 -9.0    yes      yes      yes   \n",
       "270  yes        yes     yes                 -6.0    yes      yes       no   \n",
       "283   no        yes     yes                 -6.0    yes      yes       no   \n",
       "312   no         no      no                 -6.0    yes      yes       no   \n",
       "350   no         no     NaN                 -6.0    yes      yes       no   \n",
       "\n",
       "     famrel  freetime  goout  health  absences  score  \n",
       "201     4.0       NaN    3.0     4.0       6.0    NaN  \n",
       "244     4.0       4.0    4.0     3.0       0.0    NaN  \n",
       "270     4.0       3.0    5.0     5.0       NaN    NaN  \n",
       "283     5.0       NaN    4.0     4.0       4.0    NaN  \n",
       "312     4.0       5.0    NaN     4.0       3.0    NaN  \n",
       "350     5.0       4.0    4.0     2.0       8.0    NaN  "
      ]
     },
     "metadata": {},
     "output_type": "display_data"
    }
   ],
   "source": [
    "display(stud_math.loc[stud_math.score.isna()])"
   ]
  },
  {
   "cell_type": "code",
   "execution_count": 1669,
   "id": "varying-methodology",
   "metadata": {},
   "outputs": [],
   "source": [
    "# Удаляем строки без оценок - нет смысла дальше анализировать\n",
    "stud_math.drop(stud_math[stud_math.score.isna()].index, inplace=True)\n",
    "stud_math.reset_index(drop=True, inplace=True)\n"
   ]
  },
  {
   "cell_type": "markdown",
   "id": "killing-employer",
   "metadata": {},
   "source": [
    "Дальнейший анализ score продолжим после рассмотрения других столбцов и восстановления данных."
   ]
  },
  {
   "cell_type": "markdown",
   "id": "aggressive-wrestling",
   "metadata": {},
   "source": [
    "## Анализ studytime, granular."
   ]
  },
  {
   "cell_type": "markdown",
   "id": "dense-general",
   "metadata": {},
   "source": [
    "В данных обнаружен  столбец studytime, granular - переименуем его для удобства и исследуем."
   ]
  },
  {
   "cell_type": "code",
   "execution_count": 1670,
   "id": "advised-meeting",
   "metadata": {},
   "outputs": [
    {
     "name": "stdout",
     "output_type": "stream",
     "text": [
      "Обзор даных для: st_gran\n",
      "-6.0     189\n",
      "-3.0     103\n",
      "-9.0      63\n",
      "-12.0     27\n",
      "Name: st_gran, dtype: int64\n",
      "count    382.000000\n",
      "mean      -6.109948\n",
      "std        2.541716\n",
      "min      -12.000000\n",
      "25%       -6.000000\n",
      "50%       -6.000000\n",
      "75%       -3.000000\n",
      "max       -3.000000\n",
      "Name: st_gran, dtype: float64\n",
      "пропущено значений: 7\n",
      "('25-й перцентиль: -6.0', '75-й перцентиль: -3.0,', 'IQR: 3.0, ', 'Границы выбросов: [-10.5, 1.5].')\n"
     ]
    },
    {
     "data": {
      "image/png": "[encoded data removed]",
      "text/plain": [
       "<Figure size 432x288 with 1 Axes>"
      ]
     },
     "metadata": {
      "needs_background": "light"
     },
     "output_type": "display_data"
    }
   ],
   "source": [
    "stud_math.rename(columns={'studytime, granular': 'st_gran'}, inplace=True)\n",
    "\n",
    "Check_data(stud_math.st_gran)\n",
    "print(outlier(stud_math.st_gran))"
   ]
  },
  {
   "cell_type": "markdown",
   "id": "political-rings",
   "metadata": {},
   "source": [
    "Можно сделать вывод, что значения -12 являются выбросами.\n",
    "Этот столбец требует дальнейшего анализа в дальнейшем.\n",
    "Восстановим пропущенные данные медианным значением:"
   ]
  },
  {
   "cell_type": "code",
   "execution_count": 1671,
   "id": "modular-merchandise",
   "metadata": {},
   "outputs": [],
   "source": [
    "#Проверка и просмотр строк с пропущенными данными во время отладки....\n",
    "#print('потеряно значений:',stud_math.st_gran.isna().sum())\n",
    "#display(stud_math.loc[stud_math.st_gran.isna()])\n",
    "\n",
    "#Вычисляем медиану и заполняем пробелы\n",
    "m1 = stud_math.st_gran.median()\n",
    "stud_math.st_gran = stud_math.st_gran.apply(lambda x: m1 if pd.isna(x) else x)\n"
   ]
  },
  {
   "cell_type": "markdown",
   "id": "advisory-consolidation",
   "metadata": {},
   "source": [
    "## Анализ данных school."
   ]
  },
  {
   "cell_type": "code",
   "execution_count": 1672,
   "id": "forbidden-injection",
   "metadata": {},
   "outputs": [
    {
     "name": "stdout",
     "output_type": "stream",
     "text": [
      "Обзор даных для: school\n",
      "GP    344\n",
      "MS     45\n",
      "Name: school, dtype: int64\n",
      "count     389\n",
      "unique      2\n",
      "top        GP\n",
      "freq      344\n",
      "Name: school, dtype: object\n",
      "пропущено значений: 0\n"
     ]
    },
    {
     "data": {
      "image/png": "[encoded data removed]",
      "text/plain": [
       "<Figure size 432x288 with 1 Axes>"
      ]
     },
     "metadata": {
      "needs_background": "light"
     },
     "output_type": "display_data"
    }
   ],
   "source": [
    "# Проверим значения в столбце school\n",
    "Check_data(stud_math.school)\n",
    "\n"
   ]
  },
  {
   "cell_type": "markdown",
   "id": "caroline-prevention",
   "metadata": {},
   "source": [
    "Понимаем, что в файле приведены данные учеников 2х школ. Пропущенных или неопределенных данных нет. В школе GP учится 88.4% учащихся.\n",
    "\n",
    "Необходимо будет учитывать при анализе эти школы отдельно - возможно, влияет качество преподавания математики в школе - проверим эту гипотезу:"
   ]
  },
  {
   "cell_type": "code",
   "execution_count": 1673,
   "id": "complimentary-aviation",
   "metadata": {},
   "outputs": [
    {
     "data": {
      "image/png": "[encoded data removed]",
      "text/plain": [
       "<Figure size 1008x288 with 1 Axes>"
      ]
     },
     "metadata": {
      "needs_background": "light"
     },
     "output_type": "display_data"
    }
   ],
   "source": [
    "get_boxplot('school')"
   ]
  },
  {
   "cell_type": "markdown",
   "id": "architectural-trinidad",
   "metadata": {},
   "source": [
    "по боксплоту не видим существенных различий в качестве обучения в этих школах."
   ]
  },
  {
   "cell_type": "markdown",
   "id": "current-preview",
   "metadata": {},
   "source": [
    "## Анализ возраста учеников."
   ]
  },
  {
   "cell_type": "code",
   "execution_count": 1674,
   "id": "imposed-short",
   "metadata": {
    "scrolled": false
   },
   "outputs": [
    {
     "name": "stdout",
     "output_type": "stream",
     "text": [
      "Обзор даных для: age\n",
      "16    103\n",
      "17     98\n",
      "15     82\n",
      "18     80\n",
      "19     21\n",
      "20      3\n",
      "21      1\n",
      "22      1\n",
      "Name: age, dtype: int64\n",
      "count    389.000000\n",
      "mean      16.673522\n",
      "std        1.265662\n",
      "min       15.000000\n",
      "25%       16.000000\n",
      "50%       17.000000\n",
      "75%       18.000000\n",
      "max       22.000000\n",
      "Name: age, dtype: float64\n",
      "пропущено значений: 0\n",
      "('25-й перцентиль: 16.0', '75-й перцентиль: 18.0,', 'IQR: 2.0, ', 'Границы выбросов: [13.0, 21.0].')\n"
     ]
    },
    {
     "data": {
      "image/png": "[encoded data removed]",
      "text/plain": [
       "<Figure size 432x288 with 1 Axes>"
      ]
     },
     "metadata": {
      "needs_background": "light"
     },
     "output_type": "display_data"
    }
   ],
   "source": [
    "#анализ возраста учеников\n",
    "Check_data(stud_math.age)\n",
    "print(outlier(stud_math.age))"
   ]
  },
  {
   "cell_type": "markdown",
   "id": "imported-roommate",
   "metadata": {},
   "source": [
    "В данных всего 5 учеников старше 19 лет, причем возраст 22 года за пределами границы выбросов - удалять выброс не вижу смысла. Пропущенных значений нет."
   ]
  },
  {
   "cell_type": "markdown",
   "id": "homeless-despite",
   "metadata": {},
   "source": [
    "## Анализ образования отца Fedu."
   ]
  },
  {
   "cell_type": "code",
   "execution_count": 1675,
   "id": "verbal-supply",
   "metadata": {},
   "outputs": [
    {
     "name": "stdout",
     "output_type": "stream",
     "text": [
      "Обзор даных для: Fedu\n",
      "2.0     105\n",
      "3.0      94\n",
      "4.0      88\n",
      "1.0      75\n",
      "0.0       2\n",
      "40.0      1\n",
      "Name: Fedu, dtype: int64\n",
      "count    365.000000\n",
      "mean       2.627397\n",
      "std        2.241790\n",
      "min        0.000000\n",
      "25%        2.000000\n",
      "50%        3.000000\n",
      "75%        3.000000\n",
      "max       40.000000\n",
      "Name: Fedu, dtype: float64\n",
      "пропущено значений: 24\n",
      "('25-й перцентиль: 2.0', '75-й перцентиль: 3.0,', 'IQR: 1.0, ', 'Границы выбросов: [0.5, 4.5].')\n"
     ]
    },
    {
     "data": {
      "image/png": "[encoded data removed]",
      "text/plain": [
       "<Figure size 432x288 with 1 Axes>"
      ]
     },
     "metadata": {
      "needs_background": "light"
     },
     "output_type": "display_data"
    }
   ],
   "source": [
    "#анализ образования отца Fedu\n",
    "#(0 - нет, 1 - 4 класса, 2 - 5-9 классы, 3 - среднее специальное или 11 классов, 4 - высшее)\n",
    "Check_data(stud_math.Fedu)\n",
    "print(outlier(stud_math.Fedu))"
   ]
  },
  {
   "cell_type": "markdown",
   "id": "moved-avenue",
   "metadata": {},
   "source": [
    "Сразу замечаем выброс - 40. Считаем опечаткой и заменяем на 4."
   ]
  },
  {
   "cell_type": "code",
   "execution_count": 1676,
   "id": "changing-greensboro",
   "metadata": {},
   "outputs": [
    {
     "data": {
      "text/html": [
       "<div>\n",
       "<style scoped>\n",
       "    .dataframe tbody tr th:only-of-type {\n",
       "        vertical-align: middle;\n",
       "    }\n",
       "\n",
       "    .dataframe tbody tr th {\n",
       "        vertical-align: top;\n",
       "    }\n",
       "\n",
       "    .dataframe thead th {\n",
       "        text-align: right;\n",
       "    }\n",
       "</style>\n",
       "<table border=\"1\" class=\"dataframe\">\n",
       "  <thead>\n",
       "    <tr style=\"text-align: right;\">\n",
       "      <th></th>\n",
       "      <th>school</th>\n",
       "      <th>sex</th>\n",
       "      <th>age</th>\n",
       "      <th>address</th>\n",
       "      <th>famsize</th>\n",
       "      <th>Pstatus</th>\n",
       "      <th>Medu</th>\n",
       "      <th>Fedu</th>\n",
       "      <th>Mjob</th>\n",
       "      <th>Fjob</th>\n",
       "      <th>reason</th>\n",
       "      <th>guardian</th>\n",
       "      <th>traveltime</th>\n",
       "      <th>studytime</th>\n",
       "      <th>failures</th>\n",
       "      <th>schoolsup</th>\n",
       "      <th>famsup</th>\n",
       "      <th>paid</th>\n",
       "      <th>activities</th>\n",
       "      <th>nursery</th>\n",
       "      <th>st_gran</th>\n",
       "      <th>higher</th>\n",
       "      <th>internet</th>\n",
       "      <th>romantic</th>\n",
       "      <th>famrel</th>\n",
       "      <th>freetime</th>\n",
       "      <th>goout</th>\n",
       "      <th>health</th>\n",
       "      <th>absences</th>\n",
       "      <th>score</th>\n",
       "    </tr>\n",
       "  </thead>\n",
       "  <tbody>\n",
       "    <tr>\n",
       "      <th>11</th>\n",
       "      <td>GP</td>\n",
       "      <td>F</td>\n",
       "      <td>15</td>\n",
       "      <td>U</td>\n",
       "      <td>GT3</td>\n",
       "      <td>NaN</td>\n",
       "      <td>2.0</td>\n",
       "      <td>40.0</td>\n",
       "      <td>services</td>\n",
       "      <td>other</td>\n",
       "      <td>reputation</td>\n",
       "      <td>father</td>\n",
       "      <td>3.0</td>\n",
       "      <td>3.0</td>\n",
       "      <td>0.0</td>\n",
       "      <td>no</td>\n",
       "      <td>yes</td>\n",
       "      <td>no</td>\n",
       "      <td>yes</td>\n",
       "      <td>yes</td>\n",
       "      <td>-9.0</td>\n",
       "      <td>yes</td>\n",
       "      <td>yes</td>\n",
       "      <td>no</td>\n",
       "      <td>5.0</td>\n",
       "      <td>2.0</td>\n",
       "      <td>2.0</td>\n",
       "      <td>4.0</td>\n",
       "      <td>4.0</td>\n",
       "      <td>60.0</td>\n",
       "    </tr>\n",
       "  </tbody>\n",
       "</table>\n",
       "</div>"
      ],
      "text/plain": [
       "   school sex  age address famsize Pstatus  Medu  Fedu      Mjob   Fjob  \\\n",
       "11     GP   F   15       U     GT3     NaN   2.0  40.0  services  other   \n",
       "\n",
       "        reason guardian  traveltime  studytime  failures schoolsup famsup  \\\n",
       "11  reputation   father         3.0        3.0       0.0        no    yes   \n",
       "\n",
       "   paid activities nursery  st_gran higher internet romantic  famrel  \\\n",
       "11   no        yes     yes     -9.0    yes      yes       no     5.0   \n",
       "\n",
       "    freetime  goout  health  absences  score  \n",
       "11       2.0    2.0     4.0       4.0   60.0  "
      ]
     },
     "metadata": {},
     "output_type": "display_data"
    },
    {
     "name": "stdout",
     "output_type": "stream",
     "text": [
      "Обзор даных для: Fedu\n",
      "2.0    105\n",
      "3.0     94\n",
      "4.0     89\n",
      "1.0     75\n",
      "0.0      2\n",
      "Name: Fedu, dtype: int64\n",
      "count    365.000000\n",
      "mean       2.528767\n",
      "std        1.088082\n",
      "min        0.000000\n",
      "25%        2.000000\n",
      "50%        3.000000\n",
      "75%        3.000000\n",
      "max        4.000000\n",
      "Name: Fedu, dtype: float64\n",
      "пропущено значений: 24\n",
      "('25-й перцентиль: 2.0', '75-й перцентиль: 3.0,', 'IQR: 1.0, ', 'Границы выбросов: [0.5, 4.5].')\n"
     ]
    },
    {
     "data": {
      "image/png": "[encoded data removed]",
      "text/plain": [
       "<Figure size 432x288 with 1 Axes>"
      ]
     },
     "metadata": {
      "needs_background": "light"
     },
     "output_type": "display_data"
    }
   ],
   "source": [
    "#посмотрим на данные\n",
    "display(stud_math.loc[stud_math['Fedu']==40])\n",
    "#скорее всего опечатка, исправляем\n",
    "stud_math.Fedu=stud_math.Fedu.apply(lambda x: 4 if x==40 else x)\n",
    "\n",
    "\n",
    "#повторный анализ столбца образования отца Fedu\n",
    "#(0 - нет, 1 - 4 класса, 2 - 5-9 классы, 3 - среднее специальное или 11 классов, 4 - высшее)\n",
    "Check_data(stud_math.Fedu)\n",
    "print(outlier(stud_math.Fedu))"
   ]
  },
  {
   "cell_type": "markdown",
   "id": "senior-layer",
   "metadata": {},
   "source": [
    "Данные корректные, зафиксированы выбросв с уровнем образования 0. \n",
    "\n",
    "Посмотрим на пропуски данных Fedu:"
   ]
  },
  {
   "cell_type": "code",
   "execution_count": 1677,
   "id": "bibliographic-integration",
   "metadata": {},
   "outputs": [
    {
     "name": "stdout",
     "output_type": "stream",
     "text": [
      "потеряно значений: 24\n"
     ]
    }
   ],
   "source": [
    "#Посмотрим на отсутствующие данные Fedu \n",
    "print('потеряно значений:',stud_math.Fedu.isna().sum())\n",
    "#display(stud_math.loc[stud_math.Fedu.isna()])\n"
   ]
  },
  {
   "cell_type": "markdown",
   "id": "caroline-google",
   "metadata": {},
   "source": [
    "## Анализ образования матери Medu."
   ]
  },
  {
   "cell_type": "code",
   "execution_count": 1678,
   "id": "institutional-fault",
   "metadata": {},
   "outputs": [
    {
     "name": "stdout",
     "output_type": "stream",
     "text": [
      "Обзор даных для: Medu\n",
      "4.0    131\n",
      "2.0    100\n",
      "3.0     96\n",
      "1.0     56\n",
      "0.0      3\n",
      "Name: Medu, dtype: int64\n",
      "count    386.000000\n",
      "mean       2.766839\n",
      "std        1.094277\n",
      "min        0.000000\n",
      "25%        2.000000\n",
      "50%        3.000000\n",
      "75%        4.000000\n",
      "max        4.000000\n",
      "Name: Medu, dtype: float64\n",
      "пропущено значений: 3\n",
      "('25-й перцентиль: 2.0', '75-й перцентиль: 4.0,', 'IQR: 2.0, ', 'Границы выбросов: [-1.0, 7.0].')\n"
     ]
    },
    {
     "data": {
      "image/png": "[encoded data removed]",
      "text/plain": [
       "<Figure size 432x288 with 1 Axes>"
      ]
     },
     "metadata": {
      "needs_background": "light"
     },
     "output_type": "display_data"
    }
   ],
   "source": [
    "#анализ образования матери Medu\n",
    "#(0 - нет, 1 - 4 класса, 2 - 5-9 классы, 3 - среднее специальное или 11 классов, 4 - высшее)\n",
    "Check_data(stud_math.Medu)\n",
    "print(outlier(stud_math.Medu))\n"
   ]
  },
  {
   "cell_type": "markdown",
   "id": "analyzed-doctrine",
   "metadata": {},
   "source": [
    "Данные Medu  — образование матери - достаточно корректные, имеются пропуски, возможно следует их заменить медианой.\n",
    "Проверим гипотезу наличия сильной корреляции между образованием отца и матери.\n"
   ]
  },
  {
   "cell_type": "code",
   "execution_count": 1679,
   "id": "split-magazine",
   "metadata": {},
   "outputs": [
    {
     "data": {
      "text/plain": [
       "age          -0.152148\n",
       "Medu          0.621981\n",
       "Fedu          1.000000\n",
       "traveltime   -0.132036\n",
       "studytime     0.017306\n",
       "failures     -0.273286\n",
       "st_gran      -0.017207\n",
       "famrel       -0.013287\n",
       "freetime     -0.017263\n",
       "goout         0.050997\n",
       "health        0.018624\n",
       "absences      0.020970\n",
       "score         0.130923\n",
       "dtype: float64"
      ]
     },
     "execution_count": 1679,
     "metadata": {},
     "output_type": "execute_result"
    },
    {
     "data": {
      "image/png": "[encoded data removed]",
      "text/plain": [
       "<Figure size 432x432 with 3 Axes>"
      ]
     },
     "metadata": {
      "needs_background": "light"
     },
     "output_type": "display_data"
    }
   ],
   "source": [
    "#sns.pairplot(stud_math, kind = 'reg')\n",
    "#g=sns.PairGrid(stud_math)\n",
    "#g.map(plt.scatter)\n",
    "sns.jointplot(x='Medu', y='Fedu', data=stud_math, kind='reg')\n",
    "stud_math.corrwith(stud_math.Fedu)"
   ]
  },
  {
   "cell_type": "markdown",
   "id": "everyday-editor",
   "metadata": {},
   "source": [
    "Присутствует существенная корреляция между уровнями образования Fedu и Medu.\n",
    "Корреляцию можно описать в упрощенной форме как: Fedu=0.5*Medu+1 или Medu=2*Fedu-2 \n",
    "\n",
    "с граничным условием 4 - максимальный уровень и 0- минимальный уровень."
   ]
  },
  {
   "cell_type": "code",
   "execution_count": 1680,
   "id": "color-festival",
   "metadata": {},
   "outputs": [
    {
     "name": "stdout",
     "output_type": "stream",
     "text": [
      "потеряно значений: 3\n"
     ]
    },
    {
     "data": {
      "text/html": [
       "<div>\n",
       "<style scoped>\n",
       "    .dataframe tbody tr th:only-of-type {\n",
       "        vertical-align: middle;\n",
       "    }\n",
       "\n",
       "    .dataframe tbody tr th {\n",
       "        vertical-align: top;\n",
       "    }\n",
       "\n",
       "    .dataframe thead th {\n",
       "        text-align: right;\n",
       "    }\n",
       "</style>\n",
       "<table border=\"1\" class=\"dataframe\">\n",
       "  <thead>\n",
       "    <tr style=\"text-align: right;\">\n",
       "      <th></th>\n",
       "      <th>school</th>\n",
       "      <th>sex</th>\n",
       "      <th>age</th>\n",
       "      <th>address</th>\n",
       "      <th>famsize</th>\n",
       "      <th>Pstatus</th>\n",
       "      <th>Medu</th>\n",
       "      <th>Fedu</th>\n",
       "      <th>Mjob</th>\n",
       "      <th>Fjob</th>\n",
       "      <th>reason</th>\n",
       "      <th>guardian</th>\n",
       "      <th>traveltime</th>\n",
       "      <th>studytime</th>\n",
       "      <th>failures</th>\n",
       "      <th>schoolsup</th>\n",
       "      <th>famsup</th>\n",
       "      <th>paid</th>\n",
       "      <th>activities</th>\n",
       "      <th>nursery</th>\n",
       "      <th>st_gran</th>\n",
       "      <th>higher</th>\n",
       "      <th>internet</th>\n",
       "      <th>romantic</th>\n",
       "      <th>famrel</th>\n",
       "      <th>freetime</th>\n",
       "      <th>goout</th>\n",
       "      <th>health</th>\n",
       "      <th>absences</th>\n",
       "      <th>score</th>\n",
       "    </tr>\n",
       "  </thead>\n",
       "  <tbody>\n",
       "    <tr>\n",
       "      <th>92</th>\n",
       "      <td>GP</td>\n",
       "      <td>F</td>\n",
       "      <td>16</td>\n",
       "      <td>NaN</td>\n",
       "      <td>LE3</td>\n",
       "      <td>T</td>\n",
       "      <td>NaN</td>\n",
       "      <td>1.0</td>\n",
       "      <td>other</td>\n",
       "      <td>other</td>\n",
       "      <td>home</td>\n",
       "      <td>father</td>\n",
       "      <td>1.0</td>\n",
       "      <td>2.0</td>\n",
       "      <td>0.0</td>\n",
       "      <td>yes</td>\n",
       "      <td>yes</td>\n",
       "      <td>no</td>\n",
       "      <td>no</td>\n",
       "      <td>yes</td>\n",
       "      <td>-6.0</td>\n",
       "      <td>yes</td>\n",
       "      <td>no</td>\n",
       "      <td>no</td>\n",
       "      <td>3.0</td>\n",
       "      <td>3.0</td>\n",
       "      <td>NaN</td>\n",
       "      <td>2.0</td>\n",
       "      <td>4.0</td>\n",
       "      <td>30.0</td>\n",
       "    </tr>\n",
       "    <tr>\n",
       "      <th>193</th>\n",
       "      <td>GP</td>\n",
       "      <td>M</td>\n",
       "      <td>16</td>\n",
       "      <td>R</td>\n",
       "      <td>GT3</td>\n",
       "      <td>NaN</td>\n",
       "      <td>NaN</td>\n",
       "      <td>3.0</td>\n",
       "      <td>services</td>\n",
       "      <td>services</td>\n",
       "      <td>reputation</td>\n",
       "      <td>mother</td>\n",
       "      <td>1.0</td>\n",
       "      <td>1.0</td>\n",
       "      <td>0.0</td>\n",
       "      <td>no</td>\n",
       "      <td>yes</td>\n",
       "      <td>no</td>\n",
       "      <td>yes</td>\n",
       "      <td>yes</td>\n",
       "      <td>-3.0</td>\n",
       "      <td>yes</td>\n",
       "      <td>yes</td>\n",
       "      <td>no</td>\n",
       "      <td>4.0</td>\n",
       "      <td>3.0</td>\n",
       "      <td>2.0</td>\n",
       "      <td>5.0</td>\n",
       "      <td>8.0</td>\n",
       "      <td>50.0</td>\n",
       "    </tr>\n",
       "    <tr>\n",
       "      <th>238</th>\n",
       "      <td>GP</td>\n",
       "      <td>M</td>\n",
       "      <td>18</td>\n",
       "      <td>U</td>\n",
       "      <td>GT3</td>\n",
       "      <td>NaN</td>\n",
       "      <td>NaN</td>\n",
       "      <td>2.0</td>\n",
       "      <td>other</td>\n",
       "      <td>services</td>\n",
       "      <td>reputation</td>\n",
       "      <td>father</td>\n",
       "      <td>1.0</td>\n",
       "      <td>2.0</td>\n",
       "      <td>1.0</td>\n",
       "      <td>no</td>\n",
       "      <td>no</td>\n",
       "      <td>no</td>\n",
       "      <td>no</td>\n",
       "      <td>yes</td>\n",
       "      <td>-6.0</td>\n",
       "      <td>no</td>\n",
       "      <td>NaN</td>\n",
       "      <td>NaN</td>\n",
       "      <td>5.0</td>\n",
       "      <td>5.0</td>\n",
       "      <td>4.0</td>\n",
       "      <td>2.0</td>\n",
       "      <td>0.0</td>\n",
       "      <td>0.0</td>\n",
       "    </tr>\n",
       "  </tbody>\n",
       "</table>\n",
       "</div>"
      ],
      "text/plain": [
       "    school sex  age address famsize Pstatus  Medu  Fedu      Mjob      Fjob  \\\n",
       "92      GP   F   16     NaN     LE3       T   NaN   1.0     other     other   \n",
       "193     GP   M   16       R     GT3     NaN   NaN   3.0  services  services   \n",
       "238     GP   M   18       U     GT3     NaN   NaN   2.0     other  services   \n",
       "\n",
       "         reason guardian  traveltime  studytime  failures schoolsup famsup  \\\n",
       "92         home   father         1.0        2.0       0.0       yes    yes   \n",
       "193  reputation   mother         1.0        1.0       0.0        no    yes   \n",
       "238  reputation   father         1.0        2.0       1.0        no     no   \n",
       "\n",
       "    paid activities nursery  st_gran higher internet romantic  famrel  \\\n",
       "92    no         no     yes     -6.0    yes       no       no     3.0   \n",
       "193   no        yes     yes     -3.0    yes      yes       no     4.0   \n",
       "238   no         no     yes     -6.0     no      NaN      NaN     5.0   \n",
       "\n",
       "     freetime  goout  health  absences  score  \n",
       "92        3.0    NaN     2.0       4.0   30.0  \n",
       "193       3.0    2.0     5.0       8.0   50.0  \n",
       "238       5.0    4.0     2.0       0.0    0.0  "
      ]
     },
     "metadata": {},
     "output_type": "display_data"
    }
   ],
   "source": [
    "#Посмотрим на данные и восстанавливаем отсутствующие данные Medu \n",
    "print('потеряно значений:',stud_math.Medu.isna().sum())\n",
    "display(stud_math.loc[stud_math.Medu.isna()])"
   ]
  },
  {
   "cell_type": "markdown",
   "id": "enormous-birthday",
   "metadata": {},
   "source": [
    "Попробуем восстановить данные Medu - используя данные Fedu (в данном наборе данных нам повезло и отсутствуют строки, где одновременно нет Medu и  Fedu ):"
   ]
  },
  {
   "cell_type": "code",
   "execution_count": 1681,
   "id": "white-stand",
   "metadata": {},
   "outputs": [],
   "source": [
    "def calc1(x):\n",
    "    y = x*2-2\n",
    "    if y < 0:\n",
    "        y = 0\n",
    "    elif y > 4:\n",
    "        y = 4\n",
    "    return y\n",
    "\n",
    "stud_math['Medu']=stud_math.apply(lambda x: calc1(x['Fedu']) if pd.isna(x['Medu']) else x['Medu'], axis=1)\n",
    "\n",
    "\n",
    "#ниже вариант работает, но только без граничных условий - не универсальный, может как-то возможно его реализовать?\n",
    "#stud_math.Medu = stud_math.Medu.fillna(stud_math.Fedu*2-2)\n"
   ]
  },
  {
   "cell_type": "markdown",
   "id": "magnetic-middle",
   "metadata": {},
   "source": [
    "Попробуем восстановить данные Fedu - используя данные Medu (в данном наборе данных отсутствуют данные, где одновременно нет Medu и Fedu ):"
   ]
  },
  {
   "cell_type": "code",
   "execution_count": 1682,
   "id": "european-publicity",
   "metadata": {},
   "outputs": [],
   "source": [
    "def calc2(x):\n",
    "    y = round(x*0.5+1)\n",
    "    if y > 4:\n",
    "        y = 4\n",
    "    return y\n",
    "\n",
    "stud_math['Fedu']=stud_math.apply(lambda x: calc2(x['Medu']) if pd.isna(x['Fedu']) else x['Fedu'], axis=1)"
   ]
  },
  {
   "cell_type": "code",
   "execution_count": 1683,
   "id": "wrong-promotion",
   "metadata": {},
   "outputs": [
    {
     "data": {
      "text/html": [
       "<div>\n",
       "<style scoped>\n",
       "    .dataframe tbody tr th:only-of-type {\n",
       "        vertical-align: middle;\n",
       "    }\n",
       "\n",
       "    .dataframe tbody tr th {\n",
       "        vertical-align: top;\n",
       "    }\n",
       "\n",
       "    .dataframe thead th {\n",
       "        text-align: right;\n",
       "    }\n",
       "</style>\n",
       "<table border=\"1\" class=\"dataframe\">\n",
       "  <thead>\n",
       "    <tr style=\"text-align: right;\">\n",
       "      <th></th>\n",
       "      <th>school</th>\n",
       "      <th>sex</th>\n",
       "      <th>age</th>\n",
       "      <th>address</th>\n",
       "      <th>famsize</th>\n",
       "      <th>Pstatus</th>\n",
       "      <th>Medu</th>\n",
       "      <th>Fedu</th>\n",
       "      <th>Mjob</th>\n",
       "      <th>Fjob</th>\n",
       "      <th>reason</th>\n",
       "      <th>guardian</th>\n",
       "      <th>traveltime</th>\n",
       "      <th>studytime</th>\n",
       "      <th>failures</th>\n",
       "      <th>schoolsup</th>\n",
       "      <th>famsup</th>\n",
       "      <th>paid</th>\n",
       "      <th>activities</th>\n",
       "      <th>nursery</th>\n",
       "      <th>st_gran</th>\n",
       "      <th>higher</th>\n",
       "      <th>internet</th>\n",
       "      <th>romantic</th>\n",
       "      <th>famrel</th>\n",
       "      <th>freetime</th>\n",
       "      <th>goout</th>\n",
       "      <th>health</th>\n",
       "      <th>absences</th>\n",
       "      <th>score</th>\n",
       "    </tr>\n",
       "  </thead>\n",
       "  <tbody>\n",
       "  </tbody>\n",
       "</table>\n",
       "</div>"
      ],
      "text/plain": [
       "Empty DataFrame\n",
       "Columns: [school, sex, age, address, famsize, Pstatus, Medu, Fedu, Mjob, Fjob, reason, guardian, traveltime, studytime, failures, schoolsup, famsup, paid, activities, nursery, st_gran, higher, internet, romantic, famrel, freetime, goout, health, absences, score]\n",
       "Index: []"
      ]
     },
     "metadata": {},
     "output_type": "display_data"
    }
   ],
   "source": [
    "#проверка работоспособности\n",
    "display(stud_math.loc[stud_math.Fedu.isna()])\n",
    "#display(stud_math.loc[21])"
   ]
  },
  {
   "cell_type": "code",
   "execution_count": 1684,
   "id": "crazy-botswana",
   "metadata": {
    "scrolled": false
   },
   "outputs": [
    {
     "data": {
      "text/plain": [
       "age          -0.151045\n",
       "Medu          0.622863\n",
       "Fedu          1.000000\n",
       "traveltime   -0.126219\n",
       "studytime     0.013630\n",
       "failures     -0.276451\n",
       "st_gran      -0.013577\n",
       "famrel       -0.007645\n",
       "freetime     -0.019321\n",
       "goout         0.046873\n",
       "health        0.017135\n",
       "absences      0.022784\n",
       "score         0.134643\n",
       "dtype: float64"
      ]
     },
     "execution_count": 1684,
     "metadata": {},
     "output_type": "execute_result"
    },
    {
     "data": {
      "image/png": "[encoded data removed]",
      "text/plain": [
       "<Figure size 432x432 with 3 Axes>"
      ]
     },
     "metadata": {
      "needs_background": "light"
     },
     "output_type": "display_data"
    }
   ],
   "source": [
    "sns.jointplot(x='Medu', y='Fedu', data=stud_math, kind='reg')\n",
    "stud_math.corrwith(stud_math.Fedu)"
   ]
  },
  {
   "cell_type": "markdown",
   "id": "close-headquarters",
   "metadata": {},
   "source": [
    "Видим, что данные восстановлены и корреляция выросла всего на 0.0009"
   ]
  },
  {
   "cell_type": "markdown",
   "id": "advanced-baking",
   "metadata": {},
   "source": [
    "## Анализ address и traveltime."
   ]
  },
  {
   "cell_type": "markdown",
   "id": "extra-monthly",
   "metadata": {},
   "source": [
    "### Анализ traveltime."
   ]
  },
  {
   "cell_type": "code",
   "execution_count": 1685,
   "id": "physical-sussex",
   "metadata": {},
   "outputs": [
    {
     "name": "stdout",
     "output_type": "stream",
     "text": [
      "Обзор даных для: traveltime\n",
      "1.0    239\n",
      "2.0     94\n",
      "3.0     21\n",
      "4.0      7\n",
      "Name: traveltime, dtype: int64\n",
      "count    361.000000\n",
      "mean       1.434903\n",
      "std        0.692660\n",
      "min        1.000000\n",
      "25%        1.000000\n",
      "50%        1.000000\n",
      "75%        2.000000\n",
      "max        4.000000\n",
      "Name: traveltime, dtype: float64\n",
      "пропущено значений: 28\n",
      "('25-й перцентиль: 1.0', '75-й перцентиль: 2.0,', 'IQR: 1.0, ', 'Границы выбросов: [-0.5, 3.5].')\n"
     ]
    },
    {
     "data": {
      "image/png": "[encoded data removed]",
      "text/plain": [
       "<Figure size 432x288 with 1 Axes>"
      ]
     },
     "metadata": {
      "needs_background": "light"
     },
     "output_type": "display_data"
    }
   ],
   "source": [
    "# Проверим значения в столбце traveltime\n",
    "Check_data(stud_math.traveltime)\n",
    "print(outlier(stud_math.traveltime))"
   ]
  },
  {
   "cell_type": "markdown",
   "id": "honey-accused",
   "metadata": {},
   "source": [
    "Предварительный анализ показал наличие выбросов для traveltime =4. Однако по распределению видим, что значения корректны и удаление выбросов нецелесообразно для анализа данных.\n",
    "\n",
    "28 строк с отсутствием времени на дорогу.\n",
    "\n",
    "Проверим распределение времени на дорогу по разным школам. \n"
   ]
  },
  {
   "cell_type": "code",
   "execution_count": 1686,
   "id": "promotional-briefing",
   "metadata": {},
   "outputs": [
    {
     "data": {
      "text/plain": [
       "<AxesSubplot:>"
      ]
     },
     "execution_count": 1686,
     "metadata": {},
     "output_type": "execute_result"
    },
    {
     "data": {
      "image/png": "[encoded data removed]",
      "text/plain": [
       "<Figure size 432x288 with 1 Axes>"
      ]
     },
     "metadata": {
      "needs_background": "light"
     },
     "output_type": "display_data"
    }
   ],
   "source": [
    "stud_math.loc[stud_math.school=='GP'].traveltime.hist(bins=10)\n",
    "stud_math.loc[stud_math.school=='MS'].traveltime.hist(bins=10)"
   ]
  },
  {
   "cell_type": "markdown",
   "id": "corresponding-niagara",
   "metadata": {},
   "source": [
    "Замечаем отличие в распределение для школы MS. Проверим данные для школы MS:"
   ]
  },
  {
   "cell_type": "code",
   "execution_count": 1687,
   "id": "northern-destiny",
   "metadata": {},
   "outputs": [
    {
     "name": "stdout",
     "output_type": "stream",
     "text": [
      "Обзор даных для: traveltime\n",
      "2.0    20\n",
      "1.0    13\n",
      "3.0     7\n",
      "4.0     1\n",
      "Name: traveltime, dtype: int64\n",
      "count    41.000000\n",
      "mean      1.902439\n",
      "std       0.768273\n",
      "min       1.000000\n",
      "25%       1.000000\n",
      "50%       2.000000\n",
      "75%       2.000000\n",
      "max       4.000000\n",
      "Name: traveltime, dtype: float64\n",
      "пропущено значений: 4\n",
      "('25-й перцентиль: 1.0', '75-й перцентиль: 2.0,', 'IQR: 1.0, ', 'Границы выбросов: [-0.5, 3.5].')\n"
     ]
    },
    {
     "data": {
      "image/png": "[encoded data removed]",
      "text/plain": [
       "<Figure size 432x288 with 1 Axes>"
      ]
     },
     "metadata": {
      "needs_background": "light"
     },
     "output_type": "display_data"
    }
   ],
   "source": [
    "Check_data(stud_math.loc[stud_math.school=='MS'].traveltime)\n",
    "print(outlier(stud_math.loc[stud_math.school=='MS'].traveltime))"
   ]
  },
  {
   "cell_type": "markdown",
   "id": "threaded-jurisdiction",
   "metadata": {},
   "source": [
    "для восстановления данных для школы MS медиана 2\n",
    "для школы GP медиана 1"
   ]
  },
  {
   "cell_type": "markdown",
   "id": "seasonal-tolerance",
   "metadata": {},
   "source": [
    "### Анализ address."
   ]
  },
  {
   "cell_type": "code",
   "execution_count": 1688,
   "id": "alive-rogers",
   "metadata": {},
   "outputs": [
    {
     "name": "stdout",
     "output_type": "stream",
     "text": [
      "Обзор даных для: address\n",
      "U    291\n",
      "R     83\n",
      "Name: address, dtype: int64\n",
      "count     374\n",
      "unique      2\n",
      "top         U\n",
      "freq      291\n",
      "Name: address, dtype: object\n",
      "пропущено значений: 15\n"
     ]
    },
    {
     "data": {
      "image/png": "[encoded data removed]",
      "text/plain": [
       "<Figure size 432x288 with 1 Axes>"
      ]
     },
     "metadata": {
      "needs_background": "light"
     },
     "output_type": "display_data"
    }
   ],
   "source": [
    "# Проверим значения в столбце address\n",
    "Check_data(stud_math.address)"
   ]
  },
  {
   "cell_type": "markdown",
   "id": "systematic-coverage",
   "metadata": {},
   "source": [
    "Проверим гипотезу взаимосвязи времени на дорогу с местом проживания ученика (город/пригород) по серии гистограмм."
   ]
  },
  {
   "cell_type": "code",
   "execution_count": 1689,
   "id": "civilian-imperial",
   "metadata": {
    "scrolled": false
   },
   "outputs": [
    {
     "data": {
      "text/plain": [
       "<matplotlib.legend.Legend at 0x4316970280>"
      ]
     },
     "execution_count": 1689,
     "metadata": {},
     "output_type": "execute_result"
    },
    {
     "data": {
      "image/png": "[encoded data removed]",
      "text/plain": [
       "<Figure size 432x288 with 1 Axes>"
      ]
     },
     "metadata": {
      "needs_background": "light"
     },
     "output_type": "display_data"
    }
   ],
   "source": [
    "test_df = stud_math[['address', 'traveltime','school']]\n",
    "#удалили все строки с отсутствующими значениями\n",
    "test_df.dropna(inplace=True)\n",
    "test_df.reset_index(drop=True, inplace=True)\n",
    "\n",
    "sns.histplot(test_df.loc[test_df.school=='MS'][test_df.address=='U'].traveltime, label='urban_MS')\n",
    "sns.histplot(test_df.loc[test_df.school=='GP'][test_df.address=='U'].traveltime, label='urban_GP',color='darkred')\n",
    "sns.histplot(test_df.loc[test_df.school=='MS'][test_df.address=='R'].traveltime, label='country_MS',color='aqua')\n",
    "sns.histplot(test_df.loc[test_df.school=='GP'][test_df.address=='R'].traveltime, label='country_GP',color='skyblue')\n",
    "\n",
    "plt.legend()\n"
   ]
  },
  {
   "cell_type": "markdown",
   "id": "impaired-enhancement",
   "metadata": {},
   "source": [
    "Видимой зависимости   traveltime от address( места проживания город-пригород) на гистограммах не прослеживается."
   ]
  },
  {
   "cell_type": "code",
   "execution_count": 1690,
   "id": "combined-violin",
   "metadata": {},
   "outputs": [
    {
     "data": {
      "image/png": "[encoded data removed]",
      "text/plain": [
       "<Figure size 1008x288 with 1 Axes>"
      ]
     },
     "metadata": {
      "needs_background": "light"
     },
     "output_type": "display_data"
    }
   ],
   "source": [
    "# Построим боксплот\n",
    "    \n",
    "fig, ax = plt.subplots(figsize = (14, 4))\n",
    "sns.boxplot(x=stud_math['address'], y=stud_math['traveltime'], ax=ax)\n",
    "plt.xticks(rotation=45)\n",
    "ax.set_title('Boxplot for traveltime vs address')\n",
    "plt.show()\n"
   ]
  },
  {
   "cell_type": "markdown",
   "id": "wrong-intention",
   "metadata": {},
   "source": [
    "Вывод: четкой зависимости traveltime от места проживания (Город-пригород) не прослеживается."
   ]
  },
  {
   "cell_type": "markdown",
   "id": "liquid-window",
   "metadata": {},
   "source": [
    "Зависимость для школы MS отличается, поэтому посмотрим ее отдельно, зависит ли traveltime для учеников школы MS от места проживания?"
   ]
  },
  {
   "cell_type": "code",
   "execution_count": 1691,
   "id": "legendary-stomach",
   "metadata": {},
   "outputs": [
    {
     "name": "stdout",
     "output_type": "stream",
     "text": [
      "Обзор даных для: traveltime\n",
      "2.0    9\n",
      "1.0    8\n",
      "Name: traveltime, dtype: int64\n",
      "count    17.000000\n",
      "mean      1.529412\n",
      "std       0.514496\n",
      "min       1.000000\n",
      "25%       1.000000\n",
      "50%       2.000000\n",
      "75%       2.000000\n",
      "max       2.000000\n",
      "Name: traveltime, dtype: float64\n",
      "пропущено значений: 1\n",
      "('25-й перцентиль: 1.0', '75-й перцентиль: 2.0,', 'IQR: 1.0, ', 'Границы выбросов: [-0.5, 3.5].')\n"
     ]
    },
    {
     "data": {
      "image/png": "[encoded data removed]",
      "text/plain": [
       "<Figure size 432x288 with 1 Axes>"
      ]
     },
     "metadata": {
      "needs_background": "light"
     },
     "output_type": "display_data"
    }
   ],
   "source": [
    "#display(stud_math.loc[(stud_math.school=='MS') & (stud_math.address=='U')])\n",
    "\n",
    "Check_data(stud_math.loc[(stud_math.school=='MS') & (stud_math.address=='U')].traveltime)\n",
    "print(outlier(stud_math.loc[(stud_math.school=='MS') & (stud_math.address=='U')].traveltime))"
   ]
  },
  {
   "cell_type": "code",
   "execution_count": 1692,
   "id": "spectacular-behavior",
   "metadata": {},
   "outputs": [
    {
     "name": "stdout",
     "output_type": "stream",
     "text": [
      "Обзор даных для: traveltime\n",
      "2.0    8\n",
      "3.0    7\n",
      "1.0    5\n",
      "4.0    1\n",
      "Name: traveltime, dtype: int64\n",
      "count    21.000000\n",
      "mean      2.190476\n",
      "std       0.872872\n",
      "min       1.000000\n",
      "25%       2.000000\n",
      "50%       2.000000\n",
      "75%       3.000000\n",
      "max       4.000000\n",
      "Name: traveltime, dtype: float64\n",
      "пропущено значений: 2\n",
      "('25-й перцентиль: 2.0', '75-й перцентиль: 3.0,', 'IQR: 1.0, ', 'Границы выбросов: [0.5, 4.5].')\n"
     ]
    },
    {
     "data": {
      "image/png": "[encoded data removed]",
      "text/plain": [
       "<Figure size 432x288 with 1 Axes>"
      ]
     },
     "metadata": {
      "needs_background": "light"
     },
     "output_type": "display_data"
    }
   ],
   "source": [
    "Check_data(stud_math.loc[(stud_math.school=='MS') & (stud_math.address=='R')].traveltime)\n",
    "print(outlier(stud_math.loc[(stud_math.school=='MS') & (stud_math.address=='R')].traveltime))"
   ]
  },
  {
   "cell_type": "markdown",
   "id": "physical-cooling",
   "metadata": {},
   "source": [
    "Из анализа видно, что медиана - traveltime для школы MS не зависит от адреса проживания и равна 2."
   ]
  },
  {
   "cell_type": "markdown",
   "id": "marked-spice",
   "metadata": {},
   "source": [
    "###  Восстановление traveltime."
   ]
  },
  {
   "cell_type": "markdown",
   "id": "civic-jaguar",
   "metadata": {},
   "source": [
    "Восстановим traveltime для учеников школы MS используя медиану -2"
   ]
  },
  {
   "cell_type": "code",
   "execution_count": 1693,
   "id": "enabling-radical",
   "metadata": {},
   "outputs": [],
   "source": [
    "# Восстановление данных медианой\n",
    "\n",
    "m1=stud_math[stud_math.school=='MS'].traveltime.median()\n",
    "stud_math.loc[(stud_math['school']=='MS') & (pd.isna(stud_math['traveltime'])), 'traveltime'] = m1\n",
    "\n"
   ]
  },
  {
   "cell_type": "markdown",
   "id": "vertical-intellectual",
   "metadata": {},
   "source": [
    "Восстановим traveltime для школы GP используя медиану -1"
   ]
  },
  {
   "cell_type": "code",
   "execution_count": 1694,
   "id": "emerging-hindu",
   "metadata": {},
   "outputs": [],
   "source": [
    "m1=stud_math[stud_math.school=='GP'].traveltime.median()\n",
    "stud_math.loc[(stud_math['school']=='GP') & (pd.isna(stud_math['traveltime'])), 'traveltime'] = m1\n"
   ]
  },
  {
   "cell_type": "markdown",
   "id": "healthy-oliver",
   "metadata": {},
   "source": [
    "###  Восстановление address."
   ]
  },
  {
   "cell_type": "markdown",
   "id": "inner-nylon",
   "metadata": {},
   "source": [
    "Сформируем тестовый датафрейм для проверки гипотезы явной зависимость address от score:"
   ]
  },
  {
   "cell_type": "code",
   "execution_count": 1695,
   "id": "acknowledged-ozone",
   "metadata": {},
   "outputs": [
    {
     "data": {
      "text/plain": [
       "<matplotlib.legend.Legend at 0x4316bdf580>"
      ]
     },
     "execution_count": 1695,
     "metadata": {},
     "output_type": "execute_result"
    },
    {
     "data": {
      "image/png": "[encoded data removed]",
      "text/plain": [
       "<Figure size 432x288 with 1 Axes>"
      ]
     },
     "metadata": {
      "needs_background": "light"
     },
     "output_type": "display_data"
    }
   ],
   "source": [
    "test_df = stud_math[['address', 'score','reason','traveltime','Medu']]\n",
    "#удалили все строки с отсутствующими значениями\n",
    "test_df.dropna(inplace=True)\n",
    "test_df.reset_index(drop=True, inplace=True)\n",
    "\n",
    "sns.histplot(test_df.loc[test_df.address=='U'].score, label='urban', color='skyblue')\n",
    "sns.histplot(test_df.loc[test_df.address=='R'].score, label='suburban', color='darkred')\n",
    "plt.legend()"
   ]
  },
  {
   "cell_type": "code",
   "execution_count": 1696,
   "id": "healthy-belarus",
   "metadata": {},
   "outputs": [
    {
     "name": "stdout",
     "output_type": "stream",
     "text": [
      "Обзор даных для: score\n",
      "50.0     34\n",
      "55.0     31\n",
      "75.0     26\n",
      "40.0     25\n",
      "0.0      24\n",
      "70.0     23\n",
      "65.0     22\n",
      "45.0     21\n",
      "60.0     20\n",
      "80.0     11\n",
      "30.0     11\n",
      "90.0     10\n",
      "85.0      5\n",
      "95.0      4\n",
      "35.0      3\n",
      "25.0      3\n",
      "20.0      1\n",
      "100.0     1\n",
      "Name: score, dtype: int64\n",
      "count    275.000000\n",
      "mean      53.654545\n",
      "std       22.845257\n",
      "min        0.000000\n",
      "25%       45.000000\n",
      "50%       55.000000\n",
      "75%       70.000000\n",
      "max      100.000000\n",
      "Name: score, dtype: float64\n",
      "пропущено значений: 0\n",
      "('25-й перцентиль: 45.0', '75-й перцентиль: 70.0,', 'IQR: 25.0, ', 'Границы выбросов: [7.5, 107.5].')\n"
     ]
    },
    {
     "data": {
      "image/png": "[encoded data removed]",
      "text/plain": [
       "<Figure size 432x288 with 1 Axes>"
      ]
     },
     "metadata": {
      "needs_background": "light"
     },
     "output_type": "display_data"
    }
   ],
   "source": [
    "Check_data(test_df.loc[test_df.address=='U'].score)\n",
    "print(outlier(test_df.loc[test_df.address=='U'].score))"
   ]
  },
  {
   "cell_type": "code",
   "execution_count": 1697,
   "id": "dutch-travel",
   "metadata": {},
   "outputs": [
    {
     "name": "stdout",
     "output_type": "stream",
     "text": [
      "Обзор даных для: score\n",
      "50.0    17\n",
      "0.0     10\n",
      "55.0     9\n",
      "65.0     7\n",
      "40.0     6\n",
      "60.0     6\n",
      "35.0     6\n",
      "80.0     3\n",
      "25.0     3\n",
      "30.0     3\n",
      "70.0     3\n",
      "45.0     3\n",
      "75.0     2\n",
      "90.0     2\n",
      "95.0     1\n",
      "85.0     1\n",
      "Name: score, dtype: int64\n",
      "count    82.000000\n",
      "mean     47.195122\n",
      "std      23.162037\n",
      "min       0.000000\n",
      "25%      35.000000\n",
      "50%      50.000000\n",
      "75%      60.000000\n",
      "max      95.000000\n",
      "Name: score, dtype: float64\n",
      "пропущено значений: 0\n",
      "('25-й перцентиль: 35.0', '75-й перцентиль: 60.0,', 'IQR: 25.0, ', 'Границы выбросов: [-2.5, 97.5].')\n"
     ]
    },
    {
     "data": {
      "image/png": "[encoded data removed]",
      "text/plain": [
       "<Figure size 432x288 with 1 Axes>"
      ]
     },
     "metadata": {
      "needs_background": "light"
     },
     "output_type": "display_data"
    }
   ],
   "source": [
    "Check_data(test_df.loc[test_df.address=='R'].score)\n",
    "print(outlier(test_df.loc[test_df.address=='R'].score))"
   ]
  },
  {
   "cell_type": "markdown",
   "id": "union-obligation",
   "metadata": {},
   "source": [
    "Результаты анализа паказали нечеткую зависимость address от score и использовать score для прямого восстановления адреса не рекомендую."
   ]
  },
  {
   "cell_type": "code",
   "execution_count": 1698,
   "id": "imperial-boards",
   "metadata": {},
   "outputs": [
    {
     "name": "stdout",
     "output_type": "stream",
     "text": [
      "потеряно значений: 15\n"
     ]
    },
    {
     "data": {
      "text/html": [
       "<div>\n",
       "<style scoped>\n",
       "    .dataframe tbody tr th:only-of-type {\n",
       "        vertical-align: middle;\n",
       "    }\n",
       "\n",
       "    .dataframe tbody tr th {\n",
       "        vertical-align: top;\n",
       "    }\n",
       "\n",
       "    .dataframe thead th {\n",
       "        text-align: right;\n",
       "    }\n",
       "</style>\n",
       "<table border=\"1\" class=\"dataframe\">\n",
       "  <thead>\n",
       "    <tr style=\"text-align: right;\">\n",
       "      <th></th>\n",
       "      <th>school</th>\n",
       "      <th>sex</th>\n",
       "      <th>age</th>\n",
       "      <th>address</th>\n",
       "      <th>famsize</th>\n",
       "      <th>Pstatus</th>\n",
       "      <th>Medu</th>\n",
       "      <th>Fedu</th>\n",
       "      <th>Mjob</th>\n",
       "      <th>Fjob</th>\n",
       "      <th>reason</th>\n",
       "      <th>guardian</th>\n",
       "      <th>traveltime</th>\n",
       "      <th>studytime</th>\n",
       "      <th>failures</th>\n",
       "      <th>schoolsup</th>\n",
       "      <th>famsup</th>\n",
       "      <th>paid</th>\n",
       "      <th>activities</th>\n",
       "      <th>nursery</th>\n",
       "      <th>st_gran</th>\n",
       "      <th>higher</th>\n",
       "      <th>internet</th>\n",
       "      <th>romantic</th>\n",
       "      <th>famrel</th>\n",
       "      <th>freetime</th>\n",
       "      <th>goout</th>\n",
       "      <th>health</th>\n",
       "      <th>absences</th>\n",
       "      <th>score</th>\n",
       "    </tr>\n",
       "  </thead>\n",
       "  <tbody>\n",
       "    <tr>\n",
       "      <th>6</th>\n",
       "      <td>GP</td>\n",
       "      <td>M</td>\n",
       "      <td>16</td>\n",
       "      <td>NaN</td>\n",
       "      <td>LE3</td>\n",
       "      <td>T</td>\n",
       "      <td>2.0</td>\n",
       "      <td>2.0</td>\n",
       "      <td>other</td>\n",
       "      <td>other</td>\n",
       "      <td>home</td>\n",
       "      <td>mother</td>\n",
       "      <td>1.0</td>\n",
       "      <td>2.0</td>\n",
       "      <td>0.0</td>\n",
       "      <td>no</td>\n",
       "      <td>no</td>\n",
       "      <td>no</td>\n",
       "      <td>no</td>\n",
       "      <td>yes</td>\n",
       "      <td>-6.0</td>\n",
       "      <td>yes</td>\n",
       "      <td>yes</td>\n",
       "      <td>no</td>\n",
       "      <td>4.0</td>\n",
       "      <td>4.0</td>\n",
       "      <td>4.0</td>\n",
       "      <td>3.0</td>\n",
       "      <td>0.0</td>\n",
       "      <td>55.0</td>\n",
       "    </tr>\n",
       "    <tr>\n",
       "      <th>52</th>\n",
       "      <td>GP</td>\n",
       "      <td>M</td>\n",
       "      <td>15</td>\n",
       "      <td>NaN</td>\n",
       "      <td>LE3</td>\n",
       "      <td>A</td>\n",
       "      <td>4.0</td>\n",
       "      <td>2.0</td>\n",
       "      <td>health</td>\n",
       "      <td>NaN</td>\n",
       "      <td>other</td>\n",
       "      <td>father</td>\n",
       "      <td>2.0</td>\n",
       "      <td>1.0</td>\n",
       "      <td>1.0</td>\n",
       "      <td>no</td>\n",
       "      <td>NaN</td>\n",
       "      <td>no</td>\n",
       "      <td>no</td>\n",
       "      <td>yes</td>\n",
       "      <td>-3.0</td>\n",
       "      <td>yes</td>\n",
       "      <td>NaN</td>\n",
       "      <td>no</td>\n",
       "      <td>5.0</td>\n",
       "      <td>5.0</td>\n",
       "      <td>5.0</td>\n",
       "      <td>5.0</td>\n",
       "      <td>6.0</td>\n",
       "      <td>50.0</td>\n",
       "    </tr>\n",
       "    <tr>\n",
       "      <th>75</th>\n",
       "      <td>GP</td>\n",
       "      <td>M</td>\n",
       "      <td>15</td>\n",
       "      <td>NaN</td>\n",
       "      <td>GT3</td>\n",
       "      <td>T</td>\n",
       "      <td>4.0</td>\n",
       "      <td>3.0</td>\n",
       "      <td>teacher</td>\n",
       "      <td>other</td>\n",
       "      <td>home</td>\n",
       "      <td>mother</td>\n",
       "      <td>1.0</td>\n",
       "      <td>2.0</td>\n",
       "      <td>0.0</td>\n",
       "      <td>no</td>\n",
       "      <td>yes</td>\n",
       "      <td>yes</td>\n",
       "      <td>yes</td>\n",
       "      <td>yes</td>\n",
       "      <td>-6.0</td>\n",
       "      <td>yes</td>\n",
       "      <td>yes</td>\n",
       "      <td>NaN</td>\n",
       "      <td>NaN</td>\n",
       "      <td>3.0</td>\n",
       "      <td>3.0</td>\n",
       "      <td>5.0</td>\n",
       "      <td>6.0</td>\n",
       "      <td>50.0</td>\n",
       "    </tr>\n",
       "    <tr>\n",
       "      <th>92</th>\n",
       "      <td>GP</td>\n",
       "      <td>F</td>\n",
       "      <td>16</td>\n",
       "      <td>NaN</td>\n",
       "      <td>LE3</td>\n",
       "      <td>T</td>\n",
       "      <td>0.0</td>\n",
       "      <td>1.0</td>\n",
       "      <td>other</td>\n",
       "      <td>other</td>\n",
       "      <td>home</td>\n",
       "      <td>father</td>\n",
       "      <td>1.0</td>\n",
       "      <td>2.0</td>\n",
       "      <td>0.0</td>\n",
       "      <td>yes</td>\n",
       "      <td>yes</td>\n",
       "      <td>no</td>\n",
       "      <td>no</td>\n",
       "      <td>yes</td>\n",
       "      <td>-6.0</td>\n",
       "      <td>yes</td>\n",
       "      <td>no</td>\n",
       "      <td>no</td>\n",
       "      <td>3.0</td>\n",
       "      <td>3.0</td>\n",
       "      <td>NaN</td>\n",
       "      <td>2.0</td>\n",
       "      <td>4.0</td>\n",
       "      <td>30.0</td>\n",
       "    </tr>\n",
       "    <tr>\n",
       "      <th>96</th>\n",
       "      <td>GP</td>\n",
       "      <td>M</td>\n",
       "      <td>16</td>\n",
       "      <td>NaN</td>\n",
       "      <td>GT3</td>\n",
       "      <td>NaN</td>\n",
       "      <td>4.0</td>\n",
       "      <td>3.0</td>\n",
       "      <td>services</td>\n",
       "      <td>other</td>\n",
       "      <td>reputation</td>\n",
       "      <td>mother</td>\n",
       "      <td>2.0</td>\n",
       "      <td>1.0</td>\n",
       "      <td>0.0</td>\n",
       "      <td>yes</td>\n",
       "      <td>yes</td>\n",
       "      <td>NaN</td>\n",
       "      <td>yes</td>\n",
       "      <td>no</td>\n",
       "      <td>-3.0</td>\n",
       "      <td>NaN</td>\n",
       "      <td>yes</td>\n",
       "      <td>no</td>\n",
       "      <td>3.0</td>\n",
       "      <td>3.0</td>\n",
       "      <td>3.0</td>\n",
       "      <td>4.0</td>\n",
       "      <td>2.0</td>\n",
       "      <td>75.0</td>\n",
       "    </tr>\n",
       "    <tr>\n",
       "      <th>159</th>\n",
       "      <td>GP</td>\n",
       "      <td>M</td>\n",
       "      <td>16</td>\n",
       "      <td>NaN</td>\n",
       "      <td>GT3</td>\n",
       "      <td>T</td>\n",
       "      <td>3.0</td>\n",
       "      <td>2.0</td>\n",
       "      <td>other</td>\n",
       "      <td>services</td>\n",
       "      <td>course</td>\n",
       "      <td>father</td>\n",
       "      <td>1.0</td>\n",
       "      <td>2.0</td>\n",
       "      <td>1.0</td>\n",
       "      <td>no</td>\n",
       "      <td>yes</td>\n",
       "      <td>yes</td>\n",
       "      <td>no</td>\n",
       "      <td>yes</td>\n",
       "      <td>-6.0</td>\n",
       "      <td>yes</td>\n",
       "      <td>yes</td>\n",
       "      <td>yes</td>\n",
       "      <td>4.0</td>\n",
       "      <td>5.0</td>\n",
       "      <td>5.0</td>\n",
       "      <td>5.0</td>\n",
       "      <td>4.0</td>\n",
       "      <td>60.0</td>\n",
       "    </tr>\n",
       "    <tr>\n",
       "      <th>168</th>\n",
       "      <td>GP</td>\n",
       "      <td>F</td>\n",
       "      <td>16</td>\n",
       "      <td>NaN</td>\n",
       "      <td>GT3</td>\n",
       "      <td>T</td>\n",
       "      <td>2.0</td>\n",
       "      <td>2.0</td>\n",
       "      <td>other</td>\n",
       "      <td>other</td>\n",
       "      <td>home</td>\n",
       "      <td>mother</td>\n",
       "      <td>1.0</td>\n",
       "      <td>2.0</td>\n",
       "      <td>0.0</td>\n",
       "      <td>no</td>\n",
       "      <td>yes</td>\n",
       "      <td>yes</td>\n",
       "      <td>no</td>\n",
       "      <td>no</td>\n",
       "      <td>-6.0</td>\n",
       "      <td>yes</td>\n",
       "      <td>yes</td>\n",
       "      <td>no</td>\n",
       "      <td>5.0</td>\n",
       "      <td>1.0</td>\n",
       "      <td>5.0</td>\n",
       "      <td>4.0</td>\n",
       "      <td>0.0</td>\n",
       "      <td>0.0</td>\n",
       "    </tr>\n",
       "    <tr>\n",
       "      <th>240</th>\n",
       "      <td>GP</td>\n",
       "      <td>M</td>\n",
       "      <td>17</td>\n",
       "      <td>NaN</td>\n",
       "      <td>LE3</td>\n",
       "      <td>A</td>\n",
       "      <td>4.0</td>\n",
       "      <td>4.0</td>\n",
       "      <td>teacher</td>\n",
       "      <td>other</td>\n",
       "      <td>course</td>\n",
       "      <td>mother</td>\n",
       "      <td>1.0</td>\n",
       "      <td>2.0</td>\n",
       "      <td>0.0</td>\n",
       "      <td>no</td>\n",
       "      <td>yes</td>\n",
       "      <td>yes</td>\n",
       "      <td>no</td>\n",
       "      <td>yes</td>\n",
       "      <td>-6.0</td>\n",
       "      <td>yes</td>\n",
       "      <td>yes</td>\n",
       "      <td>no</td>\n",
       "      <td>3.0</td>\n",
       "      <td>3.0</td>\n",
       "      <td>NaN</td>\n",
       "      <td>4.0</td>\n",
       "      <td>2.0</td>\n",
       "      <td>60.0</td>\n",
       "    </tr>\n",
       "    <tr>\n",
       "      <th>252</th>\n",
       "      <td>GP</td>\n",
       "      <td>M</td>\n",
       "      <td>17</td>\n",
       "      <td>NaN</td>\n",
       "      <td>NaN</td>\n",
       "      <td>T</td>\n",
       "      <td>2.0</td>\n",
       "      <td>1.0</td>\n",
       "      <td>other</td>\n",
       "      <td>other</td>\n",
       "      <td>course</td>\n",
       "      <td>mother</td>\n",
       "      <td>1.0</td>\n",
       "      <td>1.0</td>\n",
       "      <td>0.0</td>\n",
       "      <td>no</td>\n",
       "      <td>no</td>\n",
       "      <td>no</td>\n",
       "      <td>no</td>\n",
       "      <td>no</td>\n",
       "      <td>-3.0</td>\n",
       "      <td>yes</td>\n",
       "      <td>yes</td>\n",
       "      <td>no</td>\n",
       "      <td>4.0</td>\n",
       "      <td>4.0</td>\n",
       "      <td>2.0</td>\n",
       "      <td>5.0</td>\n",
       "      <td>NaN</td>\n",
       "      <td>60.0</td>\n",
       "    </tr>\n",
       "    <tr>\n",
       "      <th>288</th>\n",
       "      <td>GP</td>\n",
       "      <td>F</td>\n",
       "      <td>18</td>\n",
       "      <td>NaN</td>\n",
       "      <td>LE3</td>\n",
       "      <td>T</td>\n",
       "      <td>2.0</td>\n",
       "      <td>1.0</td>\n",
       "      <td>services</td>\n",
       "      <td>at_home</td>\n",
       "      <td>reputation</td>\n",
       "      <td>mother</td>\n",
       "      <td>1.0</td>\n",
       "      <td>2.0</td>\n",
       "      <td>1.0</td>\n",
       "      <td>no</td>\n",
       "      <td>NaN</td>\n",
       "      <td>no</td>\n",
       "      <td>no</td>\n",
       "      <td>yes</td>\n",
       "      <td>-6.0</td>\n",
       "      <td>yes</td>\n",
       "      <td>yes</td>\n",
       "      <td>yes</td>\n",
       "      <td>5.0</td>\n",
       "      <td>4.0</td>\n",
       "      <td>3.0</td>\n",
       "      <td>5.0</td>\n",
       "      <td>12.0</td>\n",
       "      <td>65.0</td>\n",
       "    </tr>\n",
       "    <tr>\n",
       "      <th>343</th>\n",
       "      <td>GP</td>\n",
       "      <td>F</td>\n",
       "      <td>17</td>\n",
       "      <td>NaN</td>\n",
       "      <td>GT3</td>\n",
       "      <td>T</td>\n",
       "      <td>4.0</td>\n",
       "      <td>3.0</td>\n",
       "      <td>health</td>\n",
       "      <td>other</td>\n",
       "      <td>reputation</td>\n",
       "      <td>mother</td>\n",
       "      <td>1.0</td>\n",
       "      <td>3.0</td>\n",
       "      <td>0.0</td>\n",
       "      <td>no</td>\n",
       "      <td>yes</td>\n",
       "      <td>yes</td>\n",
       "      <td>yes</td>\n",
       "      <td>yes</td>\n",
       "      <td>-9.0</td>\n",
       "      <td>yes</td>\n",
       "      <td>yes</td>\n",
       "      <td>yes</td>\n",
       "      <td>NaN</td>\n",
       "      <td>4.0</td>\n",
       "      <td>3.0</td>\n",
       "      <td>4.0</td>\n",
       "      <td>0.0</td>\n",
       "      <td>75.0</td>\n",
       "    </tr>\n",
       "    <tr>\n",
       "      <th>348</th>\n",
       "      <td>MS</td>\n",
       "      <td>M</td>\n",
       "      <td>17</td>\n",
       "      <td>NaN</td>\n",
       "      <td>GT3</td>\n",
       "      <td>T</td>\n",
       "      <td>4.0</td>\n",
       "      <td>3.0</td>\n",
       "      <td>services</td>\n",
       "      <td>other</td>\n",
       "      <td>home</td>\n",
       "      <td>mother</td>\n",
       "      <td>2.0</td>\n",
       "      <td>2.0</td>\n",
       "      <td>0.0</td>\n",
       "      <td>no</td>\n",
       "      <td>yes</td>\n",
       "      <td>yes</td>\n",
       "      <td>yes</td>\n",
       "      <td>no</td>\n",
       "      <td>-6.0</td>\n",
       "      <td>yes</td>\n",
       "      <td>yes</td>\n",
       "      <td>yes</td>\n",
       "      <td>4.0</td>\n",
       "      <td>5.0</td>\n",
       "      <td>5.0</td>\n",
       "      <td>2.0</td>\n",
       "      <td>4.0</td>\n",
       "      <td>55.0</td>\n",
       "    </tr>\n",
       "    <tr>\n",
       "      <th>353</th>\n",
       "      <td>MS</td>\n",
       "      <td>F</td>\n",
       "      <td>18</td>\n",
       "      <td>NaN</td>\n",
       "      <td>LE3</td>\n",
       "      <td>T</td>\n",
       "      <td>1.0</td>\n",
       "      <td>1.0</td>\n",
       "      <td>at_home</td>\n",
       "      <td>services</td>\n",
       "      <td>course</td>\n",
       "      <td>father</td>\n",
       "      <td>2.0</td>\n",
       "      <td>3.0</td>\n",
       "      <td>0.0</td>\n",
       "      <td>no</td>\n",
       "      <td>no</td>\n",
       "      <td>no</td>\n",
       "      <td>no</td>\n",
       "      <td>NaN</td>\n",
       "      <td>-9.0</td>\n",
       "      <td>yes</td>\n",
       "      <td>yes</td>\n",
       "      <td>no</td>\n",
       "      <td>5.0</td>\n",
       "      <td>3.0</td>\n",
       "      <td>2.0</td>\n",
       "      <td>4.0</td>\n",
       "      <td>0.0</td>\n",
       "      <td>80.0</td>\n",
       "    </tr>\n",
       "    <tr>\n",
       "      <th>366</th>\n",
       "      <td>MS</td>\n",
       "      <td>F</td>\n",
       "      <td>17</td>\n",
       "      <td>NaN</td>\n",
       "      <td>GT3</td>\n",
       "      <td>T</td>\n",
       "      <td>2.0</td>\n",
       "      <td>2.0</td>\n",
       "      <td>other</td>\n",
       "      <td>at_home</td>\n",
       "      <td>home</td>\n",
       "      <td>mother</td>\n",
       "      <td>2.0</td>\n",
       "      <td>3.0</td>\n",
       "      <td>0.0</td>\n",
       "      <td>no</td>\n",
       "      <td>no</td>\n",
       "      <td>no</td>\n",
       "      <td>yes</td>\n",
       "      <td>yes</td>\n",
       "      <td>-9.0</td>\n",
       "      <td>yes</td>\n",
       "      <td>no</td>\n",
       "      <td>NaN</td>\n",
       "      <td>3.0</td>\n",
       "      <td>4.0</td>\n",
       "      <td>3.0</td>\n",
       "      <td>3.0</td>\n",
       "      <td>8.0</td>\n",
       "      <td>55.0</td>\n",
       "    </tr>\n",
       "    <tr>\n",
       "      <th>370</th>\n",
       "      <td>MS</td>\n",
       "      <td>F</td>\n",
       "      <td>20</td>\n",
       "      <td>NaN</td>\n",
       "      <td>GT3</td>\n",
       "      <td>T</td>\n",
       "      <td>4.0</td>\n",
       "      <td>2.0</td>\n",
       "      <td>health</td>\n",
       "      <td>other</td>\n",
       "      <td>course</td>\n",
       "      <td>NaN</td>\n",
       "      <td>2.0</td>\n",
       "      <td>3.0</td>\n",
       "      <td>2.0</td>\n",
       "      <td>no</td>\n",
       "      <td>yes</td>\n",
       "      <td>yes</td>\n",
       "      <td>no</td>\n",
       "      <td>no</td>\n",
       "      <td>-9.0</td>\n",
       "      <td>yes</td>\n",
       "      <td>yes</td>\n",
       "      <td>yes</td>\n",
       "      <td>5.0</td>\n",
       "      <td>4.0</td>\n",
       "      <td>3.0</td>\n",
       "      <td>3.0</td>\n",
       "      <td>4.0</td>\n",
       "      <td>75.0</td>\n",
       "    </tr>\n",
       "  </tbody>\n",
       "</table>\n",
       "</div>"
      ],
      "text/plain": [
       "    school sex  age address famsize Pstatus  Medu  Fedu      Mjob      Fjob  \\\n",
       "6       GP   M   16     NaN     LE3       T   2.0   2.0     other     other   \n",
       "52      GP   M   15     NaN     LE3       A   4.0   2.0    health       NaN   \n",
       "75      GP   M   15     NaN     GT3       T   4.0   3.0   teacher     other   \n",
       "92      GP   F   16     NaN     LE3       T   0.0   1.0     other     other   \n",
       "96      GP   M   16     NaN     GT3     NaN   4.0   3.0  services     other   \n",
       "159     GP   M   16     NaN     GT3       T   3.0   2.0     other  services   \n",
       "168     GP   F   16     NaN     GT3       T   2.0   2.0     other     other   \n",
       "240     GP   M   17     NaN     LE3       A   4.0   4.0   teacher     other   \n",
       "252     GP   M   17     NaN     NaN       T   2.0   1.0     other     other   \n",
       "288     GP   F   18     NaN     LE3       T   2.0   1.0  services   at_home   \n",
       "343     GP   F   17     NaN     GT3       T   4.0   3.0    health     other   \n",
       "348     MS   M   17     NaN     GT3       T   4.0   3.0  services     other   \n",
       "353     MS   F   18     NaN     LE3       T   1.0   1.0   at_home  services   \n",
       "366     MS   F   17     NaN     GT3       T   2.0   2.0     other   at_home   \n",
       "370     MS   F   20     NaN     GT3       T   4.0   2.0    health     other   \n",
       "\n",
       "         reason guardian  traveltime  studytime  failures schoolsup famsup  \\\n",
       "6          home   mother         1.0        2.0       0.0        no     no   \n",
       "52        other   father         2.0        1.0       1.0        no    NaN   \n",
       "75         home   mother         1.0        2.0       0.0        no    yes   \n",
       "92         home   father         1.0        2.0       0.0       yes    yes   \n",
       "96   reputation   mother         2.0        1.0       0.0       yes    yes   \n",
       "159      course   father         1.0        2.0       1.0        no    yes   \n",
       "168        home   mother         1.0        2.0       0.0        no    yes   \n",
       "240      course   mother         1.0        2.0       0.0        no    yes   \n",
       "252      course   mother         1.0        1.0       0.0        no     no   \n",
       "288  reputation   mother         1.0        2.0       1.0        no    NaN   \n",
       "343  reputation   mother         1.0        3.0       0.0        no    yes   \n",
       "348        home   mother         2.0        2.0       0.0        no    yes   \n",
       "353      course   father         2.0        3.0       0.0        no     no   \n",
       "366        home   mother         2.0        3.0       0.0        no     no   \n",
       "370      course      NaN         2.0        3.0       2.0        no    yes   \n",
       "\n",
       "    paid activities nursery  st_gran higher internet romantic  famrel  \\\n",
       "6     no         no     yes     -6.0    yes      yes       no     4.0   \n",
       "52    no         no     yes     -3.0    yes      NaN       no     5.0   \n",
       "75   yes        yes     yes     -6.0    yes      yes      NaN     NaN   \n",
       "92    no         no     yes     -6.0    yes       no       no     3.0   \n",
       "96   NaN        yes      no     -3.0    NaN      yes       no     3.0   \n",
       "159  yes         no     yes     -6.0    yes      yes      yes     4.0   \n",
       "168  yes         no      no     -6.0    yes      yes       no     5.0   \n",
       "240  yes         no     yes     -6.0    yes      yes       no     3.0   \n",
       "252   no         no      no     -3.0    yes      yes       no     4.0   \n",
       "288   no         no     yes     -6.0    yes      yes      yes     5.0   \n",
       "343  yes        yes     yes     -9.0    yes      yes      yes     NaN   \n",
       "348  yes        yes      no     -6.0    yes      yes      yes     4.0   \n",
       "353   no         no     NaN     -9.0    yes      yes       no     5.0   \n",
       "366   no        yes     yes     -9.0    yes       no      NaN     3.0   \n",
       "370  yes         no      no     -9.0    yes      yes      yes     5.0   \n",
       "\n",
       "     freetime  goout  health  absences  score  \n",
       "6         4.0    4.0     3.0       0.0   55.0  \n",
       "52        5.0    5.0     5.0       6.0   50.0  \n",
       "75        3.0    3.0     5.0       6.0   50.0  \n",
       "92        3.0    NaN     2.0       4.0   30.0  \n",
       "96        3.0    3.0     4.0       2.0   75.0  \n",
       "159       5.0    5.0     5.0       4.0   60.0  \n",
       "168       1.0    5.0     4.0       0.0    0.0  \n",
       "240       3.0    NaN     4.0       2.0   60.0  \n",
       "252       4.0    2.0     5.0       NaN   60.0  \n",
       "288       4.0    3.0     5.0      12.0   65.0  \n",
       "343       4.0    3.0     4.0       0.0   75.0  \n",
       "348       5.0    5.0     2.0       4.0   55.0  \n",
       "353       3.0    2.0     4.0       0.0   80.0  \n",
       "366       4.0    3.0     3.0       8.0   55.0  \n",
       "370       4.0    3.0     3.0       4.0   75.0  "
      ]
     },
     "metadata": {},
     "output_type": "display_data"
    }
   ],
   "source": [
    "#Проверка и просмотр строк с пропущенными данными во время отладки....\n",
    "print('потеряно значений:',stud_math.address.isna().sum())\n",
    "display(stud_math.loc[stud_math.address.isna()])\n",
    "#stud_math.isnull().sum()\n"
   ]
  },
  {
   "cell_type": "markdown",
   "id": "pediatric-renaissance",
   "metadata": {},
   "source": [
    "Считаю, что хорошим критерием для заполнения поля address можно использовать поле reason!"
   ]
  },
  {
   "cell_type": "code",
   "execution_count": 1699,
   "id": "precise-maria",
   "metadata": {},
   "outputs": [
    {
     "name": "stdout",
     "output_type": "stream",
     "text": [
      "Обзор даных для: reason\n",
      "course        97\n",
      "home          84\n",
      "reputation    71\n",
      "other         23\n",
      "Name: reason, dtype: int64\n",
      "count        275\n",
      "unique         4\n",
      "top       course\n",
      "freq          97\n",
      "Name: reason, dtype: object\n",
      "пропущено значений: 0\n",
      "Обзор даных для: reason\n",
      "course        33\n",
      "reputation    28\n",
      "home          11\n",
      "other         10\n",
      "Name: reason, dtype: int64\n",
      "count         82\n",
      "unique         4\n",
      "top       course\n",
      "freq          33\n",
      "Name: reason, dtype: object\n",
      "пропущено значений: 0\n"
     ]
    },
    {
     "data": {
      "image/png": "[encoded data removed]",
      "text/plain": [
       "<Figure size 432x288 with 1 Axes>"
      ]
     },
     "metadata": {
      "needs_background": "light"
     },
     "output_type": "display_data"
    }
   ],
   "source": [
    "Check_data(test_df.loc[test_df.address=='U'].reason)\n",
    "Check_data(test_df.loc[test_df.address=='R'].reason)"
   ]
  },
  {
   "cell_type": "code",
   "execution_count": 1700,
   "id": "julian-brother",
   "metadata": {},
   "outputs": [
    {
     "name": "stdout",
     "output_type": "stream",
     "text": [
      "Обзор даных для: reason\n",
      "course        67\n",
      "home          64\n",
      "reputation    51\n",
      "other         19\n",
      "Name: reason, dtype: int64\n",
      "count        201\n",
      "unique         4\n",
      "top       course\n",
      "freq          67\n",
      "Name: reason, dtype: object\n",
      "пропущено значений: 0\n",
      "Обзор даных для: reason\n",
      "course        17\n",
      "reputation    14\n",
      "home           4\n",
      "other          3\n",
      "Name: reason, dtype: int64\n",
      "count         38\n",
      "unique         4\n",
      "top       course\n",
      "freq          17\n",
      "Name: reason, dtype: object\n",
      "пропущено значений: 0\n"
     ]
    },
    {
     "data": {
      "image/png": "[encoded data removed]",
      "text/plain": [
       "<Figure size 432x288 with 1 Axes>"
      ]
     },
     "metadata": {
      "needs_background": "light"
     },
     "output_type": "display_data"
    }
   ],
   "source": [
    "Check_data(test_df.loc[(test_df.traveltime==1) & (test_df.address=='U')].reason)\n",
    "Check_data(test_df.loc[(test_df.traveltime==1) & (test_df.address=='R')].reason)"
   ]
  },
  {
   "cell_type": "markdown",
   "id": "turkish-designer",
   "metadata": {},
   "source": [
    "Видим, что такой кретерий повышает достоверность восстановления адреса на 60%\n"
   ]
  },
  {
   "cell_type": "code",
   "execution_count": 1701,
   "id": "italic-operation",
   "metadata": {},
   "outputs": [],
   "source": [
    "stud_math.loc[(stud_math.traveltime==1)& (stud_math.reason=='home') & (pd.isna(stud_math['address'])), 'address'] = 'U'"
   ]
  },
  {
   "cell_type": "markdown",
   "id": "suspended-technology",
   "metadata": {},
   "source": [
    "Проверим критерий проживания address относительно уровня образования Medu"
   ]
  },
  {
   "cell_type": "code",
   "execution_count": 1702,
   "id": "closing-mason",
   "metadata": {},
   "outputs": [
    {
     "name": "stdout",
     "output_type": "stream",
     "text": [
      "Обзор даных для: Medu\n",
      "4.0    104\n",
      "2.0     70\n",
      "3.0     66\n",
      "1.0     32\n",
      "0.0      3\n",
      "Name: Medu, dtype: int64\n",
      "count    275.000000\n",
      "mean       2.858182\n",
      "std        1.086528\n",
      "min        0.000000\n",
      "25%        2.000000\n",
      "50%        3.000000\n",
      "75%        4.000000\n",
      "max        4.000000\n",
      "Name: Medu, dtype: float64\n",
      "пропущено значений: 0\n",
      "Обзор даных для: Medu\n",
      "3.0    23\n",
      "2.0    23\n",
      "1.0    19\n",
      "4.0    17\n",
      "Name: Medu, dtype: int64\n",
      "count    82.000000\n",
      "mean      2.463415\n",
      "std       1.067998\n",
      "min       1.000000\n",
      "25%       2.000000\n",
      "50%       2.000000\n",
      "75%       3.000000\n",
      "max       4.000000\n",
      "Name: Medu, dtype: float64\n",
      "пропущено значений: 0\n"
     ]
    },
    {
     "data": {
      "image/png": "[encoded data removed]",
      "text/plain": [
       "<Figure size 432x288 with 1 Axes>"
      ]
     },
     "metadata": {
      "needs_background": "light"
     },
     "output_type": "display_data"
    }
   ],
   "source": [
    "Check_data(test_df.loc[(test_df.address=='U')].Medu)\n",
    "Check_data(test_df.loc[(test_df.address=='R')].Medu)"
   ]
  },
  {
   "cell_type": "code",
   "execution_count": 1703,
   "id": "seventh-grocery",
   "metadata": {},
   "outputs": [],
   "source": [
    "#Применим этот критерий:\n",
    "stud_math.loc[(stud_math.Medu>=3) & (pd.isna(stud_math['address'])), 'address'] = 'U'\n",
    "\n",
    "\n",
    "#оставшиеся 4 потери заполним address = 'R' что почти совпадает с 30%\n",
    "stud_math.loc[(pd.isna(stud_math['address'])), 'address'] = 'R'"
   ]
  },
  {
   "cell_type": "markdown",
   "id": "sharp-charm",
   "metadata": {},
   "source": [
    "## Анализ failures."
   ]
  },
  {
   "cell_type": "code",
   "execution_count": 1704,
   "id": "stainless-spanking",
   "metadata": {
    "scrolled": false
   },
   "outputs": [
    {
     "name": "stdout",
     "output_type": "stream",
     "text": [
      "Обзор даных для: failures\n",
      "0.0    290\n",
      "1.0     48\n",
      "2.0     15\n",
      "3.0     14\n",
      "Name: failures, dtype: int64\n",
      "count    367.000000\n",
      "mean       0.326975\n",
      "std        0.729479\n",
      "min        0.000000\n",
      "25%        0.000000\n",
      "50%        0.000000\n",
      "75%        0.000000\n",
      "max        3.000000\n",
      "Name: failures, dtype: float64\n",
      "пропущено значений: 22\n",
      "('25-й перцентиль: 0.0', '75-й перцентиль: 0.0,', 'IQR: 0.0, ', 'Границы выбросов: [0.0, 0.0].')\n"
     ]
    },
    {
     "data": {
      "image/png": "[encoded data removed]",
      "text/plain": [
       "<Figure size 432x288 with 1 Axes>"
      ]
     },
     "metadata": {
      "needs_background": "light"
     },
     "output_type": "display_data"
    }
   ],
   "source": [
    "Check_data(stud_math.failures)\n",
    "print(outlier(stud_math.failures))\n",
    "#display(stud_math.loc[stud_math.failures.isna()])"
   ]
  },
  {
   "cell_type": "markdown",
   "id": "contemporary-think",
   "metadata": {},
   "source": [
    "Рассмотрим детально признак failures:"
   ]
  },
  {
   "cell_type": "code",
   "execution_count": 1705,
   "id": "absent-mercy",
   "metadata": {},
   "outputs": [
    {
     "data": {
      "text/plain": [
       "<matplotlib.legend.Legend at 0x4316ab1dc0>"
      ]
     },
     "execution_count": 1705,
     "metadata": {},
     "output_type": "execute_result"
    },
    {
     "data": {
      "image/png": "[encoded data removed]",
      "text/plain": [
       "<Figure size 432x288 with 1 Axes>"
      ]
     },
     "metadata": {
      "needs_background": "light"
     },
     "output_type": "display_data"
    }
   ],
   "source": [
    "sns.histplot(stud_math.loc[stud_math.failures==0].score, label='F=0', color='darkred')\n",
    "sns.histplot(stud_math.loc[stud_math.failures>1].score, label='F>1', color='skyblue')\n",
    "plt.legend()"
   ]
  },
  {
   "cell_type": "markdown",
   "id": "listed-climate",
   "metadata": {},
   "source": [
    "На основе этой статистики можно сделать вывод, что в данных с score>70 можно смело поставить failures=0!"
   ]
  },
  {
   "cell_type": "code",
   "execution_count": null,
   "id": "express-holocaust",
   "metadata": {},
   "outputs": [],
   "source": []
  },
  {
   "cell_type": "code",
   "execution_count": 1706,
   "id": "excessive-sacrifice",
   "metadata": {},
   "outputs": [],
   "source": [
    "#Применим этот критерий:\n",
    "stud_math.loc[(stud_math.score>=70) & (pd.isna(stud_math['failures'])), 'failures'] = 0"
   ]
  },
  {
   "cell_type": "code",
   "execution_count": 1707,
   "id": "southern-immune",
   "metadata": {},
   "outputs": [
    {
     "data": {
      "text/plain": [
       "age           0.211149\n",
       "Medu         -0.237328\n",
       "Fedu         -0.272079\n",
       "traveltime    0.043850\n",
       "studytime    -0.178748\n",
       "failures      1.000000\n",
       "st_gran       0.177136\n",
       "famrel       -0.039528\n",
       "freetime      0.088881\n",
       "goout         0.107250\n",
       "health        0.084826\n",
       "absences      0.059950\n",
       "score        -0.348785\n",
       "dtype: float64"
      ]
     },
     "execution_count": 1707,
     "metadata": {},
     "output_type": "execute_result"
    }
   ],
   "source": [
    "#Проверим корреляции с параметром failures\n",
    "stud_math.corrwith(stud_math.failures)"
   ]
  },
  {
   "cell_type": "markdown",
   "id": "central-suite",
   "metadata": {},
   "source": [
    "Создадим тестовый набор данных:"
   ]
  },
  {
   "cell_type": "code",
   "execution_count": 1708,
   "id": "stable-february",
   "metadata": {},
   "outputs": [
    {
     "data": {
      "text/plain": [
       "age          0.201621\n",
       "Medu        -0.230612\n",
       "Fedu        -0.266451\n",
       "studytime   -0.181740\n",
       "st_gran      0.181740\n",
       "goout        0.122632\n",
       "score       -0.355316\n",
       "failures     1.000000\n",
       "Medu_Fedu   -0.276598\n",
       "dtype: float64"
      ]
     },
     "execution_count": 1708,
     "metadata": {},
     "output_type": "execute_result"
    }
   ],
   "source": [
    "test_df = stud_math[['age', 'Medu','Fedu', 'studytime','st_gran','goout','score','failures']]\n",
    "#удалили все строки с отсутствующими значениями\n",
    "test_df.dropna(inplace=True)\n",
    "test_df.reset_index(drop=True, inplace=True)\n",
    "\n",
    "# создадим синтетический критерий образования родителей\n",
    "test_df['Medu_Fedu']=(test_df['Medu']+test_df['Fedu'])\n",
    "test_df.corrwith(test_df.failures)"
   ]
  },
  {
   "cell_type": "code",
   "execution_count": 1709,
   "id": "incident-collins",
   "metadata": {},
   "outputs": [
    {
     "data": {
      "text/plain": [
       "<seaborn.axisgrid.JointGrid at 0x43167e1400>"
      ]
     },
     "execution_count": 1709,
     "metadata": {},
     "output_type": "execute_result"
    },
    {
     "data": {
      "image/png": "[encoded data removed]",
      "text/plain": [
       "<Figure size 432x432 with 3 Axes>"
      ]
     },
     "metadata": {
      "needs_background": "light"
     },
     "output_type": "display_data"
    }
   ],
   "source": [
    "sns.jointplot(x='Medu_Fedu', y='failures', data=test_df, kind='reg')"
   ]
  },
  {
   "cell_type": "markdown",
   "id": "addressed-timer",
   "metadata": {},
   "source": [
    "Применим  критерий Medu_Fedu>3 failures=0, Medu+Fedu<=3 failures=1:"
   ]
  },
  {
   "cell_type": "code",
   "execution_count": 1710,
   "id": "refined-venture",
   "metadata": {},
   "outputs": [],
   "source": [
    "#Применим  критерий Medu_Fedu>3 failures=0, Medu+Fedu<=3 failures=1:\n",
    "stud_math.loc[(stud_math.Medu + stud_math.Fedu > 3) & (pd.isna(stud_math['failures'])), 'failures'] = 0\n",
    "stud_math.loc[(stud_math.Medu + stud_math.Fedu <= 3) & (pd.isna(stud_math['failures'])), 'failures'] = 1"
   ]
  },
  {
   "cell_type": "markdown",
   "id": "acknowledged-carbon",
   "metadata": {},
   "source": [
    "## Анализ поля higher."
   ]
  },
  {
   "cell_type": "code",
   "execution_count": 1711,
   "id": "color-person",
   "metadata": {},
   "outputs": [
    {
     "name": "stdout",
     "output_type": "stream",
     "text": [
      "Обзор даных для: higher\n",
      "yes    350\n",
      "no      19\n",
      "Name: higher, dtype: int64\n",
      "count     369\n",
      "unique      2\n",
      "top       yes\n",
      "freq      350\n",
      "Name: higher, dtype: object\n",
      "пропущено значений: 20\n"
     ]
    },
    {
     "data": {
      "image/png": "[encoded data removed]",
      "text/plain": [
       "<Figure size 432x288 with 1 Axes>"
      ]
     },
     "metadata": {
      "needs_background": "light"
     },
     "output_type": "display_data"
    }
   ],
   "source": [
    "Check_data(stud_math.higher)"
   ]
  },
  {
   "cell_type": "code",
   "execution_count": 1712,
   "id": "missing-excuse",
   "metadata": {},
   "outputs": [
    {
     "name": "stdout",
     "output_type": "stream",
     "text": [
      "Обзор даных для: score\n",
      "0.0     6\n",
      "40.0    3\n",
      "60.0    3\n",
      "50.0    3\n",
      "45.0    2\n",
      "65.0    1\n",
      "35.0    1\n",
      "Name: score, dtype: int64\n",
      "count    19.000000\n",
      "mean     33.684211\n",
      "std      24.767929\n",
      "min       0.000000\n",
      "25%       0.000000\n",
      "50%      40.000000\n",
      "75%      50.000000\n",
      "max      65.000000\n",
      "Name: score, dtype: float64\n",
      "пропущено значений: 0\n"
     ]
    },
    {
     "data": {
      "image/png": "[encoded data removed]",
      "text/plain": [
       "<Figure size 432x288 with 1 Axes>"
      ]
     },
     "metadata": {
      "needs_background": "light"
     },
     "output_type": "display_data"
    }
   ],
   "source": [
    "Check_data(stud_math.loc[stud_math.higher=='no'].score)"
   ]
  },
  {
   "cell_type": "markdown",
   "id": "indian-budget",
   "metadata": {},
   "source": [
    "95% учеников планирует дальнейшее обучение - поэтому можно заполнить пропущенные данные модой, в данном случае - yes:"
   ]
  },
  {
   "cell_type": "code",
   "execution_count": 1713,
   "id": "national-registration",
   "metadata": {},
   "outputs": [],
   "source": [
    "stud_math.loc[pd.isna(stud_math['higher']), 'higher'] = 'yes'"
   ]
  },
  {
   "cell_type": "markdown",
   "id": "statewide-consolidation",
   "metadata": {},
   "source": [
    "##  Анализ romantic."
   ]
  },
  {
   "cell_type": "code",
   "execution_count": 1714,
   "id": "yellow-switzerland",
   "metadata": {},
   "outputs": [
    {
     "name": "stdout",
     "output_type": "stream",
     "text": [
      "Обзор даных для: romantic\n",
      "no     235\n",
      "yes    123\n",
      "Name: romantic, dtype: int64\n",
      "count     358\n",
      "unique      2\n",
      "top        no\n",
      "freq      235\n",
      "Name: romantic, dtype: object\n",
      "пропущено значений: 31\n"
     ]
    },
    {
     "data": {
      "image/png": "[encoded data removed]",
      "text/plain": [
       "<Figure size 432x288 with 1 Axes>"
      ]
     },
     "metadata": {
      "needs_background": "light"
     },
     "output_type": "display_data"
    }
   ],
   "source": [
    "Check_data(stud_math.romantic)\n",
    "#Проверка и просмотр строк с пропущенными данными во время отладки....\n",
    "#display(stud_math.loc[stud_math.romantic.isna()])"
   ]
  },
  {
   "cell_type": "code",
   "execution_count": 1715,
   "id": "continuous-demand",
   "metadata": {},
   "outputs": [
    {
     "name": "stdout",
     "output_type": "stream",
     "text": [
      "romantic=no\n",
      "Обзор даных для: failures\n",
      "0.0    196\n",
      "1.0     26\n",
      "3.0      9\n",
      "2.0      4\n",
      "Name: failures, dtype: int64\n",
      "count    235.000000\n",
      "mean       0.259574\n",
      "std        0.676738\n",
      "min        0.000000\n",
      "25%        0.000000\n",
      "50%        0.000000\n",
      "75%        0.000000\n",
      "max        3.000000\n",
      "Name: failures, dtype: float64\n",
      "пропущено значений: 0\n",
      "romantic=yes\n",
      "Обзор даных для: failures\n",
      "0.0    89\n",
      "1.0    19\n",
      "2.0    11\n",
      "3.0     4\n",
      "Name: failures, dtype: int64\n",
      "count    123.000000\n",
      "mean       0.430894\n",
      "std        0.790116\n",
      "min        0.000000\n",
      "25%        0.000000\n",
      "50%        0.000000\n",
      "75%        1.000000\n",
      "max        3.000000\n",
      "Name: failures, dtype: float64\n",
      "пропущено значений: 0\n"
     ]
    },
    {
     "data": {
      "image/png": "[encoded data removed]",
      "text/plain": [
       "<Figure size 432x288 with 1 Axes>"
      ]
     },
     "metadata": {
      "needs_background": "light"
     },
     "output_type": "display_data"
    }
   ],
   "source": [
    "# Проверим связь между romantic и failures\n",
    "print('romantic=no')\n",
    "Check_data(stud_math.loc[(stud_math.romantic=='no')].failures)\n",
    "\n",
    "print('romantic=yes')\n",
    "Check_data(stud_math.loc[(stud_math.romantic=='yes')].failures)"
   ]
  },
  {
   "cell_type": "code",
   "execution_count": 1716,
   "id": "attached-oxide",
   "metadata": {},
   "outputs": [
    {
     "name": "stdout",
     "output_type": "stream",
     "text": [
      "Обзор даных для: romantic\n",
      "no     114\n",
      "yes     77\n",
      "Name: romantic, dtype: int64\n",
      "count     191\n",
      "unique      2\n",
      "top        no\n",
      "freq      114\n",
      "Name: romantic, dtype: object\n",
      "пропущено значений: 13\n",
      "Обзор даных для: romantic\n",
      "no     121\n",
      "yes     46\n",
      "Name: romantic, dtype: int64\n",
      "count     167\n",
      "unique      2\n",
      "top        no\n",
      "freq      121\n",
      "Name: romantic, dtype: object\n",
      "пропущено значений: 18\n"
     ]
    },
    {
     "data": {
      "image/png": "[encoded data removed]",
      "text/plain": [
       "<Figure size 432x288 with 1 Axes>"
      ]
     },
     "metadata": {
      "needs_background": "light"
     },
     "output_type": "display_data"
    }
   ],
   "source": [
    "Check_data(stud_math.loc[stud_math.sex=='F'].romantic)\n",
    "Check_data(stud_math.loc[stud_math.sex=='M'].romantic)"
   ]
  },
  {
   "cell_type": "markdown",
   "id": "smoking-classroom",
   "metadata": {},
   "source": [
    "40% F - romantic и 28% M - romantic"
   ]
  },
  {
   "cell_type": "code",
   "execution_count": 1717,
   "id": "requested-nightlife",
   "metadata": {},
   "outputs": [
    {
     "name": "stdout",
     "output_type": "stream",
     "text": [
      "          freetime     goout      score  studytime\n",
      "romantic                                          \n",
      "no        3.250000  3.074236  54.574468   2.008658\n",
      "yes       3.176471  3.106557  47.682927   2.098361\n"
     ]
    },
    {
     "data": {
      "text/plain": [
       "<AxesSubplot:xlabel='romantic'>"
      ]
     },
     "execution_count": 1717,
     "metadata": {},
     "output_type": "execute_result"
    },
    {
     "data": {
      "image/png": "[encoded data removed]",
      "text/plain": [
       "<Figure size 432x288 with 1 Axes>"
      ]
     },
     "metadata": {
      "needs_background": "light"
     },
     "output_type": "display_data"
    }
   ],
   "source": [
    "print(stud_math.pivot_table(values = ['score', 'studytime','freetime','goout'], \n",
    "               index = 'romantic', \n",
    "               aggfunc = 'mean'))\n",
    "\n",
    "stud_math.pivot_table(values = ['score', 'studytime'], \n",
    "               index = 'romantic', \n",
    "               aggfunc = 'mean').plot(kind = 'bar')\n",
    "\n"
   ]
  },
  {
   "cell_type": "code",
   "execution_count": 1718,
   "id": "complicated-funds",
   "metadata": {},
   "outputs": [
    {
     "name": "stdout",
     "output_type": "stream",
     "text": [
      "Обзор даных для: romantic\n",
      "no     228\n",
      "yes    112\n",
      "Name: romantic, dtype: int64\n",
      "count     340\n",
      "unique      2\n",
      "top        no\n",
      "freq      228\n",
      "Name: romantic, dtype: object\n",
      "пропущено значений: 30\n",
      "Обзор даных для: romantic\n",
      "yes    11\n",
      "no      7\n",
      "Name: romantic, dtype: int64\n",
      "count      18\n",
      "unique      2\n",
      "top       yes\n",
      "freq       11\n",
      "Name: romantic, dtype: object\n",
      "пропущено значений: 1\n"
     ]
    },
    {
     "data": {
      "image/png": "[encoded data removed]",
      "text/plain": [
       "<Figure size 432x288 with 1 Axes>"
      ]
     },
     "metadata": {
      "needs_background": "light"
     },
     "output_type": "display_data"
    }
   ],
   "source": [
    "Check_data(stud_math.loc[stud_math.higher=='yes'].romantic)\n",
    "Check_data(stud_math.loc[stud_math.higher=='no'].romantic)"
   ]
  },
  {
   "cell_type": "markdown",
   "id": "rotary-stock",
   "metadata": {},
   "source": [
    " Пробуем применить гипотезу, если score < 45, примем romantic-yes, и соотвественно >45 - romantic-no:"
   ]
  },
  {
   "cell_type": "code",
   "execution_count": 1719,
   "id": "rising-carbon",
   "metadata": {},
   "outputs": [],
   "source": [
    "stud_math.loc[(stud_math.score < 45) & (pd.isna(stud_math['romantic'])), 'romantic'] = 'yes'\n",
    "stud_math.loc[(stud_math.score >= 45) & (pd.isna(stud_math['romantic'])), 'romantic'] = 'no'"
   ]
  },
  {
   "cell_type": "markdown",
   "id": "noticed-continent",
   "metadata": {},
   "source": [
    "## Анализ goout."
   ]
  },
  {
   "cell_type": "code",
   "execution_count": 1720,
   "id": "loving-smith",
   "metadata": {},
   "outputs": [
    {
     "name": "stdout",
     "output_type": "stream",
     "text": [
      "Обзор даных для: goout\n",
      "3.0    126\n",
      "2.0    101\n",
      "4.0     81\n",
      "5.0     51\n",
      "1.0     23\n",
      "Name: goout, dtype: int64\n",
      "count    382.000000\n",
      "mean       3.094241\n",
      "std        1.116104\n",
      "min        1.000000\n",
      "25%        2.000000\n",
      "50%        3.000000\n",
      "75%        4.000000\n",
      "max        5.000000\n",
      "Name: goout, dtype: float64\n",
      "пропущено значений: 7\n"
     ]
    },
    {
     "data": {
      "image/png": "[encoded data removed]",
      "text/plain": [
       "<Figure size 432x288 with 1 Axes>"
      ]
     },
     "metadata": {
      "needs_background": "light"
     },
     "output_type": "display_data"
    }
   ],
   "source": [
    "Check_data(stud_math.goout)\n",
    "#display(stud_math.loc[stud_math.goout.isna()])"
   ]
  },
  {
   "cell_type": "markdown",
   "id": "controlling-pulse",
   "metadata": {},
   "source": [
    "Проверим влияние на другие параметры:"
   ]
  },
  {
   "cell_type": "code",
   "execution_count": 1721,
   "id": "radio-missile",
   "metadata": {},
   "outputs": [
    {
     "data": {
      "text/plain": [
       "age           0.121115\n",
       "Medu          0.067584\n",
       "Fedu          0.046873\n",
       "traveltime    0.037341\n",
       "studytime    -0.053831\n",
       "failures      0.097274\n",
       "st_gran       0.053283\n",
       "famrel        0.076387\n",
       "freetime      0.296338\n",
       "goout         1.000000\n",
       "health       -0.018026\n",
       "absences     -0.047954\n",
       "score        -0.129685\n",
       "dtype: float64"
      ]
     },
     "execution_count": 1721,
     "metadata": {},
     "output_type": "execute_result"
    }
   ],
   "source": [
    "stud_math.corrwith(stud_math.goout)"
   ]
  },
  {
   "cell_type": "code",
   "execution_count": 1722,
   "id": "academic-glossary",
   "metadata": {},
   "outputs": [
    {
     "data": {
      "text/plain": [
       "<seaborn.axisgrid.JointGrid at 0x435d98d160>"
      ]
     },
     "execution_count": 1722,
     "metadata": {},
     "output_type": "execute_result"
    },
    {
     "data": {
      "image/png": "[encoded data removed]",
      "text/plain": [
       "<Figure size 432x432 with 3 Axes>"
      ]
     },
     "metadata": {
      "needs_background": "light"
     },
     "output_type": "display_data"
    }
   ],
   "source": [
    "sns.jointplot(x='goout', y='freetime', data=stud_math, kind='reg')"
   ]
  },
  {
   "cell_type": "markdown",
   "id": "norwegian-academy",
   "metadata": {},
   "source": [
    "Применим простую регрессию для восстановления пропущенных goout: для freetime<3 gooout=1; для freetime >=3 goout=freetime+1"
   ]
  },
  {
   "cell_type": "code",
   "execution_count": 1723,
   "id": "opposite-springfield",
   "metadata": {},
   "outputs": [],
   "source": [
    "stud_math.loc[(stud_math.freetime < 3) & (pd.isna(stud_math['goout'])), 'goout'] = 1\n",
    "stud_math.loc[(stud_math.freetime >= 3) & (pd.isna(stud_math['goout'])), 'goout'] = stud_math.freetime+1"
   ]
  },
  {
   "cell_type": "markdown",
   "id": "photographic-detroit",
   "metadata": {},
   "source": [
    "## Анализ и востановление данных других параметров."
   ]
  },
  {
   "cell_type": "code",
   "execution_count": 1724,
   "id": "noticed-fabric",
   "metadata": {
    "scrolled": false
   },
   "outputs": [],
   "source": [
    "#заменим пропущенные значения модой.\n",
    "for data in ['school', 'sex', 'address', 'famsize', 'Pstatus', 'Mjob',\n",
    "             'Fjob', 'reason', 'guardian', 'schoolsup',\n",
    "             'famsup', 'paid', 'activities', 'nursery', 'higher', 'internet', \n",
    "             'romantic' ]:\n",
    "    fill_mode(data)\n",
    "\n",
    "        \n",
    "#заменим пропущенные значения медианой. 'goout'\n",
    "for data in ['studytime', 'famrel', 'freetime', 'health','absences']:\n",
    "    fill_median(data) "
   ]
  },
  {
   "cell_type": "markdown",
   "id": "accepted-fundamental",
   "metadata": {},
   "source": [
    "## Результат предварительно подготовки данных"
   ]
  },
  {
   "cell_type": "markdown",
   "id": "requested-regular",
   "metadata": {},
   "source": [
    "Посмотрим на результат восстановления данных:"
   ]
  },
  {
   "cell_type": "code",
   "execution_count": 1725,
   "id": "compliant-pottery",
   "metadata": {
    "scrolled": false
   },
   "outputs": [
    {
     "name": "stdout",
     "output_type": "stream",
     "text": [
      "<class 'pandas.core.frame.DataFrame'>\n",
      "RangeIndex: 389 entries, 0 to 388\n",
      "Data columns (total 30 columns):\n",
      " #   Column      Non-Null Count  Dtype  \n",
      "---  ------      --------------  -----  \n",
      " 0   school      389 non-null    object \n",
      " 1   sex         389 non-null    object \n",
      " 2   age         389 non-null    int64  \n",
      " 3   address     389 non-null    object \n",
      " 4   famsize     389 non-null    object \n",
      " 5   Pstatus     389 non-null    object \n",
      " 6   Medu        389 non-null    float64\n",
      " 7   Fedu        389 non-null    float64\n",
      " 8   Mjob        389 non-null    object \n",
      " 9   Fjob        389 non-null    object \n",
      " 10  reason      389 non-null    object \n",
      " 11  guardian    389 non-null    object \n",
      " 12  traveltime  389 non-null    float64\n",
      " 13  studytime   389 non-null    float64\n",
      " 14  failures    389 non-null    float64\n",
      " 15  schoolsup   389 non-null    object \n",
      " 16  famsup      389 non-null    object \n",
      " 17  paid        389 non-null    object \n",
      " 18  activities  389 non-null    object \n",
      " 19  nursery     389 non-null    object \n",
      " 20  st_gran     389 non-null    float64\n",
      " 21  higher      389 non-null    object \n",
      " 22  internet    389 non-null    object \n",
      " 23  romantic    389 non-null    object \n",
      " 24  famrel      389 non-null    float64\n",
      " 25  freetime    389 non-null    float64\n",
      " 26  goout       389 non-null    float64\n",
      " 27  health      389 non-null    float64\n",
      " 28  absences    389 non-null    float64\n",
      " 29  score       389 non-null    float64\n",
      "dtypes: float64(12), int64(1), object(17)\n",
      "memory usage: 91.3+ KB\n",
      "отсутствует значений: 0 ( 0.0 %)\n"
     ]
    },
    {
     "data": {
      "text/plain": [
       "<AxesSubplot:>"
      ]
     },
     "execution_count": 1725,
     "metadata": {},
     "output_type": "execute_result"
    },
    {
     "data": {
      "image/png": "[encoded data removed]",
      "text/plain": [
       "<Figure size 1008x288 with 2 Axes>"
      ]
     },
     "metadata": {
      "needs_background": "light"
     },
     "output_type": "display_data"
    }
   ],
   "source": [
    "stud_math.info() \n",
    "print('отсутствует значений:', stud_math.isnull().sum().sum(),'(', round(stud_math.isnull().sum().sum()*10/(389*3),1), '%)')\n",
    "\n",
    "fig, ax = plt.subplots(figsize = (14, 4))\n",
    "sns.heatmap(stud_math.isnull())"
   ]
  },
  {
   "cell_type": "code",
   "execution_count": 1726,
   "id": "mental-given",
   "metadata": {},
   "outputs": [
    {
     "data": {
      "text/plain": [
       "<seaborn.axisgrid.PairGrid at 0x437da43580>"
      ]
     },
     "execution_count": 1726,
     "metadata": {},
     "output_type": "execute_result"
    },
    {
     "data": {
      "image/png": "[encoded data removed]",
      "text/plain": [
       "<Figure size 1132x1080 with 42 Axes>"
      ]
     },
     "metadata": {
      "needs_background": "light"
     },
     "output_type": "display_data"
    }
   ],
   "source": [
    "sns.pairplot(stud_math[['score','age','studytime','absences','romantic','Medu','Fedu','failures']], \n",
    "             kind=\"hist\",  diag_kind=\"kde\", hue=\"failures\")"
   ]
  },
  {
   "cell_type": "markdown",
   "id": "dressed-volume",
   "metadata": {},
   "source": [
    "# Номинативные переменные."
   ]
  },
  {
   "cell_type": "markdown",
   "id": "centered-scratch",
   "metadata": {},
   "source": [
    "## Анализ с boxplot."
   ]
  },
  {
   "cell_type": "markdown",
   "id": "offensive-nepal",
   "metadata": {},
   "source": [
    "\n",
    "Номинативные переменные можно рассмотреть используя бокс-плот(график показывает плотность распределения переменных).\n",
    "Рассмотрим следующие переменные:\n",
    "\n",
    "'age', 'Medu', 'Fedu', 'traveltime', 'studytime','school','address'\n",
    "\n",
    "\n",
    "\n",
    "Выведем различные варианты бокс-плот относительно параметра score:"
   ]
  },
  {
   "cell_type": "code",
   "execution_count": 1727,
   "id": "saving-principal",
   "metadata": {
    "scrolled": true
   },
   "outputs": [
    {
     "data": {
      "image/png": "[encoded data removed]",
      "text/plain": [
       "<Figure size 1008x288 with 1 Axes>"
      ]
     },
     "metadata": {
      "needs_background": "light"
     },
     "output_type": "display_data"
    },
    {
     "data": {
      "image/png": "[encoded data removed]",
      "text/plain": [
       "<Figure size 1008x288 with 1 Axes>"
      ]
     },
     "metadata": {
      "needs_background": "light"
     },
     "output_type": "display_data"
    },
    {
     "data": {
      "image/png": "[encoded data removed]",
      "text/plain": [
       "<Figure size 1008x288 with 1 Axes>"
      ]
     },
     "metadata": {
      "needs_background": "light"
     },
     "output_type": "display_data"
    },
    {
     "data": {
      "image/png": "[encoded data removed]",
      "text/plain": [
       "<Figure size 1008x288 with 1 Axes>"
      ]
     },
     "metadata": {
      "needs_background": "light"
     },
     "output_type": "display_data"
    },
    {
     "data": {
      "image/png": "[encoded data removed]",
      "text/plain": [
       "<Figure size 1008x288 with 1 Axes>"
      ]
     },
     "metadata": {
      "needs_background": "light"
     },
     "output_type": "display_data"
    },
    {
     "data": {
      "image/png": "[encoded data removed]",
      "text/plain": [
       "<Figure size 1008x288 with 1 Axes>"
      ]
     },
     "metadata": {
      "needs_background": "light"
     },
     "output_type": "display_data"
    },
    {
     "data": {
      "image/png": "[encoded data removed]",
      "text/plain": [
       "<Figure size 1008x288 with 1 Axes>"
      ]
     },
     "metadata": {
      "needs_background": "light"
     },
     "output_type": "display_data"
    },
    {
     "data": {
      "image/png": "[encoded data removed]",
      "text/plain": [
       "<Figure size 1008x288 with 1 Axes>"
      ]
     },
     "metadata": {
      "needs_background": "light"
     },
     "output_type": "display_data"
    },
    {
     "data": {
      "image/png": "[encoded data removed]",
      "text/plain": [
       "<Figure size 1008x288 with 1 Axes>"
      ]
     },
     "metadata": {
      "needs_background": "light"
     },
     "output_type": "display_data"
    },
    {
     "data": {
      "image/png": "[encoded data removed]",
      "text/plain": [
       "<Figure size 1008x288 with 1 Axes>"
      ]
     },
     "metadata": {
      "needs_background": "light"
     },
     "output_type": "display_data"
    },
    {
     "data": {
      "image/png": "[encoded data removed]",
      "text/plain": [
       "<Figure size 1008x288 with 1 Axes>"
      ]
     },
     "metadata": {
      "needs_background": "light"
     },
     "output_type": "display_data"
    },
    {
     "data": {
      "image/png": "[encoded data removed]",
      "text/plain": [
       "<Figure size 1008x288 with 1 Axes>"
      ]
     },
     "metadata": {
      "needs_background": "light"
     },
     "output_type": "display_data"
    },
    {
     "data": {
      "image/png": "[encoded data removed]",
      "text/plain": [
       "<Figure size 1008x288 with 1 Axes>"
      ]
     },
     "metadata": {
      "needs_background": "light"
     },
     "output_type": "display_data"
    },
    {
     "data": {
      "image/png": "[encoded data removed]",
      "text/plain": [
       "<Figure size 1008x288 with 1 Axes>"
      ]
     },
     "metadata": {
      "needs_background": "light"
     },
     "output_type": "display_data"
    },
    {
     "data": {
      "image/png": "[encoded data removed]",
      "text/plain": [
       "<Figure size 1008x288 with 1 Axes>"
      ]
     },
     "metadata": {
      "needs_background": "light"
     },
     "output_type": "display_data"
    },
    {
     "data": {
      "image/png": "[encoded data removed]",
      "text/plain": [
       "<Figure size 1008x288 with 1 Axes>"
      ]
     },
     "metadata": {
      "needs_background": "light"
     },
     "output_type": "display_data"
    },
    {
     "data": {
      "image/png": "[encoded data removed]",
      "text/plain": [
       "<Figure size 1008x288 with 1 Axes>"
      ]
     },
     "metadata": {
      "needs_background": "light"
     },
     "output_type": "display_data"
    },
    {
     "data": {
      "image/png": "[encoded data removed]",
      "text/plain": [
       "<Figure size 1008x288 with 1 Axes>"
      ]
     },
     "metadata": {
      "needs_background": "light"
     },
     "output_type": "display_data"
    },
    {
     "data": {
      "image/png": "[encoded data removed]",
      "text/plain": [
       "<Figure size 1008x288 with 1 Axes>"
      ]
     },
     "metadata": {
      "needs_background": "light"
     },
     "output_type": "display_data"
    },
    {
     "data": {
      "image/png": "[encoded data removed]",
      "text/plain": [
       "<Figure size 1008x288 with 1 Axes>"
      ]
     },
     "metadata": {
      "needs_background": "light"
     },
     "output_type": "display_data"
    },
    {
     "data": {
      "image/png": "[encoded data removed]",
      "text/plain": [
       "<Figure size 1008x288 with 1 Axes>"
      ]
     },
     "metadata": {
      "needs_background": "light"
     },
     "output_type": "display_data"
    },
    {
     "data": {
      "image/png": "[encoded data removed]",
      "text/plain": [
       "<Figure size 1008x288 with 1 Axes>"
      ]
     },
     "metadata": {
      "needs_background": "light"
     },
     "output_type": "display_data"
    },
    {
     "data": {
      "image/png": "[encoded data removed]",
      "text/plain": [
       "<Figure size 1008x288 with 1 Axes>"
      ]
     },
     "metadata": {
      "needs_background": "light"
     },
     "output_type": "display_data"
    },
    {
     "data": {
      "image/png": "[encoded data removed]",
      "text/plain": [
       "<Figure size 1008x288 with 1 Axes>"
      ]
     },
     "metadata": {
      "needs_background": "light"
     },
     "output_type": "display_data"
    },
    {
     "data": {
      "image/png": "[encoded data removed]",
      "text/plain": [
       "<Figure size 1008x288 with 1 Axes>"
      ]
     },
     "metadata": {
      "needs_background": "light"
     },
     "output_type": "display_data"
    },
    {
     "data": {
      "image/png": "[encoded data removed]",
      "text/plain": [
       "<Figure size 1008x288 with 1 Axes>"
      ]
     },
     "metadata": {
      "needs_background": "light"
     },
     "output_type": "display_data"
    },
    {
     "data": {
      "image/png": "[encoded data removed]",
      "text/plain": [
       "<Figure size 1008x288 with 1 Axes>"
      ]
     },
     "metadata": {
      "needs_background": "light"
     },
     "output_type": "display_data"
    },
    {
     "data": {
      "image/png": "[encoded data removed]",
      "text/plain": [
       "<Figure size 1008x288 with 1 Axes>"
      ]
     },
     "metadata": {
      "needs_background": "light"
     },
     "output_type": "display_data"
    },
    {
     "data": {
      "image/png": "[encoded data removed]",
      "text/plain": [
       "<Figure size 1008x288 with 1 Axes>"
      ]
     },
     "metadata": {
      "needs_background": "light"
     },
     "output_type": "display_data"
    }
   ],
   "source": [
    "#for col in ['age', 'Medu', 'Fedu', 'traveltime', 'studytime','school','address']:\n",
    "\n",
    "for data in ['school', 'sex', 'age', 'address', 'famsize', 'Pstatus', 'Medu', 'Fedu', 'Mjob',\n",
    "             'Fjob', 'reason', 'guardian', 'traveltime', 'studytime', 'failures', 'schoolsup',\n",
    "             'famsup', 'paid', 'activities', 'nursery', 'st_gran', 'higher', 'internet', \n",
    "             'romantic', 'famrel', 'freetime', 'goout', 'health', 'absences']:\n",
    "             get_boxplot(data)"
   ]
  },
  {
   "cell_type": "markdown",
   "id": "worst-inside",
   "metadata": {},
   "source": [
    "## Тест Стьюдента."
   ]
  },
  {
   "cell_type": "markdown",
   "id": "sweet-financing",
   "metadata": {},
   "source": [
    "Настоящую значимость различий может помочь распознать статистика. Проверим, есть ли статистическая разница в распределении оценок по номинативным признакам, с помощью теста Стьюдента. \n",
    "\n",
    "Проверим нулевую гипотезу о том, что распределения оценок студентов по различным параметрам неразличимы."
   ]
  },
  {
   "cell_type": "code",
   "execution_count": 1728,
   "id": "victorian-editing",
   "metadata": {},
   "outputs": [
    {
     "name": "stdout",
     "output_type": "stream",
     "text": [
      "Найдены статистически значимые различия для колонки address\n",
      "Найдены статистически значимые различия для колонки Medu\n",
      "Найдены статистически значимые различия для колонки Mjob\n",
      "Найдены статистически значимые различия для колонки failures\n",
      "Найдены статистически значимые различия для колонки higher\n",
      "Найдены статистически значимые различия для колонки romantic\n",
      "Найдены статистически значимые различия для колонки goout\n",
      "Найдены статистически значимые различия для колонки absences\n"
     ]
    }
   ],
   "source": [
    "for data in ['school', 'sex', 'age', 'address', 'famsize', 'Pstatus', 'Medu', 'Fedu', 'Mjob',\n",
    "             'Fjob', 'reason', 'guardian', 'traveltime', 'studytime', 'failures', 'schoolsup',\n",
    "             'famsup', 'paid', 'activities', 'nursery', 'st_gran', 'higher', 'internet', \n",
    "             'romantic', 'famrel', 'freetime', 'goout', 'health', 'absences']:\n",
    "             get_stat_dif(data)"
   ]
  },
  {
   "cell_type": "markdown",
   "id": "august-performer",
   "metadata": {},
   "source": [
    "Как мы видим, серьёзно отличаются параметры:\n",
    "address, Medu, Mjob, failures, higher, romantic, absences.\n",
    "Это соотвествует и отображению данных на боксплотах.\n",
    "\n",
    "Оставим эти переменные в датасете для дальнейшего построения модели. "
   ]
  },
  {
   "cell_type": "markdown",
   "id": "otherwise-cherry",
   "metadata": {},
   "source": [
    "# Выводы."
   ]
  },
  {
   "cell_type": "markdown",
   "id": "absent-privacy",
   "metadata": {},
   "source": [
    "Исходный датасет содержал около 5% потеряных данных.\n",
    "С помощью простого анализа получилось снизить количество потерь до 0%.\n",
    "\n",
    "Выбросов немного, что позволяет сделать вывод о том, что данные достаточно чистые.\n",
    "\n",
    "Анализ значимых различий выделил следующие важные переменные, которые, возможно, оказывают влияние на оценку студента по математике:\n",
    "address, Medu, Mjob, failures, higher, romantic, goout, absences\n",
    "\n",
    "Также как существует значительная корреляция между Medu и Fedu можно оставить только Мedu, но я решил оставить оба параметра.\n",
    "Также рекомендую изучить отдельно группу студентов получивших score=0. Эта оценка выбивается из нормального распределения и требует особого изучения(или даже исключения из модели?).\n",
    "\n",
    "\n",
    "PS\n",
    "Возможно, для построения модели подошли бы и дополнительные синтетические параметры: Medu+Fedu, schoolsup+famsup и тп.\n",
    "Заполнение пробелов в параметре goout медианой приводит к его исключению из статистически значимых, поэтому применил доп. анализ и некое подобие регрессии.\n"
   ]
  },
  {
   "cell_type": "code",
   "execution_count": 1730,
   "id": "regulation-newton",
   "metadata": {},
   "outputs": [
    {
     "data": {
      "text/html": [
       "<div>\n",
       "<style scoped>\n",
       "    .dataframe tbody tr th:only-of-type {\n",
       "        vertical-align: middle;\n",
       "    }\n",
       "\n",
       "    .dataframe tbody tr th {\n",
       "        vertical-align: top;\n",
       "    }\n",
       "\n",
       "    .dataframe thead th {\n",
       "        text-align: right;\n",
       "    }\n",
       "</style>\n",
       "<table border=\"1\" class=\"dataframe\">\n",
       "  <thead>\n",
       "    <tr style=\"text-align: right;\">\n",
       "      <th></th>\n",
       "      <th>address</th>\n",
       "      <th>Medu</th>\n",
       "      <th>Fedu</th>\n",
       "      <th>Mjob</th>\n",
       "      <th>failures</th>\n",
       "      <th>higher</th>\n",
       "      <th>romantic</th>\n",
       "      <th>goout</th>\n",
       "      <th>absences</th>\n",
       "    </tr>\n",
       "  </thead>\n",
       "  <tbody>\n",
       "    <tr>\n",
       "      <th>0</th>\n",
       "      <td>U</td>\n",
       "      <td>4.0</td>\n",
       "      <td>4.0</td>\n",
       "      <td>at_home</td>\n",
       "      <td>0.0</td>\n",
       "      <td>yes</td>\n",
       "      <td>no</td>\n",
       "      <td>4.0</td>\n",
       "      <td>6.0</td>\n",
       "    </tr>\n",
       "    <tr>\n",
       "      <th>1</th>\n",
       "      <td>U</td>\n",
       "      <td>1.0</td>\n",
       "      <td>1.0</td>\n",
       "      <td>at_home</td>\n",
       "      <td>0.0</td>\n",
       "      <td>yes</td>\n",
       "      <td>no</td>\n",
       "      <td>3.0</td>\n",
       "      <td>4.0</td>\n",
       "    </tr>\n",
       "    <tr>\n",
       "      <th>2</th>\n",
       "      <td>U</td>\n",
       "      <td>1.0</td>\n",
       "      <td>1.0</td>\n",
       "      <td>at_home</td>\n",
       "      <td>3.0</td>\n",
       "      <td>yes</td>\n",
       "      <td>no</td>\n",
       "      <td>2.0</td>\n",
       "      <td>10.0</td>\n",
       "    </tr>\n",
       "    <tr>\n",
       "      <th>3</th>\n",
       "      <td>U</td>\n",
       "      <td>4.0</td>\n",
       "      <td>2.0</td>\n",
       "      <td>health</td>\n",
       "      <td>0.0</td>\n",
       "      <td>yes</td>\n",
       "      <td>yes</td>\n",
       "      <td>2.0</td>\n",
       "      <td>2.0</td>\n",
       "    </tr>\n",
       "    <tr>\n",
       "      <th>4</th>\n",
       "      <td>U</td>\n",
       "      <td>3.0</td>\n",
       "      <td>3.0</td>\n",
       "      <td>other</td>\n",
       "      <td>0.0</td>\n",
       "      <td>yes</td>\n",
       "      <td>no</td>\n",
       "      <td>2.0</td>\n",
       "      <td>4.0</td>\n",
       "    </tr>\n",
       "  </tbody>\n",
       "</table>\n",
       "</div>"
      ],
      "text/plain": [
       "  address  Medu  Fedu     Mjob  failures higher romantic  goout  absences\n",
       "0       U   4.0   4.0  at_home       0.0    yes       no    4.0       6.0\n",
       "1       U   1.0   1.0  at_home       0.0    yes       no    3.0       4.0\n",
       "2       U   1.0   1.0  at_home       3.0    yes       no    2.0      10.0\n",
       "3       U   4.0   2.0   health       0.0    yes      yes    2.0       2.0\n",
       "4       U   3.0   3.0    other       0.0    yes       no    2.0       4.0"
      ]
     },
     "execution_count": 1730,
     "metadata": {},
     "output_type": "execute_result"
    }
   ],
   "source": [
    "Data_for_model = stud_math.loc[:, ['address', 'Medu', 'Fedu', 'Mjob', 'failures', 'higher','romantic','goout','absences']]\n",
    "Data_for_model.head()"
   ]
  },
  {
   "cell_type": "markdown",
   "id": "lightweight-voluntary",
   "metadata": {},
   "source": [
    "# PS\n",
    "Autopep8 - не встал.... поэтому проверить автоматически на соотвествие PEP-8 не получилось....\n"
   ]
  }
 ],
 "metadata": {
  "kernelspec": {
   "display_name": "Python 3",
   "language": "python",
   "name": "python3"
  },
  "language_info": {
   "codemirror_mode": {
    "name": "ipython",
    "version": 3
   },
   "file_extension": ".py",
   "mimetype": "text/x-python",
   "name": "python",
   "nbconvert_exporter": "python",
   "pygments_lexer": "ipython3",
   "version": "3.8.5"
  },
  "toc": {
   "base_numbering": 1,
   "nav_menu": {},
   "number_sections": true,
   "sideBar": true,
   "skip_h1_title": false,
   "title_cell": "Table of Contents",
   "title_sidebar": "Contents",
   "toc_cell": false,
   "toc_position": {},
   "toc_section_display": true,
   "toc_window_display": false
  },
  "varInspector": {
   "cols": {
    "lenName": 16,
    "lenType": 16,
    "lenVar": 40
   },
   "kernels_config": {
    "python": {
     "delete_cmd_postfix": "",
     "delete_cmd_prefix": "del ",
     "library": "var_list.py",
     "varRefreshCmd": "print(var_dic_list())"
    },
    "r": {
     "delete_cmd_postfix": ") ",
     "delete_cmd_prefix": "rm(",
     "library": "var_list.r",
     "varRefreshCmd": "cat(var_dic_list()) "
    }
   },
   "position": {
    "height": "251.396px",
    "left": "645.396px",
    "right": "20px",
    "top": "148px",
    "width": "525px"
   },
   "types_to_exclude": [
    "module",
    "function",
    "builtin_function_or_method",
    "instance",
    "_Feature"
   ],
   "window_display": false
  }
 },
 "nbformat": 4,
 "nbformat_minor": 5
}
