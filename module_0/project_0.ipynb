{
 "cells": [
  {
   "cell_type": "code",
   "execution_count": 1,
   "metadata": {},
   "outputs": [
    {
     "name": "stdout",
     "output_type": "stream",
     "text": [
      "Ваш алгоритм угадывает число в среднем за 5 попыток\n"
     ]
    },
    {
     "data": {
      "text/plain": [
       "5"
      ]
     },
     "execution_count": 1,
     "metadata": {},
     "output_type": "execute_result"
    }
   ],
   "source": [
    "#Program by Eugene_P\n",
    "#SkillFactory-Project_0 \"GitHub Fast_start\" \n",
    "\n",
    "import numpy as np\n",
    "def game_core_fast(number):\n",
    "    '''Быстрое угадывание числа из диапазона 1..100 методом половинного деления.\n",
    "       Функция принимает загаданное число и возвращает число попыток'''\n",
    "    range_low = 1\n",
    "    range_high = 100\n",
    "    count = 1\n",
    "    predict = 50 # Делаем первую проверку числа - середина диапазона\n",
    "    \n",
    "    while number != predict:\n",
    "        count+=1\n",
    "        if number > predict: \n",
    "            range_low = predict + 1 # Передвигаем нижнюю границу диапазона вверх\n",
    "        elif number < predict: \n",
    "            range_high = predict - 1 # Передвигаем верхнюю границу диапазона вниз\n",
    "        predict = (range_low+range_high) // 2 # Проверяем число из середины нового диапазона\n",
    "    \n",
    "    return(count) # Выход из цикла, если угадали\n",
    "\n",
    "\n",
    "def score_game(game_core):\n",
    "    '''Запускаем игру 1000 раз, чтобы узнать, как быстро игра угадывает число'''\n",
    "    count_ls = []\n",
    "    np.random.seed(1)  # Фиксируем RANDOM SEED, чтобы ваш эксперимент был воспроизводим!\n",
    "    random_array = np.random.randint(1,101, size=(1000))\n",
    "    for number in random_array:\n",
    "        count_ls.append(game_core(number))\n",
    "    score = int(np.mean(count_ls))\n",
    "    print(f\"Ваш алгоритм угадывает число в среднем за {score} попыток\")\n",
    "    return(score)\n",
    "\n",
    "score_game(game_core_fast) # Проверяем статистику и качество алгоритма\n"
   ]
  }
 ],
 "metadata": {
  "kernelspec": {
   "display_name": "Python 3",
   "language": "python",
   "name": "python3"
  },
  "language_info": {
   "codemirror_mode": {
    "name": "ipython",
    "version": 3
   },
   "file_extension": ".py",
   "mimetype": "text/x-python",
   "name": "python",
   "nbconvert_exporter": "python",
   "pygments_lexer": "ipython3",
   "version": "3.8.3"
  }
 },
 "nbformat": 4,
 "nbformat_minor": 4
}
