{
 "cells": [
  {
   "cell_type": "markdown",
   "metadata": {},
   "source": [
    "#  RDS_3 - Задание\n",
    "Представьте, что вы работаете DS в компании TripAdvisor. Одна из проблем компании — это нечестные рестораны, которые накручивают себе рейтинг. Одним из способов нахождения таких ресторанов является построение модели, которая предсказывает рейтинг ресторана. Если предсказания модели сильно отличаются от фактического результата, то, возможно, ресторан играет нечестно, и его стоит проверить."
   ]
  },
  {
   "cell_type": "markdown",
   "metadata": {},
   "source": [
    "# Загрузка Pandas и очистка данных"
   ]
  },
  {
   "cell_type": "code",
   "execution_count": 1,
   "metadata": {},
   "outputs": [],
   "source": [
    "# Раздел импорта и функций.\n",
    "import pandas as pd\n",
    "import numpy as np\n",
    "import re as re\n",
    "import datetime\n",
    "import time\n",
    "import os\n",
    "from datetime import datetime\n",
    "import matplotlib.pyplot as plt\n",
    "import seaborn as sns\n",
    "from sklearn.preprocessing import PolynomialFeatures\n",
    "from sklearn.preprocessing import StandardScaler\n",
    "# инструмент для создания и обучения модели\n",
    "from sklearn.ensemble import RandomForestRegressor\n",
    "# инструменты для оценки точности модели\n",
    "from sklearn import metrics\n",
    "# Загружаем специальный инструмент для разбивки:\n",
    "from sklearn.model_selection import train_test_split\n",
    "%matplotlib inline\n",
    "\n",
    "# Обзорная функция краткого анализа данных в столбце\n",
    "\n",
    "\n",
    "def Check_data(x):\n",
    "    print('Обзор даных для:', x.name)\n",
    "    print(x.value_counts())\n",
    "    print(x.describe())\n",
    "    print('пропущено значений:', x.isnull().sum())\n",
    "\n",
    "# функция счетчик кухонь\n",
    "    \n",
    "def cuis_num(cuis):\n",
    "    for i in cuis:\n",
    "        if i in cuis_set:\n",
    "            cuis_set[i] += 1\n",
    "        else:\n",
    "            cuis_set[i] = 1\n",
    "    return cuis_set\n",
    "    \n",
    "# всегда фиксируйте RANDOM_SEED, чтобы ваши эксперименты были воспроизводимы!\n",
    "RANDOM_SEED = 42\n",
    "\n",
    "# зафиксируем версию пакетов, чтобы эксперименты были воспроизводимы:\n",
    "!pip freeze > requirements.txt"
   ]
  },
  {
   "cell_type": "markdown",
   "metadata": {},
   "source": [
    "Первоначальная версия датасета состоит из десяти столбцов, содержащих следующую информацию:\n",
    "\n",
    "Restaurant_id — идентификационный номер ресторана / сети ресторанов; City — город, в котором находится ресторан; Cuisine Style — кухня или кухни, к которым можно отнести блюда, предлагаемые в ресторане; Ranking — место, которое занимает данный ресторан среди всех ресторанов своего города; Rating — рейтинг ресторана по данным TripAdvisor (именно это значение должна будет предсказывать модель); Price Range — диапазон цен в ресторане; Number of Reviews — количество отзывов о ресторане; Reviews — данные о двух отзывах, которые отображаются на сайте ресторана; URL_TA — URL страницы ресторана на TripAdvisor; ID_TA — идентификатор ресторана в базе данных TripAdvisor."
   ]
  },
  {
   "cell_type": "code",
   "execution_count": 2,
   "metadata": {},
   "outputs": [
    {
     "name": "stdout",
     "output_type": "stream",
     "text": [
      "<class 'pandas.core.frame.DataFrame'>\n",
      "RangeIndex: 40000 entries, 0 to 39999\n",
      "Data columns (total 8 columns):\n",
      " #   Column             Non-Null Count  Dtype  \n",
      "---  ------             --------------  -----  \n",
      " 0   Restaurant_id      40000 non-null  object \n",
      " 1   City               40000 non-null  object \n",
      " 2   Cuisine Style      30717 non-null  object \n",
      " 3   Ranking            40000 non-null  float64\n",
      " 4   Rating             40000 non-null  float64\n",
      " 5   Price Range        26114 non-null  object \n",
      " 6   Number of Reviews  37457 non-null  float64\n",
      " 7   Reviews            40000 non-null  object \n",
      "dtypes: float64(3), object(5)\n",
      "memory usage: 2.4+ MB\n"
     ]
    },
    {
     "data": {
      "text/plain": [
       "None"
      ]
     },
     "metadata": {},
     "output_type": "display_data"
    },
    {
     "data": {
      "text/html": [
       "<div>\n",
       "<style scoped>\n",
       "    .dataframe tbody tr th:only-of-type {\n",
       "        vertical-align: middle;\n",
       "    }\n",
       "\n",
       "    .dataframe tbody tr th {\n",
       "        vertical-align: top;\n",
       "    }\n",
       "\n",
       "    .dataframe thead th {\n",
       "        text-align: right;\n",
       "    }\n",
       "</style>\n",
       "<table border=\"1\" class=\"dataframe\">\n",
       "  <thead>\n",
       "    <tr style=\"text-align: right;\">\n",
       "      <th></th>\n",
       "      <th>Restaurant_id</th>\n",
       "      <th>City</th>\n",
       "      <th>Cuisine Style</th>\n",
       "      <th>Ranking</th>\n",
       "      <th>Rating</th>\n",
       "      <th>Price Range</th>\n",
       "      <th>Number of Reviews</th>\n",
       "      <th>Reviews</th>\n",
       "    </tr>\n",
       "  </thead>\n",
       "  <tbody>\n",
       "    <tr>\n",
       "      <th>0</th>\n",
       "      <td>id_5569</td>\n",
       "      <td>Paris</td>\n",
       "      <td>['European', 'French', 'International']</td>\n",
       "      <td>5570.0</td>\n",
       "      <td>3.5</td>\n",
       "      <td>$$ - $$$</td>\n",
       "      <td>194.0</td>\n",
       "      <td>[['Good food at your doorstep', 'A good hotel restaurant'], ['12/31/2017', '11/20/2017']]</td>\n",
       "    </tr>\n",
       "    <tr>\n",
       "      <th>1</th>\n",
       "      <td>id_1535</td>\n",
       "      <td>Stockholm</td>\n",
       "      <td>NaN</td>\n",
       "      <td>1537.0</td>\n",
       "      <td>4.0</td>\n",
       "      <td>NaN</td>\n",
       "      <td>10.0</td>\n",
       "      <td>[['Unique cuisine', 'Delicious Nepalese food'], ['07/06/2017', '06/19/2016']]</td>\n",
       "    </tr>\n",
       "    <tr>\n",
       "      <th>2</th>\n",
       "      <td>id_352</td>\n",
       "      <td>London</td>\n",
       "      <td>['Japanese', 'Sushi', 'Asian', 'Grill', 'Vegetarian Friendly', 'Vegan Options', 'Gluten Free Options']</td>\n",
       "      <td>353.0</td>\n",
       "      <td>4.5</td>\n",
       "      <td>$$$$</td>\n",
       "      <td>688.0</td>\n",
       "      <td>[['Catch up with friends', 'Not exceptional'], ['01/08/2018', '01/06/2018']]</td>\n",
       "    </tr>\n",
       "    <tr>\n",
       "      <th>3</th>\n",
       "      <td>id_3456</td>\n",
       "      <td>Berlin</td>\n",
       "      <td>NaN</td>\n",
       "      <td>3458.0</td>\n",
       "      <td>5.0</td>\n",
       "      <td>NaN</td>\n",
       "      <td>3.0</td>\n",
       "      <td>[[], []]</td>\n",
       "    </tr>\n",
       "    <tr>\n",
       "      <th>4</th>\n",
       "      <td>id_615</td>\n",
       "      <td>Munich</td>\n",
       "      <td>['German', 'Central European', 'Vegetarian Friendly']</td>\n",
       "      <td>621.0</td>\n",
       "      <td>4.0</td>\n",
       "      <td>$$ - $$$</td>\n",
       "      <td>84.0</td>\n",
       "      <td>[['Best place to try a Bavarian food', 'Nice building but improvements need to be...'], ['11/18/2017', '02/19/2017']]</td>\n",
       "    </tr>\n",
       "    <tr>\n",
       "      <th>...</th>\n",
       "      <td>...</td>\n",
       "      <td>...</td>\n",
       "      <td>...</td>\n",
       "      <td>...</td>\n",
       "      <td>...</td>\n",
       "      <td>...</td>\n",
       "      <td>...</td>\n",
       "      <td>...</td>\n",
       "    </tr>\n",
       "    <tr>\n",
       "      <th>39995</th>\n",
       "      <td>id_499</td>\n",
       "      <td>Milan</td>\n",
       "      <td>['Italian', 'Vegetarian Friendly', 'Vegan Options', 'Gluten Free Options']</td>\n",
       "      <td>500.0</td>\n",
       "      <td>4.5</td>\n",
       "      <td>$$ - $$$</td>\n",
       "      <td>79.0</td>\n",
       "      <td>[['The real Italian experience!', 'Wonderful food, wonderful experience'], ['12/16/2017', '11/12/2017']]</td>\n",
       "    </tr>\n",
       "    <tr>\n",
       "      <th>39996</th>\n",
       "      <td>id_6340</td>\n",
       "      <td>Paris</td>\n",
       "      <td>['French', 'American', 'Bar', 'European', 'Vegetarian Friendly']</td>\n",
       "      <td>6341.0</td>\n",
       "      <td>3.5</td>\n",
       "      <td>$$ - $$$</td>\n",
       "      <td>542.0</td>\n",
       "      <td>[['Parisian atmosphere', 'Bit pricey but interesting decor and good...'], ['12/21/2017', '12/12/2017']]</td>\n",
       "    </tr>\n",
       "    <tr>\n",
       "      <th>39997</th>\n",
       "      <td>id_1649</td>\n",
       "      <td>Stockholm</td>\n",
       "      <td>['Japanese', 'Sushi']</td>\n",
       "      <td>1652.0</td>\n",
       "      <td>4.5</td>\n",
       "      <td>NaN</td>\n",
       "      <td>4.0</td>\n",
       "      <td>[['Good by swedish standards', 'A hidden jewel in the middle of Västertorp...'], ['11/03/2016', '04/12/2008']]</td>\n",
       "    </tr>\n",
       "    <tr>\n",
       "      <th>39998</th>\n",
       "      <td>id_640</td>\n",
       "      <td>Warsaw</td>\n",
       "      <td>['Polish', 'European', 'Eastern European', 'Central European', 'Vegetarian Friendly']</td>\n",
       "      <td>641.0</td>\n",
       "      <td>4.0</td>\n",
       "      <td>$$ - $$$</td>\n",
       "      <td>70.0</td>\n",
       "      <td>[['Underground restaurant', 'Oldest Restaurant in Warsaw'], ['07/11/2017', '06/18/2017']]</td>\n",
       "    </tr>\n",
       "    <tr>\n",
       "      <th>39999</th>\n",
       "      <td>id_4824</td>\n",
       "      <td>Milan</td>\n",
       "      <td>['Spanish']</td>\n",
       "      <td>4827.0</td>\n",
       "      <td>3.0</td>\n",
       "      <td>$$ - $$$</td>\n",
       "      <td>260.0</td>\n",
       "      <td>[['Average', 'Nice an informal'], ['01/31/2016', '07/04/2012']]</td>\n",
       "    </tr>\n",
       "  </tbody>\n",
       "</table>\n",
       "<p>40000 rows × 8 columns</p>\n",
       "</div>"
      ],
      "text/plain": [
       "      Restaurant_id       City  \\\n",
       "0           id_5569      Paris   \n",
       "1           id_1535  Stockholm   \n",
       "2            id_352     London   \n",
       "3           id_3456     Berlin   \n",
       "4            id_615     Munich   \n",
       "...             ...        ...   \n",
       "39995        id_499      Milan   \n",
       "39996       id_6340      Paris   \n",
       "39997       id_1649  Stockholm   \n",
       "39998        id_640     Warsaw   \n",
       "39999       id_4824      Milan   \n",
       "\n",
       "                                                                                                Cuisine Style  \\\n",
       "0                                                                     ['European', 'French', 'International']   \n",
       "1                                                                                                         NaN   \n",
       "2      ['Japanese', 'Sushi', 'Asian', 'Grill', 'Vegetarian Friendly', 'Vegan Options', 'Gluten Free Options']   \n",
       "3                                                                                                         NaN   \n",
       "4                                                       ['German', 'Central European', 'Vegetarian Friendly']   \n",
       "...                                                                                                       ...   \n",
       "39995                              ['Italian', 'Vegetarian Friendly', 'Vegan Options', 'Gluten Free Options']   \n",
       "39996                                        ['French', 'American', 'Bar', 'European', 'Vegetarian Friendly']   \n",
       "39997                                                                                   ['Japanese', 'Sushi']   \n",
       "39998                   ['Polish', 'European', 'Eastern European', 'Central European', 'Vegetarian Friendly']   \n",
       "39999                                                                                             ['Spanish']   \n",
       "\n",
       "       Ranking  Rating Price Range  Number of Reviews  \\\n",
       "0       5570.0     3.5    $$ - $$$              194.0   \n",
       "1       1537.0     4.0         NaN               10.0   \n",
       "2        353.0     4.5        $$$$              688.0   \n",
       "3       3458.0     5.0         NaN                3.0   \n",
       "4        621.0     4.0    $$ - $$$               84.0   \n",
       "...        ...     ...         ...                ...   \n",
       "39995    500.0     4.5    $$ - $$$               79.0   \n",
       "39996   6341.0     3.5    $$ - $$$              542.0   \n",
       "39997   1652.0     4.5         NaN                4.0   \n",
       "39998    641.0     4.0    $$ - $$$               70.0   \n",
       "39999   4827.0     3.0    $$ - $$$              260.0   \n",
       "\n",
       "                                                                                                                     Reviews  \n",
       "0                                  [['Good food at your doorstep', 'A good hotel restaurant'], ['12/31/2017', '11/20/2017']]  \n",
       "1                                              [['Unique cuisine', 'Delicious Nepalese food'], ['07/06/2017', '06/19/2016']]  \n",
       "2                                               [['Catch up with friends', 'Not exceptional'], ['01/08/2018', '01/06/2018']]  \n",
       "3                                                                                                                   [[], []]  \n",
       "4      [['Best place to try a Bavarian food', 'Nice building but improvements need to be...'], ['11/18/2017', '02/19/2017']]  \n",
       "...                                                                                                                      ...  \n",
       "39995               [['The real Italian experience!', 'Wonderful food, wonderful experience'], ['12/16/2017', '11/12/2017']]  \n",
       "39996                [['Parisian atmosphere', 'Bit pricey but interesting decor and good...'], ['12/21/2017', '12/12/2017']]  \n",
       "39997         [['Good by swedish standards', 'A hidden jewel in the middle of Västertorp...'], ['11/03/2016', '04/12/2008']]  \n",
       "39998                              [['Underground restaurant', 'Oldest Restaurant in Warsaw'], ['07/11/2017', '06/18/2017']]  \n",
       "39999                                                        [['Average', 'Nice an informal'], ['01/31/2016', '07/04/2012']]  \n",
       "\n",
       "[40000 rows x 8 columns]"
      ]
     },
     "metadata": {},
     "output_type": "display_data"
    }
   ],
   "source": [
    "df = pd.read_csv('main_task.csv')\n",
    "# удалю сразу столбцы с сылками и информацией на TripAdvisor- не планирую пока использовать внешние данные\n",
    "df.drop(['URL_TA', 'ID_TA'], axis=1, inplace=True)\n",
    "\n",
    "pd.set_option('display.max_rows', 50)  # показывать больше строк\n",
    "pd.set_option('display.max_columns', 50)  # показывать больше колонок\n",
    "pd.set_option('max_colwidth', 200)  # показывать больше колонок\n",
    "\n",
    "display(df.info())\n",
    "display(df)"
   ]
  },
  {
   "cell_type": "code",
   "execution_count": 3,
   "metadata": {},
   "outputs": [
    {
     "name": "stdout",
     "output_type": "stream",
     "text": [
      "отсутствует значений: 25712 ( 6 %)\n"
     ]
    },
    {
     "data": {
      "image/png": "[encoded data removed]",
      "text/plain": [
       "<Figure size 1008x288 with 2 Axes>"
      ]
     },
     "metadata": {
      "needs_background": "light"
     },
     "output_type": "display_data"
    }
   ],
   "source": [
    "fig, ax = plt.subplots(figsize=(14, 4))\n",
    "sns.heatmap(df.isnull())\n",
    "print('отсутствует значений:', df.isnull().sum().sum(),\n",
    "      '(', round(df.isnull().sum().sum()/4000), '%)')"
   ]
  },
  {
   "cell_type": "markdown",
   "metadata": {},
   "source": [
    "Начальное значение - MAE: 0.43"
   ]
  },
  {
   "cell_type": "markdown",
   "metadata": {},
   "source": [
    "# Приведение данных в нужный вид и будет задачей."
   ]
  },
  {
   "cell_type": "markdown",
   "metadata": {},
   "source": [
    "## Изучим значение 'Number of Reviews'"
   ]
  },
  {
   "cell_type": "code",
   "execution_count": 4,
   "metadata": {},
   "outputs": [
    {
     "name": "stdout",
     "output_type": "stream",
     "text": [
      "Обзор даных для: Number of Reviews\n",
      "2.0       1916\n",
      "3.0       1636\n",
      "4.0       1370\n",
      "5.0       1181\n",
      "6.0       1018\n",
      "          ... \n",
      "2141.0       1\n",
      "920.0        1\n",
      "1404.0       1\n",
      "979.0        1\n",
      "1698.0       1\n",
      "Name: Number of Reviews, Length: 1459, dtype: int64\n",
      "count    37457.000000\n",
      "mean       124.825480\n",
      "std        295.666352\n",
      "min          2.000000\n",
      "25%          9.000000\n",
      "50%         33.000000\n",
      "75%        115.000000\n",
      "max       9660.000000\n",
      "Name: Number of Reviews, dtype: float64\n",
      "пропущено значений: 2543\n"
     ]
    },
    {
     "data": {
      "text/plain": [
       "None"
      ]
     },
     "metadata": {},
     "output_type": "display_data"
    }
   ],
   "source": [
    "display(Check_data(df['Number of Reviews']))\n",
    "# Создадим новый признак - пропущенное число обзоров - проверим в конце еще раз\n",
    "df['Num_Review_NAN'] = pd.isna(df['Number of Reviews']).astype('uint8')\n",
    "\n",
    "\n",
    "# заменим пропущенные значения средним по городу- City\n",
    "city = df.City.unique()\n",
    "city_reviews = {}\n",
    "for i in city:\n",
    "    city_reviews[i] = df[df.City == i]['Number of Reviews'].mean()\n",
    "\n",
    "df['Number of Reviews'] = df[['City', 'Number of Reviews']].apply(\n",
    "    lambda x: city_reviews[x[0]] if pd.isna(x[1]) else x[1], axis=1)\n",
    "# MAE: 0.40856794166666666"
   ]
  },
  {
   "cell_type": "markdown",
   "metadata": {},
   "source": [
    "## Изучим значение 'Restaurant_id'"
   ]
  },
  {
   "cell_type": "code",
   "execution_count": 5,
   "metadata": {},
   "outputs": [
    {
     "name": "stdout",
     "output_type": "stream",
     "text": [
      "Обзор даных для: Restaurant_id\n",
      "id_633     18\n",
      "id_227     18\n",
      "id_436     18\n",
      "id_871     18\n",
      "id_71      17\n",
      "           ..\n",
      "id_7550     1\n",
      "id_3017     1\n",
      "id_8608     1\n",
      "id_7866     1\n",
      "id_4967     1\n",
      "Name: Restaurant_id, Length: 11909, dtype: int64\n",
      "count      40000\n",
      "unique     11909\n",
      "top       id_633\n",
      "freq          18\n",
      "Name: Restaurant_id, dtype: object\n",
      "пропущено значений: 0\n"
     ]
    },
    {
     "data": {
      "text/plain": [
       "None"
      ]
     },
     "metadata": {},
     "output_type": "display_data"
    },
    {
     "name": "stdout",
     "output_type": "stream",
     "text": [
      "Обзор даных для: rest_netw\n",
      "1    35295\n",
      "0     4705\n",
      "Name: rest_netw, dtype: int64\n",
      "count    40000.000000\n",
      "mean         0.882375\n",
      "std          0.322168\n",
      "min          0.000000\n",
      "25%          1.000000\n",
      "50%          1.000000\n",
      "75%          1.000000\n",
      "max          1.000000\n",
      "Name: rest_netw, dtype: float64\n",
      "пропущено значений: 0\n"
     ]
    },
    {
     "data": {
      "text/plain": [
       "None"
      ]
     },
     "metadata": {},
     "output_type": "display_data"
    }
   ],
   "source": [
    "# посмотрим на признак 'Restaurant_id'\n",
    "display(Check_data(df.Restaurant_id))\n",
    "\n",
    "# видим, что есть сетевые рестораны и можно оформить новый признак - сетевой ресторан или нет(1-0),\n",
    "# а также признак число ресторанов в сети\n",
    "\n",
    "# создадим признак число ресторанов в сети\n",
    "id = df.Restaurant_id.unique()\n",
    "id_num = {}\n",
    "for i in id:\n",
    "    id_num[i] = df[df.Restaurant_id == i]['Restaurant_id'].count()\n",
    "    \n",
    "df['rest_netw_num'] = df[['Restaurant_id']].apply(lambda x: id_num[x[0]], axis=1)\n",
    "\n",
    "# на основе этого признака создадим новый признак сетевой ресторан или нет(1-0)\n",
    "\n",
    "df['rest_netw'] = df[['rest_netw_num']].apply(lambda x: 0 if x[0]==1 else 1, axis=1)\n",
    "\n",
    "display(Check_data(df.rest_netw))"
   ]
  },
  {
   "cell_type": "markdown",
   "metadata": {},
   "source": [
    "## Изучим значение 'Price Range'"
   ]
  },
  {
   "cell_type": "code",
   "execution_count": 6,
   "metadata": {},
   "outputs": [
    {
     "name": "stdout",
     "output_type": "stream",
     "text": [
      "Обзор даных для: Price Range\n",
      "$$ - $$$    18412\n",
      "$            6279\n",
      "$$$$         1423\n",
      "Name: Price Range, dtype: int64\n",
      "count        26114\n",
      "unique           3\n",
      "top       $$ - $$$\n",
      "freq         18412\n",
      "Name: Price Range, dtype: object\n",
      "пропущено значений: 13886\n"
     ]
    },
    {
     "data": {
      "text/plain": [
       "None"
      ]
     },
     "metadata": {},
     "output_type": "display_data"
    },
    {
     "data": {
      "text/plain": [
       "array(['$$ - $$$', nan, '$$$$', '$'], dtype=object)"
      ]
     },
     "execution_count": 6,
     "metadata": {},
     "output_type": "execute_result"
    }
   ],
   "source": [
    "display(Check_data(df['Price Range']))\n",
    "df['Price Range'].unique()"
   ]
  },
  {
   "cell_type": "code",
   "execution_count": 7,
   "metadata": {},
   "outputs": [],
   "source": [
    "# создадим новый признак - пропущенные значения 'Price Range' \n",
    "df['Price_Range_NAN'] = pd.isna(df['Price Range']).astype('uint8')"
   ]
  },
  {
   "cell_type": "code",
   "execution_count": 8,
   "metadata": {},
   "outputs": [
    {
     "name": "stdout",
     "output_type": "stream",
     "text": [
      "Обзор даных для: Price\n",
      "10.0    18412\n",
      "30.0     6279\n",
      "90.0     1423\n",
      "Name: Price, dtype: int64\n",
      "count    26114.000000\n",
      "mean        19.168262\n",
      "std         18.996918\n",
      "min         10.000000\n",
      "25%         10.000000\n",
      "50%         10.000000\n",
      "75%         30.000000\n",
      "max         90.000000\n",
      "Name: Price, dtype: float64\n",
      "пропущено значений: 13886\n"
     ]
    },
    {
     "data": {
      "text/plain": [
       "None"
      ]
     },
     "metadata": {},
     "output_type": "display_data"
    },
    {
     "name": "stdout",
     "output_type": "stream",
     "text": [
      "Обзор даных для: Price_in_City\n",
      "16.534653    5757\n",
      "16.252808    4897\n",
      "14.929215    3108\n",
      "16.115582    2734\n",
      "14.881671    2155\n",
      "17.126113    2133\n",
      "18.094321    2078\n",
      "15.377685    1443\n",
      "16.061538    1300\n",
      "14.785592    1166\n",
      "15.285451    1086\n",
      "15.433962    1060\n",
      "14.067439     949\n",
      "15.711086     893\n",
      "13.766816     892\n",
      "13.658537     820\n",
      "16.666667     816\n",
      "16.134801     727\n",
      "15.052006     673\n",
      "15.827011     659\n",
      "16.656051     628\n",
      "17.449664     596\n",
      "16.802974     538\n",
      "17.719298     513\n",
      "17.442827     481\n",
      "17.042889     443\n",
      "17.792208     385\n",
      "14.840426     376\n",
      "14.850498     301\n",
      "14.476190     210\n",
      "16.885246     183\n",
      "Name: Price_in_City, dtype: int64\n",
      "count    40000.000000\n",
      "mean        15.985500\n",
      "std          1.054124\n",
      "min         13.658537\n",
      "25%         15.052006\n",
      "50%         16.134801\n",
      "75%         16.534653\n",
      "max         18.094321\n",
      "Name: Price_in_City, dtype: float64\n",
      "пропущено значений: 0\n"
     ]
    },
    {
     "data": {
      "text/plain": [
       "None"
      ]
     },
     "metadata": {},
     "output_type": "display_data"
    },
    {
     "data": {
      "image/png": "[encoded data removed]",
      "text/plain": [
       "<Figure size 432x288 with 1 Axes>"
      ]
     },
     "metadata": {
      "needs_background": "light"
     },
     "output_type": "display_data"
    }
   ],
   "source": [
    "# перевести в число 10-30-900 основываясь на приблизительной оценке - большие цифры взяты чтобы работать с целыми числами\n",
    "df['Price'] = df['Price Range'].replace(\n",
    "    {'$$ - $$$': '10', '$': '30', '$$$$': '90'})\n",
    "df['Price'] = pd.to_numeric(df['Price'])\n",
    "\n",
    "# заполнить пропущенные значения на базе рейтинга, количества ревью и города?\n",
    "# проанализируем Price\n",
    "display(Check_data(df.Price))\n",
    "df.Price.hist(bins=50)\n",
    "# Вывод- цена 900 - скорее выброс и предлагаю заполнить пропущенные значения модой\n",
    "p_mode=df.Price.mode()[0]\n",
    "df['Price'].fillna(p_mode, inplace=True)\n",
    "df['Price Range'] = df['Price Range'].fillna('$')\n",
    "# MAE: 0.41655489424603176\n",
    "\n",
    "# создадим новый признак - Средняя цена в городе\n",
    "price_in_city_dict = df.groupby('City')['Price'].mean().to_dict()\n",
    "df['Price_in_City'] = df['City'].map(price_in_city_dict)\n",
    "# посмотрим что получилось\n",
    "display(Check_data(df['Price_in_City']))"
   ]
  },
  {
   "cell_type": "markdown",
   "metadata": {},
   "source": [
    "## Изучим значение 'Cuisine Style'"
   ]
  },
  {
   "cell_type": "code",
   "execution_count": 9,
   "metadata": {},
   "outputs": [
    {
     "name": "stdout",
     "output_type": "stream",
     "text": [
      "Обзор даных для: Cuisine Style\n",
      "['Italian']                                                                                                  1032\n",
      "['French']                                                                                                    805\n",
      "['Spanish']                                                                                                   695\n",
      "['French', 'European']                                                                                        405\n",
      "['Cafe']                                                                                                      403\n",
      "                                                                                                             ... \n",
      "['German', 'International', 'European', 'Central European', 'Vegetarian Friendly', 'Gluten Free Options']       1\n",
      "['European', 'Grill', 'Polish', 'Bar', 'Cafe', 'Pub']                                                           1\n",
      "['French', 'European', 'Scandinavian', 'Norwegian']                                                             1\n",
      "['Bar', 'British', 'Pub', 'Contemporary', 'Vegetarian Friendly', 'Vegan Options']                               1\n",
      "['Bar', 'European', 'Pub', 'Vegetarian Friendly', 'Vegan Options', 'Gluten Free Options']                       1\n",
      "Name: Cuisine Style, Length: 9007, dtype: int64\n",
      "count           30717\n",
      "unique           9007\n",
      "top       ['Italian']\n",
      "freq             1032\n",
      "Name: Cuisine Style, dtype: object\n",
      "пропущено значений: 9283\n"
     ]
    },
    {
     "data": {
      "text/plain": [
       "None"
      ]
     },
     "metadata": {},
     "output_type": "display_data"
    }
   ],
   "source": [
    "display(Check_data(df['Cuisine Style']))"
   ]
  },
  {
   "cell_type": "code",
   "execution_count": 10,
   "metadata": {},
   "outputs": [],
   "source": [
    "# создадим новый признак - пропущенный 'Cuisine Style'\n",
    "df['Cuis_NAN'] = pd.isna(df['Cuisine Style']).astype('uint8')\n"
   ]
  },
  {
   "cell_type": "code",
   "execution_count": 11,
   "metadata": {},
   "outputs": [],
   "source": [
    "# Заменим пропуски на Unknown\n",
    "df['Cuisine Style'].fillna(\"'Unknown'\", inplace=True)\n",
    "# Выполним преобразование данных в колонке. Нам нужно получить список кухонь для каждого ресторана\n",
    "df['Cuisine Style'] = df['Cuisine Style'].apply(lambda x: x.replace('[','').replace(']','').replace(', ',',').split(','))\n",
    "\n",
    "# Создадим признак, содержащий количество кухонь, представленных в ресторане\n",
    "\n",
    "df['Cuisines_Number'] = df['Cuisine Style'].apply(lambda x: len(x))\n",
    "MAE: 0.40795423730158725"
   ]
  },
  {
   "cell_type": "code",
   "execution_count": 12,
   "metadata": {},
   "outputs": [
    {
     "name": "stdout",
     "output_type": "stream",
     "text": [
      "2.6\n",
      "'Vegetarian Friendly'    11189\n",
      "dtype: int64\n",
      "126\n"
     ]
    }
   ],
   "source": [
    "# подсчитаем среднее значение числа кухонь в ресторанах\n",
    "cuis_mean = df.Cuisines_Number.mean()\n",
    "print('среднее значение числа кухонь:',round(cuis_mean, 1))\n",
    "\n",
    "# подсчет популярных кухонь\n",
    "cuis_set = pd.Series(dtype='float64')\n",
    "\n",
    "# считаем\n",
    "df['Cuisine Style'].apply(cuis_num)\n",
    "cuis_set.sort_values(ascending=False, inplace=True)\n",
    "print('самая популярная кухня:',cuis_set.index[0])\n",
    "print(len(cuis_set))\n",
    "cuis_set\n",
    "# нашли самую популярную кухню 'Vegetarian Friendly'\n",
    "# заменим кухню 'Unknown' на самую популярную\n",
    "df['Cuisine Style'] = df['Cuisine Style'].apply(\n",
    "    lambda x: [cuis_set.index[0]] if x == [\"'Unknown'\"] else x)\n",
    "\n",
    "# MAE: 0.3859641875"
   ]
  },
  {
   "cell_type": "markdown",
   "metadata": {},
   "source": [
    "## Изучим значение 'Reviews'"
   ]
  },
  {
   "cell_type": "code",
   "execution_count": 15,
   "metadata": {},
   "outputs": [
    {
     "data": {
      "text/plain": [
       "0                                    [['Good food at your doorstep', 'A good hotel restaurant'], ['12/31/2017', '11/20/2017']]\n",
       "1                                                [['Unique cuisine', 'Delicious Nepalese food'], ['07/06/2017', '06/19/2016']]\n",
       "2                                                 [['Catch up with friends', 'Not exceptional'], ['01/08/2018', '01/06/2018']]\n",
       "3                                                                                                                     [[], []]\n",
       "4        [['Best place to try a Bavarian food', 'Nice building but improvements need to be...'], ['11/18/2017', '02/19/2017']]\n",
       "                                                                 ...                                                          \n",
       "39995                 [['The real Italian experience!', 'Wonderful food, wonderful experience'], ['12/16/2017', '11/12/2017']]\n",
       "39996                  [['Parisian atmosphere', 'Bit pricey but interesting decor and good...'], ['12/21/2017', '12/12/2017']]\n",
       "39997           [['Good by swedish standards', 'A hidden jewel in the middle of Västertorp...'], ['11/03/2016', '04/12/2008']]\n",
       "39998                                [['Underground restaurant', 'Oldest Restaurant in Warsaw'], ['07/11/2017', '06/18/2017']]\n",
       "39999                                                          [['Average', 'Nice an informal'], ['01/31/2016', '07/04/2012']]\n",
       "Name: Reviews, Length: 40000, dtype: object"
      ]
     },
     "metadata": {},
     "output_type": "display_data"
    },
    {
     "data": {
      "text/plain": [
       "<bound method NDFrame.describe of 0                                    [['Good food at your doorstep', 'A good hotel restaurant'], ['12/31/2017', '11/20/2017']]\n",
       "1                                                [['Unique cuisine', 'Delicious Nepalese food'], ['07/06/2017', '06/19/2016']]\n",
       "2                                                 [['Catch up with friends', 'Not exceptional'], ['01/08/2018', '01/06/2018']]\n",
       "3                                                                                                                     [[], []]\n",
       "4        [['Best place to try a Bavarian food', 'Nice building but improvements need to be...'], ['11/18/2017', '02/19/2017']]\n",
       "                                                                 ...                                                          \n",
       "39995                 [['The real Italian experience!', 'Wonderful food, wonderful experience'], ['12/16/2017', '11/12/2017']]\n",
       "39996                  [['Parisian atmosphere', 'Bit pricey but interesting decor and good...'], ['12/21/2017', '12/12/2017']]\n",
       "39997           [['Good by swedish standards', 'A hidden jewel in the middle of Västertorp...'], ['11/03/2016', '04/12/2008']]\n",
       "39998                                [['Underground restaurant', 'Oldest Restaurant in Warsaw'], ['07/11/2017', '06/18/2017']]\n",
       "39999                                                          [['Average', 'Nice an informal'], ['01/31/2016', '07/04/2012']]\n",
       "Name: Reviews, Length: 40000, dtype: object>"
      ]
     },
     "execution_count": 15,
     "metadata": {},
     "output_type": "execute_result"
    }
   ],
   "source": [
    "display(df.Reviews)\n",
    "df.Reviews.describe"
   ]
  },
  {
   "cell_type": "code",
   "execution_count": 217,
   "metadata": {},
   "outputs": [
    {
     "data": {
      "text/plain": [
       "0        [12/31/2017, 11/20/2017]\n",
       "1        [07/06/2017, 06/19/2016]\n",
       "2        [01/08/2018, 01/06/2018]\n",
       "3                              []\n",
       "4        [11/18/2017, 02/19/2017]\n",
       "                   ...           \n",
       "39995    [12/16/2017, 11/12/2017]\n",
       "39996    [12/21/2017, 12/12/2017]\n",
       "39997    [11/03/2016, 04/12/2008]\n",
       "39998    [07/11/2017, 06/18/2017]\n",
       "39999    [01/31/2016, 07/04/2012]\n",
       "Name: rev_date, Length: 40000, dtype: object"
      ]
     },
     "metadata": {},
     "output_type": "display_data"
    },
    {
     "data": {
      "text/plain": [
       "0        [2017-12-31, 2017-11-20]\n",
       "1        [2017-07-06, 2016-06-19]\n",
       "2        [2018-01-08, 2018-01-06]\n",
       "3                              []\n",
       "4        [2017-11-18, 2017-02-19]\n",
       "                   ...           \n",
       "39995    [2017-12-16, 2017-11-12]\n",
       "39996    [2017-12-21, 2017-12-12]\n",
       "39997    [2016-11-03, 2008-04-12]\n",
       "39998    [2017-07-11, 2017-06-18]\n",
       "39999    [2016-01-31, 2012-07-04]\n",
       "Name: rev_date, Length: 40000, dtype: object"
      ]
     },
     "metadata": {},
     "output_type": "display_data"
    },
    {
     "name": "stdout",
     "output_type": "stream",
     "text": [
      "Обзор даных для: rev_date\n",
      "[]                          6471\n",
      "[2018-01-07, 2018-01-06]      46\n",
      "[2018-01-08, 2018-01-07]      40\n",
      "[2018-01-07, 2018-01-07]      36\n",
      "[2018-01-07, 2018-01-05]      36\n",
      "                            ... \n",
      "[2017-10-01, 2017-09-05]       1\n",
      "[2017-08-04, 2017-01-28]       1\n",
      "[2016-12-25, 2015-03-30]       1\n",
      "[2017-11-20, 2017-03-25]       1\n",
      "[2017-03-22, 2017-03-19]       1\n",
      "Name: rev_date, Length: 24606, dtype: int64\n",
      "count     40000\n",
      "unique    24606\n",
      "top          []\n",
      "freq       6471\n",
      "Name: rev_date, dtype: object\n",
      "пропущено значений: 0\n"
     ]
    },
    {
     "data": {
      "text/plain": [
       "None"
      ]
     },
     "metadata": {},
     "output_type": "display_data"
    },
    {
     "name": "stdout",
     "output_type": "stream",
     "text": [
      "Обзор даных для: date_num\n",
      "2    28971\n",
      "0     6471\n",
      "1     4556\n",
      "3        2\n",
      "Name: date_num, dtype: int64\n",
      "count    40000.000000\n",
      "mean         1.562600\n",
      "std          0.754815\n",
      "min          0.000000\n",
      "25%          1.000000\n",
      "50%          2.000000\n",
      "75%          2.000000\n",
      "max          3.000000\n",
      "Name: date_num, dtype: float64\n",
      "пропущено значений: 0\n"
     ]
    },
    {
     "data": {
      "text/plain": [
       "None"
      ]
     },
     "metadata": {},
     "output_type": "display_data"
    }
   ],
   "source": [
    "# заполним пропуски\n",
    "df['Reviews'] = df['Reviews'].fillna('[[], []]')\n",
    "# найдем и преобразуем даты в Reviews\n",
    "pattern=re.compile('\\d+[/]\\d+[/]\\d+')\n",
    "df['rev_date']=df['Reviews'].apply(lambda x: pattern.findall(x))\n",
    "display(df.rev_date)\n",
    "\n",
    "df['rev_date']=df['rev_date'].apply(lambda x: [pd.to_datetime(i).date() for i in x])\n",
    "display(df.rev_date)\n",
    "display(Check_data(df.rev_date))\n",
    "\n",
    "\n",
    "# создадим столбец число реальных отзывов\n",
    "df['date_num'] = df.rev_date.apply(lambda x: len(x))\n",
    "display(Check_data(df.date_num))\n"
   ]
  },
  {
   "cell_type": "code",
   "execution_count": 218,
   "metadata": {
    "scrolled": true
   },
   "outputs": [
    {
     "name": "stderr",
     "output_type": "stream",
     "text": [
      "<ipython-input-218-866cd4013f55>:7: DeprecationWarning: The default dtype for empty Series will be 'object' instead of 'float64' in a future version. Specify a dtype explicitly to silence this warning.\n",
      "  dates = pd.Series(dates)\n",
      "<ipython-input-218-866cd4013f55>:11: DeprecationWarning: The default dtype for empty Series will be 'object' instead of 'float64' in a future version. Specify a dtype explicitly to silence this warning.\n",
      "  dates = pd.Series(dates)\n"
     ]
    }
   ],
   "source": [
    "# Считываем текущее число\n",
    "today = datetime.today().date()\n",
    "\n",
    "\n",
    "def to_date_max(dates):\n",
    "    # переводим каждую строку из dates в формат datetime и сохраняем в виде Series\n",
    "    dates = pd.Series(dates)\n",
    "    return dates.max()  # возвращаем max из Series\n",
    "\n",
    "def to_date_min(dates):\n",
    "    dates = pd.Series(dates)\n",
    "    return dates.min()\n",
    "\n",
    "# применяем to_date_max к df['rev_date'] и сохраняем в df['max']\n",
    "df['date_max'] = df.rev_date.apply(to_date_max)\n",
    "\n",
    "df['date_min'] = df.rev_date.apply(to_date_min)\n",
    "\n",
    "# создадим поле в днях между отзывами \n",
    "df['date_diff'] = (df.date_max-df.date_min).apply(lambda x: x.days)\n",
    "\n",
    "# удалим пропуски средним значением между отзывами\n",
    "df.date_diff = df.date_diff.fillna(df.date_diff.mean())"
   ]
  },
  {
   "cell_type": "code",
   "execution_count": 219,
   "metadata": {},
   "outputs": [
    {
     "data": {
      "text/plain": [
       "3207.0"
      ]
     },
     "execution_count": 219,
     "metadata": {},
     "output_type": "execute_result"
    }
   ],
   "source": [
    "df.date_diff.max()"
   ]
  },
  {
   "cell_type": "code",
   "execution_count": 220,
   "metadata": {},
   "outputs": [],
   "source": [
    "# создадим поле в днях самого свежего отзыва от текущей даты\n",
    "df['date_rev_today'] = (today-df.date_max).apply(lambda x: x.days)\n",
    "# удалим пропуски средним значением между\n",
    "df.date_rev_today = df.date_rev_today.fillna(df.date_rev_today.mean())"
   ]
  },
  {
   "cell_type": "code",
   "execution_count": 221,
   "metadata": {},
   "outputs": [
    {
     "data": {
      "text/plain": [
       "'\\ndisplay(type(df.date_max[0]))\\ndisplay(df.date_max[0])\\n\\ndisplay(Check_data(df.date_max))\\n\\ndf.date_max = pd.to_datetime(df.date_max)\\ndf.date_max.max()\\n'"
      ]
     },
     "execution_count": 221,
     "metadata": {},
     "output_type": "execute_result"
    }
   ],
   "source": [
    "# display(df.date_max.value_counts())\n",
    "'''\n",
    "display(type(df.date_max[0]))\n",
    "display(df.date_max[0])\n",
    "\n",
    "display(Check_data(df.date_max))\n",
    "\n",
    "df.date_max = pd.to_datetime(df.date_max)\n",
    "df.date_max.max()\n",
    "'''"
   ]
  },
  {
   "cell_type": "markdown",
   "metadata": {},
   "source": [
    "## Изучим параметр 'City'"
   ]
  },
  {
   "cell_type": "code",
   "execution_count": 222,
   "metadata": {},
   "outputs": [
    {
     "name": "stdout",
     "output_type": "stream",
     "text": [
      "Обзор даных для: City\n",
      "London        5757\n",
      "Paris         4897\n",
      "Madrid        3108\n",
      "Barcelona     2734\n",
      "Berlin        2155\n",
      "Milan         2133\n",
      "Rome          2078\n",
      "Prague        1443\n",
      "Lisbon        1300\n",
      "Vienna        1166\n",
      "Amsterdam     1086\n",
      "Brussels      1060\n",
      "Hamburg        949\n",
      "Munich         893\n",
      "Lyon           892\n",
      "Stockholm      820\n",
      "Budapest       816\n",
      "Warsaw         727\n",
      "Dublin         673\n",
      "Copenhagen     659\n",
      "Athens         628\n",
      "Edinburgh      596\n",
      "Zurich         538\n",
      "Oporto         513\n",
      "Geneva         481\n",
      "Krakow         443\n",
      "Oslo           385\n",
      "Helsinki       376\n",
      "Bratislava     301\n",
      "Luxembourg     210\n",
      "Ljubljana      183\n",
      "Name: City, dtype: int64\n",
      "count      40000\n",
      "unique        31\n",
      "top       London\n",
      "freq        5757\n",
      "Name: City, dtype: object\n",
      "пропущено значений: 0\n"
     ]
    },
    {
     "data": {
      "text/plain": [
       "None"
      ]
     },
     "metadata": {},
     "output_type": "display_data"
    }
   ],
   "source": [
    "display(Check_data(df.City))"
   ]
  },
  {
   "cell_type": "code",
   "execution_count": 223,
   "metadata": {},
   "outputs": [
    {
     "data": {
      "text/plain": [
       "<AxesSubplot:>"
      ]
     },
     "execution_count": 223,
     "metadata": {},
     "output_type": "execute_result"
    },
    {
     "data": {
      "image/png": "[encoded data removed]",
      "text/plain": [
       "<Figure size 432x288 with 1 Axes>"
      ]
     },
     "metadata": {
      "needs_background": "light"
     },
     "output_type": "display_data"
    }
   ],
   "source": [
    "df['City'].value_counts(ascending=True).plot(kind='barh')"
   ]
  },
  {
   "cell_type": "code",
   "execution_count": 224,
   "metadata": {},
   "outputs": [
    {
     "data": {
      "image/png": "[encoded data removed]",
      "text/plain": [
       "<Figure size 432x288 with 1 Axes>"
      ]
     },
     "metadata": {
      "needs_background": "light"
     },
     "output_type": "display_data"
    }
   ],
   "source": [
    "# посмотрим на топ 10 городов\n",
    "for x in (df['City'].value_counts())[0:10].index:\n",
    "    df['Ranking'][df['City'] == x].hist(bins=100)\n",
    "plt.show()"
   ]
  },
  {
   "cell_type": "code",
   "execution_count": 225,
   "metadata": {},
   "outputs": [],
   "source": [
    "# создадим признак - число ресторанов в городе\n",
    "city = df.City.unique()\n",
    "city_rest = {}\n",
    "for i in city:\n",
    "    city_rest[i] = df[df.City == i]['City'].count()\n",
    "\n",
    "df['city_rest_num'] = df['City'].apply(lambda x: city_rest[x])\n"
   ]
  },
  {
   "cell_type": "markdown",
   "metadata": {},
   "source": [
    "## Изучим Ranking"
   ]
  },
  {
   "cell_type": "code",
   "execution_count": 226,
   "metadata": {},
   "outputs": [
    {
     "data": {
      "text/plain": [
       "<AxesSubplot:>"
      ]
     },
     "execution_count": 226,
     "metadata": {},
     "output_type": "execute_result"
    },
    {
     "data": {
      "image/png": "[encoded data removed]",
      "text/plain": [
       "<Figure size 720x504 with 1 Axes>"
      ]
     },
     "metadata": {
      "needs_background": "light"
     },
     "output_type": "display_data"
    }
   ],
   "source": [
    "plt.rcParams['figure.figsize'] = (10,7)\n",
    "df['Ranking'].hist(bins=100)"
   ]
  },
  {
   "cell_type": "code",
   "execution_count": 227,
   "metadata": {},
   "outputs": [
    {
     "name": "stdout",
     "output_type": "stream",
     "text": [
      "Обзор даных для: Ranking\n",
      "1080.0     19\n",
      "437.0      18\n",
      "491.0      18\n",
      "345.0      18\n",
      "431.0      18\n",
      "           ..\n",
      "14711.0     1\n",
      "9409.0      1\n",
      "14109.0     1\n",
      "10501.0     1\n",
      "5699.0      1\n",
      "Name: Ranking, Length: 11936, dtype: int64\n",
      "count    40000.000000\n",
      "mean      3676.028525\n",
      "std       3708.749567\n",
      "min          1.000000\n",
      "25%        973.000000\n",
      "50%       2285.000000\n",
      "75%       5260.000000\n",
      "max      16444.000000\n",
      "Name: Ranking, dtype: float64\n",
      "пропущено значений: 0\n"
     ]
    },
    {
     "data": {
      "text/plain": [
       "None"
      ]
     },
     "metadata": {},
     "output_type": "display_data"
    }
   ],
   "source": [
    "display(Check_data(df.Ranking))"
   ]
  },
  {
   "cell_type": "code",
   "execution_count": 228,
   "metadata": {},
   "outputs": [],
   "source": [
    "# Ranking зависит от размера города и в общем случае от числа ресторанов в нем\n",
    "# получим среднее значение от числа ресторанов в городе\n",
    "df['Ranking_rest_num'] = df.apply(\n",
    "    lambda x: x['Ranking']/x['city_rest_num'], axis=1)"
   ]
  },
  {
   "cell_type": "code",
   "execution_count": 229,
   "metadata": {},
   "outputs": [
    {
     "name": "stdout",
     "output_type": "stream",
     "text": [
      "Обзор даных для: Ranking_rest_num\n",
      "1.000000    14\n",
      "0.500000     6\n",
      "2.000000     6\n",
      "2.500000     5\n",
      "2.666667     5\n",
      "            ..\n",
      "2.289264     1\n",
      "1.728361     1\n",
      "2.353846     1\n",
      "2.204620     1\n",
      "0.180476     1\n",
      "Name: Ranking_rest_num, Length: 39557, dtype: int64\n",
      "count    40000.000000\n",
      "mean         1.445413\n",
      "std          0.834555\n",
      "min          0.000174\n",
      "25%          0.723119\n",
      "50%          1.439623\n",
      "75%          2.166667\n",
      "max          3.094065\n",
      "Name: Ranking_rest_num, dtype: float64\n",
      "пропущено значений: 0\n"
     ]
    },
    {
     "data": {
      "text/plain": [
       "None"
      ]
     },
     "metadata": {},
     "output_type": "display_data"
    },
    {
     "data": {
      "text/plain": [
       "<AxesSubplot:>"
      ]
     },
     "execution_count": 229,
     "metadata": {},
     "output_type": "execute_result"
    },
    {
     "data": {
      "image/png": "[encoded data removed]",
      "text/plain": [
       "<Figure size 720x504 with 1 Axes>"
      ]
     },
     "metadata": {
      "needs_background": "light"
     },
     "output_type": "display_data"
    }
   ],
   "source": [
    "display(Check_data(df.Ranking_rest_num))\n",
    "plt.rcParams['figure.figsize'] = (10,7)\n",
    "df['Ranking_rest_num'].hist(bins=100)"
   ]
  },
  {
   "cell_type": "markdown",
   "metadata": {},
   "source": [
    "# EDA Exploratory Data Analysis"
   ]
  },
  {
   "cell_type": "markdown",
   "metadata": {},
   "source": [
    "EDA Exploratory Data Analysis - Анализ данных На этом этапе мы строим графики, ищем закономерности, аномалии, выбросы или связи между признаками. В общем цель этого этапа понять, что эти данные могут нам дать и как признаки могут быть взаимосвязаны между собой. Понимание изначальных признаков позволит сгенерировать новые, более сильные и, тем самым, сделать нашу модель лучше."
   ]
  },
  {
   "cell_type": "code",
   "execution_count": 230,
   "metadata": {},
   "outputs": [
    {
     "data": {
      "text/html": [
       "<div>\n",
       "<style scoped>\n",
       "    .dataframe tbody tr th:only-of-type {\n",
       "        vertical-align: middle;\n",
       "    }\n",
       "\n",
       "    .dataframe tbody tr th {\n",
       "        vertical-align: top;\n",
       "    }\n",
       "\n",
       "    .dataframe thead th {\n",
       "        text-align: right;\n",
       "    }\n",
       "</style>\n",
       "<table border=\"1\" class=\"dataframe\">\n",
       "  <thead>\n",
       "    <tr style=\"text-align: right;\">\n",
       "      <th></th>\n",
       "      <th>Ranking</th>\n",
       "      <th>Rating</th>\n",
       "      <th>Number of Reviews</th>\n",
       "      <th>Num_Review_NAN</th>\n",
       "      <th>rest_netw_num</th>\n",
       "      <th>rest_netw</th>\n",
       "      <th>Price_Range_NAN</th>\n",
       "      <th>Price</th>\n",
       "      <th>Price_in_City</th>\n",
       "      <th>Cuis_NAN</th>\n",
       "      <th>Cuisines_Number</th>\n",
       "      <th>date_num</th>\n",
       "      <th>date_diff</th>\n",
       "      <th>date_rev_today</th>\n",
       "      <th>city_rest_num</th>\n",
       "      <th>Ranking_rest_num</th>\n",
       "    </tr>\n",
       "  </thead>\n",
       "  <tbody>\n",
       "    <tr>\n",
       "      <th>Ranking</th>\n",
       "      <td>1.000000</td>\n",
       "      <td>-0.368371</td>\n",
       "      <td>-0.210819</td>\n",
       "      <td>0.094078</td>\n",
       "      <td>-0.762958</td>\n",
       "      <td>-0.675937</td>\n",
       "      <td>0.233043</td>\n",
       "      <td>-0.088603</td>\n",
       "      <td>0.152622</td>\n",
       "      <td>0.147995</td>\n",
       "      <td>-0.320250</td>\n",
       "      <td>-0.139749</td>\n",
       "      <td>0.092227</td>\n",
       "      <td>0.179795</td>\n",
       "      <td>0.709115</td>\n",
       "      <td>0.553154</td>\n",
       "    </tr>\n",
       "    <tr>\n",
       "      <th>Rating</th>\n",
       "      <td>-0.368371</td>\n",
       "      <td>1.000000</td>\n",
       "      <td>0.029263</td>\n",
       "      <td>0.008386</td>\n",
       "      <td>0.285959</td>\n",
       "      <td>0.223689</td>\n",
       "      <td>-0.064567</td>\n",
       "      <td>0.085755</td>\n",
       "      <td>0.044329</td>\n",
       "      <td>-0.038263</td>\n",
       "      <td>0.120059</td>\n",
       "      <td>0.020524</td>\n",
       "      <td>-0.073525</td>\n",
       "      <td>-0.083557</td>\n",
       "      <td>-0.061376</td>\n",
       "      <td>-0.542702</td>\n",
       "    </tr>\n",
       "    <tr>\n",
       "      <th>Number of Reviews</th>\n",
       "      <td>-0.210819</td>\n",
       "      <td>0.029263</td>\n",
       "      <td>1.000000</td>\n",
       "      <td>-0.009163</td>\n",
       "      <td>0.243495</td>\n",
       "      <td>0.096649</td>\n",
       "      <td>-0.242483</td>\n",
       "      <td>0.136468</td>\n",
       "      <td>0.127499</td>\n",
       "      <td>-0.184967</td>\n",
       "      <td>0.390491</td>\n",
       "      <td>0.175413</td>\n",
       "      <td>-0.133822</td>\n",
       "      <td>-0.186434</td>\n",
       "      <td>0.028369</td>\n",
       "      <td>-0.387356</td>\n",
       "    </tr>\n",
       "    <tr>\n",
       "      <th>Num_Review_NAN</th>\n",
       "      <td>0.094078</td>\n",
       "      <td>0.008386</td>\n",
       "      <td>-0.009163</td>\n",
       "      <td>1.000000</td>\n",
       "      <td>-0.095068</td>\n",
       "      <td>-0.054665</td>\n",
       "      <td>0.266923</td>\n",
       "      <td>-0.059464</td>\n",
       "      <td>-0.039309</td>\n",
       "      <td>0.186118</td>\n",
       "      <td>-0.175335</td>\n",
       "      <td>-0.410995</td>\n",
       "      <td>-0.061371</td>\n",
       "      <td>0.107658</td>\n",
       "      <td>-0.023637</td>\n",
       "      <td>0.207244</td>\n",
       "    </tr>\n",
       "    <tr>\n",
       "      <th>rest_netw_num</th>\n",
       "      <td>-0.762958</td>\n",
       "      <td>0.285959</td>\n",
       "      <td>0.243495</td>\n",
       "      <td>-0.095068</td>\n",
       "      <td>1.000000</td>\n",
       "      <td>0.480278</td>\n",
       "      <td>-0.242159</td>\n",
       "      <td>0.104574</td>\n",
       "      <td>-0.104293</td>\n",
       "      <td>-0.164252</td>\n",
       "      <td>0.349713</td>\n",
       "      <td>0.225233</td>\n",
       "      <td>-0.097878</td>\n",
       "      <td>-0.192528</td>\n",
       "      <td>-0.591366</td>\n",
       "      <td>-0.527633</td>\n",
       "    </tr>\n",
       "    <tr>\n",
       "      <th>rest_netw</th>\n",
       "      <td>-0.675937</td>\n",
       "      <td>0.223689</td>\n",
       "      <td>0.096649</td>\n",
       "      <td>-0.054665</td>\n",
       "      <td>0.480278</td>\n",
       "      <td>1.000000</td>\n",
       "      <td>-0.120078</td>\n",
       "      <td>0.039690</td>\n",
       "      <td>-0.110659</td>\n",
       "      <td>-0.070235</td>\n",
       "      <td>0.162240</td>\n",
       "      <td>0.025808</td>\n",
       "      <td>-0.051183</td>\n",
       "      <td>-0.090786</td>\n",
       "      <td>-0.468096</td>\n",
       "      <td>-0.306396</td>\n",
       "    </tr>\n",
       "    <tr>\n",
       "      <th>Price_Range_NAN</th>\n",
       "      <td>0.233043</td>\n",
       "      <td>-0.064567</td>\n",
       "      <td>-0.242483</td>\n",
       "      <td>0.266923</td>\n",
       "      <td>-0.242159</td>\n",
       "      <td>-0.120078</td>\n",
       "      <td>1.000000</td>\n",
       "      <td>-0.273518</td>\n",
       "      <td>-0.122442</td>\n",
       "      <td>0.753881</td>\n",
       "      <td>-0.566692</td>\n",
       "      <td>-0.506996</td>\n",
       "      <td>0.090532</td>\n",
       "      <td>0.289489</td>\n",
       "      <td>-0.043922</td>\n",
       "      <td>0.463445</td>\n",
       "    </tr>\n",
       "    <tr>\n",
       "      <th>Price</th>\n",
       "      <td>-0.088603</td>\n",
       "      <td>0.085755</td>\n",
       "      <td>0.136468</td>\n",
       "      <td>-0.059464</td>\n",
       "      <td>0.104574</td>\n",
       "      <td>0.039690</td>\n",
       "      <td>-0.273518</td>\n",
       "      <td>1.000000</td>\n",
       "      <td>0.066057</td>\n",
       "      <td>-0.206200</td>\n",
       "      <td>0.148871</td>\n",
       "      <td>0.125328</td>\n",
       "      <td>-0.034516</td>\n",
       "      <td>-0.069809</td>\n",
       "      <td>0.014376</td>\n",
       "      <td>-0.174572</td>\n",
       "    </tr>\n",
       "    <tr>\n",
       "      <th>Price_in_City</th>\n",
       "      <td>0.152622</td>\n",
       "      <td>0.044329</td>\n",
       "      <td>0.127499</td>\n",
       "      <td>-0.039309</td>\n",
       "      <td>-0.104293</td>\n",
       "      <td>-0.110659</td>\n",
       "      <td>-0.122442</td>\n",
       "      <td>0.066057</td>\n",
       "      <td>1.000000</td>\n",
       "      <td>-0.111756</td>\n",
       "      <td>0.129950</td>\n",
       "      <td>0.089197</td>\n",
       "      <td>-0.036554</td>\n",
       "      <td>-0.053399</td>\n",
       "      <td>0.217637</td>\n",
       "      <td>-0.012636</td>\n",
       "    </tr>\n",
       "    <tr>\n",
       "      <th>Cuis_NAN</th>\n",
       "      <td>0.147995</td>\n",
       "      <td>-0.038263</td>\n",
       "      <td>-0.184967</td>\n",
       "      <td>0.186118</td>\n",
       "      <td>-0.164252</td>\n",
       "      <td>-0.070235</td>\n",
       "      <td>0.753881</td>\n",
       "      <td>-0.206200</td>\n",
       "      <td>-0.111756</td>\n",
       "      <td>1.000000</td>\n",
       "      <td>-0.490787</td>\n",
       "      <td>-0.345494</td>\n",
       "      <td>0.049462</td>\n",
       "      <td>0.153149</td>\n",
       "      <td>-0.046676</td>\n",
       "      <td>0.323129</td>\n",
       "    </tr>\n",
       "    <tr>\n",
       "      <th>Cuisines_Number</th>\n",
       "      <td>-0.320250</td>\n",
       "      <td>0.120059</td>\n",
       "      <td>0.390491</td>\n",
       "      <td>-0.175335</td>\n",
       "      <td>0.349713</td>\n",
       "      <td>0.162240</td>\n",
       "      <td>-0.566692</td>\n",
       "      <td>0.148871</td>\n",
       "      <td>0.129950</td>\n",
       "      <td>-0.490787</td>\n",
       "      <td>1.000000</td>\n",
       "      <td>0.372599</td>\n",
       "      <td>-0.187668</td>\n",
       "      <td>-0.324041</td>\n",
       "      <td>-0.023936</td>\n",
       "      <td>-0.540307</td>\n",
       "    </tr>\n",
       "    <tr>\n",
       "      <th>date_num</th>\n",
       "      <td>-0.139749</td>\n",
       "      <td>0.020524</td>\n",
       "      <td>0.175413</td>\n",
       "      <td>-0.410995</td>\n",
       "      <td>0.225233</td>\n",
       "      <td>0.025808</td>\n",
       "      <td>-0.506996</td>\n",
       "      <td>0.125328</td>\n",
       "      <td>0.089197</td>\n",
       "      <td>-0.345494</td>\n",
       "      <td>0.372599</td>\n",
       "      <td>1.000000</td>\n",
       "      <td>0.095534</td>\n",
       "      <td>-0.161243</td>\n",
       "      <td>0.074180</td>\n",
       "      <td>-0.371812</td>\n",
       "    </tr>\n",
       "    <tr>\n",
       "      <th>date_diff</th>\n",
       "      <td>0.092227</td>\n",
       "      <td>-0.073525</td>\n",
       "      <td>-0.133822</td>\n",
       "      <td>-0.061371</td>\n",
       "      <td>-0.097878</td>\n",
       "      <td>-0.051183</td>\n",
       "      <td>0.090532</td>\n",
       "      <td>-0.034516</td>\n",
       "      <td>-0.036554</td>\n",
       "      <td>0.049462</td>\n",
       "      <td>-0.187668</td>\n",
       "      <td>0.095534</td>\n",
       "      <td>1.000000</td>\n",
       "      <td>0.075070</td>\n",
       "      <td>-0.021325</td>\n",
       "      <td>0.177520</td>\n",
       "    </tr>\n",
       "    <tr>\n",
       "      <th>date_rev_today</th>\n",
       "      <td>0.179795</td>\n",
       "      <td>-0.083557</td>\n",
       "      <td>-0.186434</td>\n",
       "      <td>0.107658</td>\n",
       "      <td>-0.192528</td>\n",
       "      <td>-0.090786</td>\n",
       "      <td>0.289489</td>\n",
       "      <td>-0.069809</td>\n",
       "      <td>-0.053399</td>\n",
       "      <td>0.153149</td>\n",
       "      <td>-0.324041</td>\n",
       "      <td>-0.161243</td>\n",
       "      <td>0.075070</td>\n",
       "      <td>1.000000</td>\n",
       "      <td>-0.025569</td>\n",
       "      <td>0.348846</td>\n",
       "    </tr>\n",
       "    <tr>\n",
       "      <th>city_rest_num</th>\n",
       "      <td>0.709115</td>\n",
       "      <td>-0.061376</td>\n",
       "      <td>0.028369</td>\n",
       "      <td>-0.023637</td>\n",
       "      <td>-0.591366</td>\n",
       "      <td>-0.468096</td>\n",
       "      <td>-0.043922</td>\n",
       "      <td>0.014376</td>\n",
       "      <td>0.217637</td>\n",
       "      <td>-0.046676</td>\n",
       "      <td>-0.023936</td>\n",
       "      <td>0.074180</td>\n",
       "      <td>-0.021325</td>\n",
       "      <td>-0.025569</td>\n",
       "      <td>1.000000</td>\n",
       "      <td>-0.021170</td>\n",
       "    </tr>\n",
       "    <tr>\n",
       "      <th>Ranking_rest_num</th>\n",
       "      <td>0.553154</td>\n",
       "      <td>-0.542702</td>\n",
       "      <td>-0.387356</td>\n",
       "      <td>0.207244</td>\n",
       "      <td>-0.527633</td>\n",
       "      <td>-0.306396</td>\n",
       "      <td>0.463445</td>\n",
       "      <td>-0.174572</td>\n",
       "      <td>-0.012636</td>\n",
       "      <td>0.323129</td>\n",
       "      <td>-0.540307</td>\n",
       "      <td>-0.371812</td>\n",
       "      <td>0.177520</td>\n",
       "      <td>0.348846</td>\n",
       "      <td>-0.021170</td>\n",
       "      <td>1.000000</td>\n",
       "    </tr>\n",
       "  </tbody>\n",
       "</table>\n",
       "</div>"
      ],
      "text/plain": [
       "                    Ranking    Rating  Number of Reviews  Num_Review_NAN  \\\n",
       "Ranking            1.000000 -0.368371          -0.210819        0.094078   \n",
       "Rating            -0.368371  1.000000           0.029263        0.008386   \n",
       "Number of Reviews -0.210819  0.029263           1.000000       -0.009163   \n",
       "Num_Review_NAN     0.094078  0.008386          -0.009163        1.000000   \n",
       "rest_netw_num     -0.762958  0.285959           0.243495       -0.095068   \n",
       "rest_netw         -0.675937  0.223689           0.096649       -0.054665   \n",
       "Price_Range_NAN    0.233043 -0.064567          -0.242483        0.266923   \n",
       "Price             -0.088603  0.085755           0.136468       -0.059464   \n",
       "Price_in_City      0.152622  0.044329           0.127499       -0.039309   \n",
       "Cuis_NAN           0.147995 -0.038263          -0.184967        0.186118   \n",
       "Cuisines_Number   -0.320250  0.120059           0.390491       -0.175335   \n",
       "date_num          -0.139749  0.020524           0.175413       -0.410995   \n",
       "date_diff          0.092227 -0.073525          -0.133822       -0.061371   \n",
       "date_rev_today     0.179795 -0.083557          -0.186434        0.107658   \n",
       "city_rest_num      0.709115 -0.061376           0.028369       -0.023637   \n",
       "Ranking_rest_num   0.553154 -0.542702          -0.387356        0.207244   \n",
       "\n",
       "                   rest_netw_num  rest_netw  Price_Range_NAN     Price  \\\n",
       "Ranking                -0.762958  -0.675937         0.233043 -0.088603   \n",
       "Rating                  0.285959   0.223689        -0.064567  0.085755   \n",
       "Number of Reviews       0.243495   0.096649        -0.242483  0.136468   \n",
       "Num_Review_NAN         -0.095068  -0.054665         0.266923 -0.059464   \n",
       "rest_netw_num           1.000000   0.480278        -0.242159  0.104574   \n",
       "rest_netw               0.480278   1.000000        -0.120078  0.039690   \n",
       "Price_Range_NAN        -0.242159  -0.120078         1.000000 -0.273518   \n",
       "Price                   0.104574   0.039690        -0.273518  1.000000   \n",
       "Price_in_City          -0.104293  -0.110659        -0.122442  0.066057   \n",
       "Cuis_NAN               -0.164252  -0.070235         0.753881 -0.206200   \n",
       "Cuisines_Number         0.349713   0.162240        -0.566692  0.148871   \n",
       "date_num                0.225233   0.025808        -0.506996  0.125328   \n",
       "date_diff              -0.097878  -0.051183         0.090532 -0.034516   \n",
       "date_rev_today         -0.192528  -0.090786         0.289489 -0.069809   \n",
       "city_rest_num          -0.591366  -0.468096        -0.043922  0.014376   \n",
       "Ranking_rest_num       -0.527633  -0.306396         0.463445 -0.174572   \n",
       "\n",
       "                   Price_in_City  Cuis_NAN  Cuisines_Number  date_num  \\\n",
       "Ranking                 0.152622  0.147995        -0.320250 -0.139749   \n",
       "Rating                  0.044329 -0.038263         0.120059  0.020524   \n",
       "Number of Reviews       0.127499 -0.184967         0.390491  0.175413   \n",
       "Num_Review_NAN         -0.039309  0.186118        -0.175335 -0.410995   \n",
       "rest_netw_num          -0.104293 -0.164252         0.349713  0.225233   \n",
       "rest_netw              -0.110659 -0.070235         0.162240  0.025808   \n",
       "Price_Range_NAN        -0.122442  0.753881        -0.566692 -0.506996   \n",
       "Price                   0.066057 -0.206200         0.148871  0.125328   \n",
       "Price_in_City           1.000000 -0.111756         0.129950  0.089197   \n",
       "Cuis_NAN               -0.111756  1.000000        -0.490787 -0.345494   \n",
       "Cuisines_Number         0.129950 -0.490787         1.000000  0.372599   \n",
       "date_num                0.089197 -0.345494         0.372599  1.000000   \n",
       "date_diff              -0.036554  0.049462        -0.187668  0.095534   \n",
       "date_rev_today         -0.053399  0.153149        -0.324041 -0.161243   \n",
       "city_rest_num           0.217637 -0.046676        -0.023936  0.074180   \n",
       "Ranking_rest_num       -0.012636  0.323129        -0.540307 -0.371812   \n",
       "\n",
       "                   date_diff  date_rev_today  city_rest_num  Ranking_rest_num  \n",
       "Ranking             0.092227        0.179795       0.709115          0.553154  \n",
       "Rating             -0.073525       -0.083557      -0.061376         -0.542702  \n",
       "Number of Reviews  -0.133822       -0.186434       0.028369         -0.387356  \n",
       "Num_Review_NAN     -0.061371        0.107658      -0.023637          0.207244  \n",
       "rest_netw_num      -0.097878       -0.192528      -0.591366         -0.527633  \n",
       "rest_netw          -0.051183       -0.090786      -0.468096         -0.306396  \n",
       "Price_Range_NAN     0.090532        0.289489      -0.043922          0.463445  \n",
       "Price              -0.034516       -0.069809       0.014376         -0.174572  \n",
       "Price_in_City      -0.036554       -0.053399       0.217637         -0.012636  \n",
       "Cuis_NAN            0.049462        0.153149      -0.046676          0.323129  \n",
       "Cuisines_Number    -0.187668       -0.324041      -0.023936         -0.540307  \n",
       "date_num            0.095534       -0.161243       0.074180         -0.371812  \n",
       "date_diff           1.000000        0.075070      -0.021325          0.177520  \n",
       "date_rev_today      0.075070        1.000000      -0.025569          0.348846  \n",
       "city_rest_num      -0.021325       -0.025569       1.000000         -0.021170  \n",
       "Ranking_rest_num    0.177520        0.348846      -0.021170          1.000000  "
      ]
     },
     "execution_count": 230,
     "metadata": {},
     "output_type": "execute_result"
    },
    {
     "data": {
      "image/png": "[encoded data removed]",
      "text/plain": [
       "<Figure size 1080x720 with 2 Axes>"
      ]
     },
     "metadata": {
      "needs_background": "light"
     },
     "output_type": "display_data"
    }
   ],
   "source": [
    "# MAE: 0.20876999999999998\n",
    "\n",
    "plt.rcParams['figure.figsize'] = (15,10)\n",
    "sns.heatmap(df.corr(),cmap=\"BrBG\")\n",
    "df.corr()"
   ]
  },
  {
   "cell_type": "raw",
   "metadata": {},
   "source": [
    "По графику видно, что слишком скоррелированных с целевой переменной признаков у нас нет"
   ]
  },
  {
   "cell_type": "code",
   "execution_count": 231,
   "metadata": {},
   "outputs": [],
   "source": [
    "df['Restaurant_id'] = df['Restaurant_id'].apply(\n",
    "    lambda x: x.split('_')[1]).astype(int)"
   ]
  },
  {
   "cell_type": "code",
   "execution_count": 232,
   "metadata": {},
   "outputs": [
    {
     "data": {
      "image/png": "[encoded data removed]",
      "text/plain": [
       "<Figure size 1440x720 with 6 Axes>"
      ]
     },
     "metadata": {
      "needs_background": "light"
     },
     "output_type": "display_data"
    }
   ],
   "source": [
    "df[['Ranking', 'Rating', 'Number of Reviews','Price', 'Restaurant_id']].hist(figsize=(20, 10), bins=100);\n",
    "plt.tight_layout()"
   ]
  },
  {
   "cell_type": "code",
   "execution_count": 233,
   "metadata": {},
   "outputs": [
    {
     "data": {
      "image/png": "[encoded data removed]",
      "text/plain": [
       "<Figure size 1080x720 with 1 Axes>"
      ]
     },
     "metadata": {
      "needs_background": "light"
     },
     "output_type": "display_data"
    }
   ],
   "source": [
    "fig, ax = plt.subplots(figsize = (15, 10))\n",
    "ax = sns.boxplot(x=df[\"Rating\"])\n",
    "plt.show()"
   ]
  },
  {
   "cell_type": "raw",
   "metadata": {},
   "source": [
    "Видим, что значения с рейтинго меньше 2 - уходят в выбросы. "
   ]
  },
  {
   "cell_type": "markdown",
   "metadata": {},
   "source": [
    "# FE создаем дамми переменные"
   ]
  },
  {
   "cell_type": "markdown",
   "metadata": {},
   "source": [
    "## создаем дамми переменные"
   ]
  },
  {
   "cell_type": "code",
   "execution_count": 234,
   "metadata": {},
   "outputs": [],
   "source": [
    "# сделать 31 dummy параметр по City\n",
    "df = pd.get_dummies(df, columns=['City', ], dummy_na=True)\n",
    "# MAE: 0.22007100000000002"
   ]
  },
  {
   "cell_type": "code",
   "execution_count": 235,
   "metadata": {},
   "outputs": [],
   "source": [
    "# создадим подобие dummy признаков для кухонь\n",
    "cuisines = set()\n",
    "\n",
    "for row in df['Cuisine Style']:\n",
    "    for cuisine in row:\n",
    "        cuisines.add(cuisine)\n",
    "\n",
    "# Затем создаем колонки для каждой кухни\n",
    "\n",
    "def find_item(cell):\n",
    "    if item in cell:\n",
    "        return 1\n",
    "    return 0\n",
    "\n",
    "for item in cuisines:\n",
    "    df[item] = df['Cuisine Style'].apply(find_item)"
   ]
  },
  {
   "cell_type": "code",
   "execution_count": 236,
   "metadata": {},
   "outputs": [],
   "source": [
    "# создадим также дамми данные по 'Price Range'\n",
    "df = pd.get_dummies(df, columns=['Price Range'])\n",
    "\n",
    "df = df.rename(columns={'Price Range_$': 'Price_Range_1', 'Price Range_$$ - $$$': 'Price_Range_2',\n",
    "                            'Price Range_$$$$': 'Price_Range_3'})"
   ]
  },
  {
   "cell_type": "markdown",
   "metadata": {},
   "source": [
    "## Полиномиальные признаки"
   ]
  },
  {
   "cell_type": "code",
   "execution_count": 237,
   "metadata": {},
   "outputs": [
    {
     "data": {
      "text/plain": [
       "(40000, 7)"
      ]
     },
     "execution_count": 237,
     "metadata": {},
     "output_type": "execute_result"
    }
   ],
   "source": [
    "pf = PolynomialFeatures(2, interaction_only=True)\n",
    "poly_features = pf.fit_transform(df[['Ranking', 'rest_netw_num','rest_netw']])\n",
    "poly_features.shape"
   ]
  },
  {
   "cell_type": "code",
   "execution_count": 238,
   "metadata": {},
   "outputs": [
    {
     "data": {
      "text/plain": [
       "array([[ 0.        ,  0.51068294, -0.83177923, ...,  0.77386895,\n",
       "         1.18985439, -0.77268511],\n",
       "       [ 0.        , -0.57675915,  0.86101622, ...,  0.55504288,\n",
       "        -0.3413244 ,  0.85552617],\n",
       "       [ 0.        , -0.89600821,  0.37736038, ..., -1.49375706,\n",
       "        -0.79084478,  0.39032295],\n",
       "       ...,\n",
       "       [ 0.        , -0.54575101,  0.86101622, ...,  0.74284137,\n",
       "        -0.29766322,  0.85552617],\n",
       "       [ 0.        , -0.81835303,  0.37736038, ..., -1.11750686,\n",
       "        -0.68150199,  0.39032295],\n",
       "       [ 0.        ,  0.31034338, -0.58995131, ...,  1.19813025,\n",
       "         0.90776517, -0.5400835 ]])"
      ]
     },
     "metadata": {},
     "output_type": "display_data"
    }
   ],
   "source": [
    "poly_features\n",
    "scaler = StandardScaler()\n",
    "poly_features=scaler.fit_transform(poly_features)\n",
    "display(poly_features)\n",
    "df[['pf1', 'pf2','pf3','pf4','pf5','pf6','pf7']] = pd.DataFrame(poly_features)"
   ]
  },
  {
   "cell_type": "code",
   "execution_count": 239,
   "metadata": {},
   "outputs": [
    {
     "name": "stdout",
     "output_type": "stream",
     "text": [
      "Обзор даных для: pf1\n",
      "0.0    40000\n",
      "Name: pf1, dtype: int64\n",
      "count    40000.0\n",
      "mean         0.0\n",
      "std          0.0\n",
      "min          0.0\n",
      "25%          0.0\n",
      "50%          0.0\n",
      "75%          0.0\n",
      "max          0.0\n",
      "Name: pf1, dtype: float64\n",
      "пропущено значений: 0\n"
     ]
    },
    {
     "data": {
      "text/plain": [
       "None"
      ]
     },
     "metadata": {},
     "output_type": "display_data"
    }
   ],
   "source": [
    "display(Check_data(df.pf1))\n",
    "# удалим 'ненужный' признак\n",
    "df.drop('pf1', axis=1, inplace=True)"
   ]
  },
  {
   "cell_type": "markdown",
   "metadata": {},
   "source": [
    "# Применим и сформируем итоговый DF для модели"
   ]
  },
  {
   "cell_type": "code",
   "execution_count": 240,
   "metadata": {},
   "outputs": [
    {
     "name": "stdout",
     "output_type": "stream",
     "text": [
      "<class 'pandas.core.frame.DataFrame'>\n",
      "RangeIndex: 40000 entries, 0 to 39999\n",
      "Columns: 188 entries, Restaurant_id to pf7\n",
      "dtypes: float64(14), int32(1), int64(130), object(5), uint8(38)\n",
      "memory usage: 47.1+ MB\n"
     ]
    }
   ],
   "source": [
    "df.info()"
   ]
  },
  {
   "cell_type": "code",
   "execution_count": 241,
   "metadata": {},
   "outputs": [],
   "source": [
    "# удаляем колонки - object\n",
    "object_columns = [s for s in df.columns if df[s].dtypes == 'object']\n",
    "df.drop(object_columns, axis=1, inplace=True)"
   ]
  },
  {
   "cell_type": "code",
   "execution_count": 242,
   "metadata": {},
   "outputs": [
    {
     "name": "stdout",
     "output_type": "stream",
     "text": [
      "<class 'pandas.core.frame.DataFrame'>\n",
      "RangeIndex: 40000 entries, 0 to 39999\n",
      "Columns: 183 entries, Restaurant_id to pf7\n",
      "dtypes: float64(14), int32(1), int64(130), uint8(38)\n",
      "memory usage: 45.5 MB\n"
     ]
    }
   ],
   "source": [
    "df.info()"
   ]
  },
  {
   "cell_type": "markdown",
   "metadata": {},
   "source": [
    "# Разбиваем датафрейм на части, необходимые для обучения и тестирования модели"
   ]
  },
  {
   "cell_type": "code",
   "execution_count": 243,
   "metadata": {},
   "outputs": [],
   "source": [
    "# Х - данные с информацией о ресторанах, у - целевая переменная (рейтинги ресторанов)\n",
    "X = df.drop(['Rating'], axis = 1)\n",
    "y = df['Rating']"
   ]
  },
  {
   "cell_type": "code",
   "execution_count": 244,
   "metadata": {},
   "outputs": [],
   "source": [
    "# Наборы данных с меткой \"train\" будут использоваться для обучения модели, \"test\" - для тестирования.\n",
    "# Для тестирования мы будем использовать 25% от исходного датасета.\n",
    "X_train, X_test, y_train, y_test = train_test_split(X, y, test_size=0.25)"
   ]
  },
  {
   "cell_type": "markdown",
   "metadata": {},
   "source": [
    "# Создаём, обучаем и тестируем модель"
   ]
  },
  {
   "cell_type": "code",
   "execution_count": 245,
   "metadata": {},
   "outputs": [
    {
     "name": "stderr",
     "output_type": "stream",
     "text": [
      "[Parallel(n_jobs=-1)]: Using backend ThreadingBackend with 8 concurrent workers.\n",
      "[Parallel(n_jobs=-1)]: Done  34 tasks      | elapsed:    5.7s\n",
      "[Parallel(n_jobs=-1)]: Done 100 out of 100 | elapsed:   14.5s finished\n",
      "[Parallel(n_jobs=8)]: Using backend ThreadingBackend with 8 concurrent workers.\n",
      "[Parallel(n_jobs=8)]: Done  34 tasks      | elapsed:    0.0s\n",
      "[Parallel(n_jobs=8)]: Done 100 out of 100 | elapsed:    0.0s finished\n"
     ]
    }
   ],
   "source": [
    "# Создаём модель\n",
    "regr = RandomForestRegressor(n_estimators=100, verbose=1, n_jobs=-1, random_state=RANDOM_SEED)\n",
    "\n",
    "# Обучаем модель на тестовом наборе данных\n",
    "regr.fit(X_train, y_train)\n",
    "\n",
    "# Используем обученную модель для предсказания рейтинга ресторанов в тестовой выборке.\n",
    "# Предсказанные значения записываем в переменную y_pred\n",
    "y_pred = regr.predict(X_test)"
   ]
  },
  {
   "cell_type": "code",
   "execution_count": 246,
   "metadata": {},
   "outputs": [
    {
     "name": "stdout",
     "output_type": "stream",
     "text": [
      "MAE: 0.2056685\n"
     ]
    }
   ],
   "source": [
    "# Сравниваем предсказанные значения (y_pred) с реальными (y_test), и смотрим насколько они в среднем отличаются\n",
    "# Метрика называется Mean Absolute Error (MAE) и показывает среднее отклонение предсказанных значений от фактических.\n",
    "print('MAE:', metrics.mean_absolute_error(y_test, y_pred))"
   ]
  },
  {
   "cell_type": "code",
   "execution_count": 247,
   "metadata": {},
   "outputs": [
    {
     "name": "stdout",
     "output_type": "stream",
     "text": [
      "0.8022247035226369\n"
     ]
    }
   ],
   "source": [
    "#Вычисляем коэффициент детерминации:\n",
    "R_2 = metrics.r2_score(y_test, y_pred)\n",
    "print(R_2)"
   ]
  },
  {
   "cell_type": "code",
   "execution_count": 248,
   "metadata": {},
   "outputs": [
    {
     "data": {
      "text/plain": [
       "<AxesSubplot:>"
      ]
     },
     "execution_count": 248,
     "metadata": {},
     "output_type": "execute_result"
    },
    {
     "data": {
      "image/png": "[encoded data removed]",
      "text/plain": [
       "<Figure size 720x720 with 1 Axes>"
      ]
     },
     "metadata": {
      "needs_background": "light"
     },
     "output_type": "display_data"
    }
   ],
   "source": [
    "# в RandomForestRegressor есть возможность вывести самые важные признаки для модели\n",
    "plt.rcParams['figure.figsize'] = (10,10)\n",
    "feat_importances = pd.Series(regr.feature_importances_, index=X.columns)\n",
    "feat_importances.nlargest(15).plot(kind='barh')"
   ]
  }
 ],
 "metadata": {
  "kernelspec": {
   "display_name": "Python 3",
   "language": "python",
   "name": "python3"
  },
  "language_info": {
   "codemirror_mode": {
    "name": "ipython",
    "version": 3
   },
   "file_extension": ".py",
   "mimetype": "text/x-python",
   "name": "python",
   "nbconvert_exporter": "python",
   "pygments_lexer": "ipython3",
   "version": "3.8.5"
  },
  "toc": {
   "base_numbering": 1,
   "nav_menu": {},
   "number_sections": true,
   "sideBar": true,
   "skip_h1_title": false,
   "title_cell": "Table of Contents",
   "title_sidebar": "Contents",
   "toc_cell": false,
   "toc_position": {
    "height": "calc(100% - 180px)",
    "left": "10px",
    "top": "150px",
    "width": "349.091px"
   },
   "toc_section_display": true,
   "toc_window_display": true
  },
  "varInspector": {
   "cols": {
    "lenName": 16,
    "lenType": 16,
    "lenVar": 40
   },
   "kernels_config": {
    "python": {
     "delete_cmd_postfix": "",
     "delete_cmd_prefix": "del ",
     "library": "var_list.py",
     "varRefreshCmd": "print(var_dic_list())"
    },
    "r": {
     "delete_cmd_postfix": ") ",
     "delete_cmd_prefix": "rm(",
     "library": "var_list.r",
     "varRefreshCmd": "cat(var_dic_list()) "
    }
   },
   "types_to_exclude": [
    "module",
    "function",
    "builtin_function_or_method",
    "instance",
    "_Feature"
   ],
   "window_display": false
  }
 },
 "nbformat": 4,
 "nbformat_minor": 2
}
